{
  "cells": [
    {
      "cell_type": "markdown",
      "metadata": {
        "id": "4O8Cl3EMqnHB",
        "papermill": {
          "duration": 0.008057,
          "end_time": "2023-12-11T12:09:41.727242",
          "exception": false,
          "start_time": "2023-12-11T12:09:41.719185",
          "status": "completed"
        },
        "tags": []
      },
      "source": [
        "<font color='tomato'><font color=\"#CC3D3D\"><p>\n",
        "# Baseline Code (v1.0)"
      ]
    },
    {
      "cell_type": "markdown",
      "metadata": {
        "id": "FJ5SJKjtqnHD",
        "papermill": {
          "duration": 0.007344,
          "end_time": "2023-12-11T12:09:41.742361",
          "exception": false,
          "start_time": "2023-12-11T12:09:41.735017",
          "status": "completed"
        },
        "tags": []
      },
      "source": [
        "- **문제**   \n",
        "*\"각 패널에게 어떤 온라인 설문조사를 요청해야 응답할까?\"*    \n",
        "**KML Challenge 2023F**에서는 이 문제를 가장 잘 해결할 수 있는 예측 모델을 개발하는 것이 목적\n",
        "- **평가척도**   \n",
        "정확도(Accuracy)\n",
        "- **데이터**   \n",
        "   - train.csv(학습데이터), test.csv(평가테이터)\n",
        "   - 각 데이터 포인트는 패널 정보, 설문정보, 응답여부(STATUS)로 구성"
      ]
    },
    {
      "cell_type": "markdown",
      "metadata": {
        "id": "GkSY-ILPqnHD",
        "papermill": {
          "duration": 0.007459,
          "end_time": "2023-12-11T12:09:41.757454",
          "exception": false,
          "start_time": "2023-12-11T12:09:41.749995",
          "status": "completed"
        },
        "tags": []
      },
      "source": [
        "### Imports"
      ]
    },
    {
      "cell_type": "code",
      "execution_count": 22,
      "metadata": {
        "colab": {
          "base_uri": "https://localhost:8080/"
        },
        "execution": {
          "iopub.execute_input": "2023-12-12T02:01:50.081224Z",
          "iopub.status.busy": "2023-12-12T02:01:50.080834Z",
          "iopub.status.idle": "2023-12-12T02:01:50.091786Z",
          "shell.execute_reply": "2023-12-12T02:01:50.090431Z",
          "shell.execute_reply.started": "2023-12-12T02:01:50.081193Z"
        },
        "id": "cYn7kULAqnHD",
        "outputId": "a1c8e26b-40c4-44b4-f719-7eb6b03c98e2",
        "papermill": {
          "duration": 4.333282,
          "end_time": "2023-12-11T12:09:46.0985",
          "exception": false,
          "start_time": "2023-12-11T12:09:41.765218",
          "status": "completed"
        },
        "scrolled": false,
        "tags": []
      },
      "outputs": [
        {
          "name": "stdout",
          "output_type": "stream",
          "text": [
            "2.15.0\n"
          ]
        }
      ],
      "source": [
        "import pandas as pd\n",
        "import numpy as np\n",
        "import os\n",
        "import random\n",
        "import pickle\n",
        "import gc\n",
        "import re\n",
        "import warnings; warnings.filterwarnings(\"ignore\")\n",
        "import seaborn as sns\n",
        "import matplotlib.pylab as plt\n",
        "from matplotlib import font_manager, rc\n",
        "%matplotlib inline\n",
        "from sklearn.impute import SimpleImputer\n",
        "from sklearn.preprocessing import StandardScaler\n",
        "from sklearn.preprocessing import OrdinalEncoder\n",
        "from lightgbm import LGBMClassifier\n",
        "from catboost import CatBoostClassifier\n",
        "\n",
        "#Base & visualization\n",
        "import pandas as pd\n",
        "import random\n",
        "import os\n",
        "import numpy as np\n",
        "import warnings\n",
        "import matplotlib.pylab as plt\n",
        "import seaborn as sns\n",
        "\n",
        "#sklearn module & utils\n",
        "from tqdm.notebook import tqdm\n",
        "from sklearn.feature_selection import SelectPercentile\n",
        "from sklearn.model_selection import StratifiedKFold , KFold, train_test_split, cross_val_score, cross_validate\n",
        "from sklearn.feature_selection import SelectPercentile\n",
        "warnings.filterwarnings('ignore')\n",
        "\n",
        "#Scaling\n",
        "from sklearn.preprocessing import StandardScaler, LabelEncoder\n",
        "from sklearn.preprocessing import PowerTransformer\n",
        "\n",
        "# Encoding\n",
        "import category_encoders as ce\n",
        "from sklearn.preprocessing import OrdinalEncoder\n",
        "from sklearn.preprocessing import LabelEncoder\n",
        "\n",
        "#Modeling\n",
        "from sklearn.ensemble import BaggingClassifier, GradientBoostingClassifier, VotingClassifier,RandomForestClassifier\n",
        "from sklearn.tree import DecisionTreeClassifier\n",
        "from sklearn.linear_model import RidgeClassifier, RidgeClassifierCV\n",
        "from sklearn.svm import SVC\n",
        "from lightgbm import LGBMClassifier\n",
        "from xgboost import XGBClassifier\n",
        "from catboost import CatBoostClassifier\n",
        "from sklearn.ensemble import ExtraTreesClassifier\n",
        "import time\n",
        "import optuna\n",
        "from optuna.samplers import TPESampler\n",
        "from sklearn.model_selection import KFold\n",
        "from sklearn.metrics import accuracy_score\n",
        "import shap\n",
        "# from featurizer import KMeansFeaturizer\n",
        "\n",
        "#Scoring\n",
        "from sklearn.metrics import roc_auc_score\n",
        "from sklearn.metrics import f1_score\n",
        "\n",
        "from tqdm.auto import trange\n",
        "import pickle\n",
        "import gzip\n",
        "import tensorflow as tf\n",
        "from tensorflow import keras\n",
        "import kerastuner as kt\n",
        "print(tf.__version__)"
      ]
    },
    {
      "cell_type": "code",
      "execution_count": 23,
      "metadata": {
        "id": "wXmXv4EsqnHE"
      },
      "outputs": [],
      "source": [
        "# reset_seeds()함수를 아래와 같이 수정해야 함.\n",
        "def reset_seeds(SEED, reset_graph_with_backend=None):\n",
        "    if reset_graph_with_backend is not None:\n",
        "        K = reset_graph_with_backend\n",
        "        K.clear_session()\n",
        "        tf.compat.v1.reset_default_graph()\n",
        "        print(\"KERAS AND TENSORFLOW GRAPHS RESET\")  # optional\n",
        "\n",
        "    np.random.seed(SEED)\n",
        "    random.seed(SEED)\n",
        "    tf.compat.v1.set_random_seed(SEED)\n",
        "    os.environ['CUDA_VISIBLE_DEVICES'] = ''  # for GPU\n",
        "    print(\"RANDOM SEEDS RESET: \", SEED)  # optional"
      ]
    },
    {
      "cell_type": "markdown",
      "metadata": {
        "id": "h29WsQV-qnHE",
        "papermill": {
          "duration": 0.007391,
          "end_time": "2023-12-11T12:09:46.113997",
          "exception": false,
          "start_time": "2023-12-11T12:09:46.106606",
          "status": "completed"
        },
        "tags": []
      },
      "source": [
        "### Data Loading"
      ]
    },
    {
      "cell_type": "code",
      "execution_count": 24,
      "metadata": {
        "execution": {
          "iopub.execute_input": "2023-12-12T02:01:50.094945Z",
          "iopub.status.busy": "2023-12-12T02:01:50.094535Z",
          "iopub.status.idle": "2023-12-12T02:02:00.091602Z",
          "shell.execute_reply": "2023-12-12T02:02:00.090674Z",
          "shell.execute_reply.started": "2023-12-12T02:01:50.094911Z"
        },
        "id": "kd83B3yIqnHE",
        "papermill": {
          "duration": 9.856697,
          "end_time": "2023-12-11T12:09:55.978973",
          "exception": false,
          "start_time": "2023-12-11T12:09:46.122276",
          "status": "completed"
        },
        "scrolled": true,
        "tags": []
      },
      "outputs": [],
      "source": [
        "train = pd.read_csv('/content/train.csv', encoding='cp949')\n",
        "test = pd.read_csv('/content/test.csv', encoding='cp949')"
      ]
    },
    {
      "cell_type": "code",
      "execution_count": 25,
      "metadata": {
        "colab": {
          "base_uri": "https://localhost:8080/",
          "height": 808
        },
        "execution": {
          "iopub.execute_input": "2023-12-12T02:02:00.093535Z",
          "iopub.status.busy": "2023-12-12T02:02:00.092975Z",
          "iopub.status.idle": "2023-12-12T02:02:00.471450Z",
          "shell.execute_reply": "2023-12-12T02:02:00.470630Z",
          "shell.execute_reply.started": "2023-12-12T02:02:00.093500Z"
        },
        "id": "R9zKDvrjqnHE",
        "outputId": "0be11ce2-4130-4163-974f-8987fc009f52",
        "papermill": {
          "duration": 0.364594,
          "end_time": "2023-12-11T12:09:56.351107",
          "exception": false,
          "start_time": "2023-12-11T12:09:55.986513",
          "status": "completed"
        },
        "scrolled": true,
        "tags": []
      },
      "outputs": [
        {
          "data": {
            "text/html": [
              "\n",
              "  <div id=\"df-0a20ed2b-9c4e-4416-a6cf-2ddb958d3abe\" class=\"colab-df-container\">\n",
              "    <div>\n",
              "<style scoped>\n",
              "    .dataframe tbody tr th:only-of-type {\n",
              "        vertical-align: middle;\n",
              "    }\n",
              "\n",
              "    .dataframe tbody tr th {\n",
              "        vertical-align: top;\n",
              "    }\n",
              "\n",
              "    .dataframe thead th {\n",
              "        text-align: right;\n",
              "    }\n",
              "</style>\n",
              "<table border=\"1\" class=\"dataframe\">\n",
              "  <thead>\n",
              "    <tr style=\"text-align: right;\">\n",
              "      <th></th>\n",
              "      <th>userID</th>\n",
              "      <th>surveyID</th>\n",
              "      <th>BIRTH</th>\n",
              "      <th>GENDER</th>\n",
              "      <th>REGION</th>\n",
              "      <th>TYPE</th>\n",
              "      <th>SQ1</th>\n",
              "      <th>SQ2</th>\n",
              "      <th>SQ3</th>\n",
              "      <th>SQ4</th>\n",
              "      <th>...</th>\n",
              "      <th>DQ4</th>\n",
              "      <th>DQ5</th>\n",
              "      <th>DQ6</th>\n",
              "      <th>DQ7</th>\n",
              "      <th>TITLE</th>\n",
              "      <th>IR</th>\n",
              "      <th>LOI</th>\n",
              "      <th>CATEGORIES</th>\n",
              "      <th>CPI</th>\n",
              "      <th>STATUS</th>\n",
              "    </tr>\n",
              "  </thead>\n",
              "  <tbody>\n",
              "    <tr>\n",
              "      <th>0</th>\n",
              "      <td>p00000</td>\n",
              "      <td>s04673</td>\n",
              "      <td>1976.0</td>\n",
              "      <td>1.0</td>\n",
              "      <td>2.0</td>\n",
              "      <td>D</td>\n",
              "      <td>1.0</td>\n",
              "      <td>1976.0</td>\n",
              "      <td>1.0</td>\n",
              "      <td>1,</td>\n",
              "      <td>...</td>\n",
              "      <td>NaN</td>\n",
              "      <td>NaN</td>\n",
              "      <td>NaN</td>\n",
              "      <td>NaN</td>\n",
              "      <td>해외-일반인의견조사(G-925574)</td>\n",
              "      <td>100</td>\n",
              "      <td>13.0</td>\n",
              "      <td>NaN</td>\n",
              "      <td>715.0</td>\n",
              "      <td>1.0</td>\n",
              "    </tr>\n",
              "    <tr>\n",
              "      <th>1</th>\n",
              "      <td>p00000</td>\n",
              "      <td>s04675</td>\n",
              "      <td>1976.0</td>\n",
              "      <td>1.0</td>\n",
              "      <td>2.0</td>\n",
              "      <td>D</td>\n",
              "      <td>1.0</td>\n",
              "      <td>1976.0</td>\n",
              "      <td>1.0</td>\n",
              "      <td>1,</td>\n",
              "      <td>...</td>\n",
              "      <td>NaN</td>\n",
              "      <td>NaN</td>\n",
              "      <td>NaN</td>\n",
              "      <td>NaN</td>\n",
              "      <td>해외-일반인의견조사(G-926698)</td>\n",
              "      <td>100</td>\n",
              "      <td>10.0</td>\n",
              "      <td>NaN</td>\n",
              "      <td>550.0</td>\n",
              "      <td>1.0</td>\n",
              "    </tr>\n",
              "    <tr>\n",
              "      <th>2</th>\n",
              "      <td>p00000</td>\n",
              "      <td>s04683</td>\n",
              "      <td>1976.0</td>\n",
              "      <td>1.0</td>\n",
              "      <td>2.0</td>\n",
              "      <td>D</td>\n",
              "      <td>1.0</td>\n",
              "      <td>1976.0</td>\n",
              "      <td>1.0</td>\n",
              "      <td>1,</td>\n",
              "      <td>...</td>\n",
              "      <td>NaN</td>\n",
              "      <td>NaN</td>\n",
              "      <td>NaN</td>\n",
              "      <td>NaN</td>\n",
              "      <td>해외---일반인-의견-조사-(DR-1379333)S</td>\n",
              "      <td>100</td>\n",
              "      <td>12.0</td>\n",
              "      <td>NaN</td>\n",
              "      <td>480.0</td>\n",
              "      <td>1.0</td>\n",
              "    </tr>\n",
              "    <tr>\n",
              "      <th>3</th>\n",
              "      <td>p00000</td>\n",
              "      <td>s04684</td>\n",
              "      <td>1976.0</td>\n",
              "      <td>1.0</td>\n",
              "      <td>2.0</td>\n",
              "      <td>D</td>\n",
              "      <td>1.0</td>\n",
              "      <td>1976.0</td>\n",
              "      <td>1.0</td>\n",
              "      <td>1,</td>\n",
              "      <td>...</td>\n",
              "      <td>NaN</td>\n",
              "      <td>NaN</td>\n",
              "      <td>NaN</td>\n",
              "      <td>NaN</td>\n",
              "      <td>해외---일반인-의견-조사-(DR-8609533)S</td>\n",
              "      <td>100</td>\n",
              "      <td>12.0</td>\n",
              "      <td>NaN</td>\n",
              "      <td>480.0</td>\n",
              "      <td>1.0</td>\n",
              "    </tr>\n",
              "    <tr>\n",
              "      <th>4</th>\n",
              "      <td>p00000</td>\n",
              "      <td>s04686</td>\n",
              "      <td>1976.0</td>\n",
              "      <td>1.0</td>\n",
              "      <td>2.0</td>\n",
              "      <td>D</td>\n",
              "      <td>1.0</td>\n",
              "      <td>1976.0</td>\n",
              "      <td>1.0</td>\n",
              "      <td>1,</td>\n",
              "      <td>...</td>\n",
              "      <td>NaN</td>\n",
              "      <td>NaN</td>\n",
              "      <td>NaN</td>\n",
              "      <td>NaN</td>\n",
              "      <td>해외---일반인-의견-조사-(DR-9958375)L</td>\n",
              "      <td>100</td>\n",
              "      <td>15.0</td>\n",
              "      <td>NaN</td>\n",
              "      <td>600.0</td>\n",
              "      <td>1.0</td>\n",
              "    </tr>\n",
              "    <tr>\n",
              "      <th>...</th>\n",
              "      <td>...</td>\n",
              "      <td>...</td>\n",
              "      <td>...</td>\n",
              "      <td>...</td>\n",
              "      <td>...</td>\n",
              "      <td>...</td>\n",
              "      <td>...</td>\n",
              "      <td>...</td>\n",
              "      <td>...</td>\n",
              "      <td>...</td>\n",
              "      <td>...</td>\n",
              "      <td>...</td>\n",
              "      <td>...</td>\n",
              "      <td>...</td>\n",
              "      <td>...</td>\n",
              "      <td>...</td>\n",
              "      <td>...</td>\n",
              "      <td>...</td>\n",
              "      <td>...</td>\n",
              "      <td>...</td>\n",
              "      <td>...</td>\n",
              "    </tr>\n",
              "    <tr>\n",
              "      <th>789099</th>\n",
              "      <td>p15567</td>\n",
              "      <td>s05436</td>\n",
              "      <td>1979.0</td>\n",
              "      <td>2.0</td>\n",
              "      <td>128.0</td>\n",
              "      <td>C</td>\n",
              "      <td>2.0</td>\n",
              "      <td>1979.0</td>\n",
              "      <td>4.0</td>\n",
              "      <td>1</td>\n",
              "      <td>...</td>\n",
              "      <td>NaN</td>\n",
              "      <td>NaN</td>\n",
              "      <td>NaN</td>\n",
              "      <td>NaN</td>\n",
              "      <td>해외-일반인의견조사(G-975121)</td>\n",
              "      <td>100</td>\n",
              "      <td>4.0</td>\n",
              "      <td>NaN</td>\n",
              "      <td>220.0</td>\n",
              "      <td>1.0</td>\n",
              "    </tr>\n",
              "    <tr>\n",
              "      <th>789100</th>\n",
              "      <td>p15567</td>\n",
              "      <td>s05440</td>\n",
              "      <td>1979.0</td>\n",
              "      <td>2.0</td>\n",
              "      <td>128.0</td>\n",
              "      <td>C</td>\n",
              "      <td>2.0</td>\n",
              "      <td>1979.0</td>\n",
              "      <td>4.0</td>\n",
              "      <td>1</td>\n",
              "      <td>...</td>\n",
              "      <td>NaN</td>\n",
              "      <td>NaN</td>\n",
              "      <td>NaN</td>\n",
              "      <td>NaN</td>\n",
              "      <td>해외---일반인-의견-조사-(DR-6715815)L</td>\n",
              "      <td>100</td>\n",
              "      <td>15.0</td>\n",
              "      <td>NaN</td>\n",
              "      <td>600.0</td>\n",
              "      <td>0.0</td>\n",
              "    </tr>\n",
              "    <tr>\n",
              "      <th>789101</th>\n",
              "      <td>p15567</td>\n",
              "      <td>s05505</td>\n",
              "      <td>1979.0</td>\n",
              "      <td>2.0</td>\n",
              "      <td>128.0</td>\n",
              "      <td>C</td>\n",
              "      <td>2.0</td>\n",
              "      <td>1979.0</td>\n",
              "      <td>4.0</td>\n",
              "      <td>1</td>\n",
              "      <td>...</td>\n",
              "      <td>NaN</td>\n",
              "      <td>NaN</td>\n",
              "      <td>NaN</td>\n",
              "      <td>NaN</td>\n",
              "      <td>해외-일반인의견조사(G-976021)</td>\n",
              "      <td>100</td>\n",
              "      <td>5.0</td>\n",
              "      <td>NaN</td>\n",
              "      <td>275.0</td>\n",
              "      <td>0.0</td>\n",
              "    </tr>\n",
              "    <tr>\n",
              "      <th>789102</th>\n",
              "      <td>p15567</td>\n",
              "      <td>s05519</td>\n",
              "      <td>1979.0</td>\n",
              "      <td>2.0</td>\n",
              "      <td>128.0</td>\n",
              "      <td>C</td>\n",
              "      <td>2.0</td>\n",
              "      <td>1979.0</td>\n",
              "      <td>4.0</td>\n",
              "      <td>1</td>\n",
              "      <td>...</td>\n",
              "      <td>NaN</td>\n",
              "      <td>NaN</td>\n",
              "      <td>NaN</td>\n",
              "      <td>NaN</td>\n",
              "      <td>해외---일반인-의견-조사-(DN-967191484610)</td>\n",
              "      <td>50</td>\n",
              "      <td>10.0</td>\n",
              "      <td>etc</td>\n",
              "      <td>550.0</td>\n",
              "      <td>0.0</td>\n",
              "    </tr>\n",
              "    <tr>\n",
              "      <th>789103</th>\n",
              "      <td>p15567</td>\n",
              "      <td>s05523</td>\n",
              "      <td>1979.0</td>\n",
              "      <td>2.0</td>\n",
              "      <td>128.0</td>\n",
              "      <td>C</td>\n",
              "      <td>2.0</td>\n",
              "      <td>1979.0</td>\n",
              "      <td>4.0</td>\n",
              "      <td>1</td>\n",
              "      <td>...</td>\n",
              "      <td>NaN</td>\n",
              "      <td>NaN</td>\n",
              "      <td>NaN</td>\n",
              "      <td>NaN</td>\n",
              "      <td>해외---일반인-의견-조사-(DR-0075871)L</td>\n",
              "      <td>1</td>\n",
              "      <td>NaN</td>\n",
              "      <td>NaN</td>\n",
              "      <td>NaN</td>\n",
              "      <td>NaN</td>\n",
              "    </tr>\n",
              "  </tbody>\n",
              "</table>\n",
              "<p>789104 rows × 44 columns</p>\n",
              "</div>\n",
              "    <div class=\"colab-df-buttons\">\n",
              "\n",
              "  <div class=\"colab-df-container\">\n",
              "    <button class=\"colab-df-convert\" onclick=\"convertToInteractive('df-0a20ed2b-9c4e-4416-a6cf-2ddb958d3abe')\"\n",
              "            title=\"Convert this dataframe to an interactive table.\"\n",
              "            style=\"display:none;\">\n",
              "\n",
              "  <svg xmlns=\"http://www.w3.org/2000/svg\" height=\"24px\" viewBox=\"0 -960 960 960\">\n",
              "    <path d=\"M120-120v-720h720v720H120Zm60-500h600v-160H180v160Zm220 220h160v-160H400v160Zm0 220h160v-160H400v160ZM180-400h160v-160H180v160Zm440 0h160v-160H620v160ZM180-180h160v-160H180v160Zm440 0h160v-160H620v160Z\"/>\n",
              "  </svg>\n",
              "    </button>\n",
              "\n",
              "  <style>\n",
              "    .colab-df-container {\n",
              "      display:flex;\n",
              "      gap: 12px;\n",
              "    }\n",
              "\n",
              "    .colab-df-convert {\n",
              "      background-color: #E8F0FE;\n",
              "      border: none;\n",
              "      border-radius: 50%;\n",
              "      cursor: pointer;\n",
              "      display: none;\n",
              "      fill: #1967D2;\n",
              "      height: 32px;\n",
              "      padding: 0 0 0 0;\n",
              "      width: 32px;\n",
              "    }\n",
              "\n",
              "    .colab-df-convert:hover {\n",
              "      background-color: #E2EBFA;\n",
              "      box-shadow: 0px 1px 2px rgba(60, 64, 67, 0.3), 0px 1px 3px 1px rgba(60, 64, 67, 0.15);\n",
              "      fill: #174EA6;\n",
              "    }\n",
              "\n",
              "    .colab-df-buttons div {\n",
              "      margin-bottom: 4px;\n",
              "    }\n",
              "\n",
              "    [theme=dark] .colab-df-convert {\n",
              "      background-color: #3B4455;\n",
              "      fill: #D2E3FC;\n",
              "    }\n",
              "\n",
              "    [theme=dark] .colab-df-convert:hover {\n",
              "      background-color: #434B5C;\n",
              "      box-shadow: 0px 1px 3px 1px rgba(0, 0, 0, 0.15);\n",
              "      filter: drop-shadow(0px 1px 2px rgba(0, 0, 0, 0.3));\n",
              "      fill: #FFFFFF;\n",
              "    }\n",
              "  </style>\n",
              "\n",
              "    <script>\n",
              "      const buttonEl =\n",
              "        document.querySelector('#df-0a20ed2b-9c4e-4416-a6cf-2ddb958d3abe button.colab-df-convert');\n",
              "      buttonEl.style.display =\n",
              "        google.colab.kernel.accessAllowed ? 'block' : 'none';\n",
              "\n",
              "      async function convertToInteractive(key) {\n",
              "        const element = document.querySelector('#df-0a20ed2b-9c4e-4416-a6cf-2ddb958d3abe');\n",
              "        const dataTable =\n",
              "          await google.colab.kernel.invokeFunction('convertToInteractive',\n",
              "                                                    [key], {});\n",
              "        if (!dataTable) return;\n",
              "\n",
              "        const docLinkHtml = 'Like what you see? Visit the ' +\n",
              "          '<a target=\"_blank\" href=https://colab.research.google.com/notebooks/data_table.ipynb>data table notebook</a>'\n",
              "          + ' to learn more about interactive tables.';\n",
              "        element.innerHTML = '';\n",
              "        dataTable['output_type'] = 'display_data';\n",
              "        await google.colab.output.renderOutput(dataTable, element);\n",
              "        const docLink = document.createElement('div');\n",
              "        docLink.innerHTML = docLinkHtml;\n",
              "        element.appendChild(docLink);\n",
              "      }\n",
              "    </script>\n",
              "  </div>\n",
              "\n",
              "\n",
              "<div id=\"df-a9167cf1-bea7-4383-9155-4b784eadcada\">\n",
              "  <button class=\"colab-df-quickchart\" onclick=\"quickchart('df-a9167cf1-bea7-4383-9155-4b784eadcada')\"\n",
              "            title=\"Suggest charts\"\n",
              "            style=\"display:none;\">\n",
              "\n",
              "<svg xmlns=\"http://www.w3.org/2000/svg\" height=\"24px\"viewBox=\"0 0 24 24\"\n",
              "     width=\"24px\">\n",
              "    <g>\n",
              "        <path d=\"M19 3H5c-1.1 0-2 .9-2 2v14c0 1.1.9 2 2 2h14c1.1 0 2-.9 2-2V5c0-1.1-.9-2-2-2zM9 17H7v-7h2v7zm4 0h-2V7h2v10zm4 0h-2v-4h2v4z\"/>\n",
              "    </g>\n",
              "</svg>\n",
              "  </button>\n",
              "\n",
              "<style>\n",
              "  .colab-df-quickchart {\n",
              "      --bg-color: #E8F0FE;\n",
              "      --fill-color: #1967D2;\n",
              "      --hover-bg-color: #E2EBFA;\n",
              "      --hover-fill-color: #174EA6;\n",
              "      --disabled-fill-color: #AAA;\n",
              "      --disabled-bg-color: #DDD;\n",
              "  }\n",
              "\n",
              "  [theme=dark] .colab-df-quickchart {\n",
              "      --bg-color: #3B4455;\n",
              "      --fill-color: #D2E3FC;\n",
              "      --hover-bg-color: #434B5C;\n",
              "      --hover-fill-color: #FFFFFF;\n",
              "      --disabled-bg-color: #3B4455;\n",
              "      --disabled-fill-color: #666;\n",
              "  }\n",
              "\n",
              "  .colab-df-quickchart {\n",
              "    background-color: var(--bg-color);\n",
              "    border: none;\n",
              "    border-radius: 50%;\n",
              "    cursor: pointer;\n",
              "    display: none;\n",
              "    fill: var(--fill-color);\n",
              "    height: 32px;\n",
              "    padding: 0;\n",
              "    width: 32px;\n",
              "  }\n",
              "\n",
              "  .colab-df-quickchart:hover {\n",
              "    background-color: var(--hover-bg-color);\n",
              "    box-shadow: 0 1px 2px rgba(60, 64, 67, 0.3), 0 1px 3px 1px rgba(60, 64, 67, 0.15);\n",
              "    fill: var(--button-hover-fill-color);\n",
              "  }\n",
              "\n",
              "  .colab-df-quickchart-complete:disabled,\n",
              "  .colab-df-quickchart-complete:disabled:hover {\n",
              "    background-color: var(--disabled-bg-color);\n",
              "    fill: var(--disabled-fill-color);\n",
              "    box-shadow: none;\n",
              "  }\n",
              "\n",
              "  .colab-df-spinner {\n",
              "    border: 2px solid var(--fill-color);\n",
              "    border-color: transparent;\n",
              "    border-bottom-color: var(--fill-color);\n",
              "    animation:\n",
              "      spin 1s steps(1) infinite;\n",
              "  }\n",
              "\n",
              "  @keyframes spin {\n",
              "    0% {\n",
              "      border-color: transparent;\n",
              "      border-bottom-color: var(--fill-color);\n",
              "      border-left-color: var(--fill-color);\n",
              "    }\n",
              "    20% {\n",
              "      border-color: transparent;\n",
              "      border-left-color: var(--fill-color);\n",
              "      border-top-color: var(--fill-color);\n",
              "    }\n",
              "    30% {\n",
              "      border-color: transparent;\n",
              "      border-left-color: var(--fill-color);\n",
              "      border-top-color: var(--fill-color);\n",
              "      border-right-color: var(--fill-color);\n",
              "    }\n",
              "    40% {\n",
              "      border-color: transparent;\n",
              "      border-right-color: var(--fill-color);\n",
              "      border-top-color: var(--fill-color);\n",
              "    }\n",
              "    60% {\n",
              "      border-color: transparent;\n",
              "      border-right-color: var(--fill-color);\n",
              "    }\n",
              "    80% {\n",
              "      border-color: transparent;\n",
              "      border-right-color: var(--fill-color);\n",
              "      border-bottom-color: var(--fill-color);\n",
              "    }\n",
              "    90% {\n",
              "      border-color: transparent;\n",
              "      border-bottom-color: var(--fill-color);\n",
              "    }\n",
              "  }\n",
              "</style>\n",
              "\n",
              "  <script>\n",
              "    async function quickchart(key) {\n",
              "      const quickchartButtonEl =\n",
              "        document.querySelector('#' + key + ' button');\n",
              "      quickchartButtonEl.disabled = true;  // To prevent multiple clicks.\n",
              "      quickchartButtonEl.classList.add('colab-df-spinner');\n",
              "      try {\n",
              "        const charts = await google.colab.kernel.invokeFunction(\n",
              "            'suggestCharts', [key], {});\n",
              "      } catch (error) {\n",
              "        console.error('Error during call to suggestCharts:', error);\n",
              "      }\n",
              "      quickchartButtonEl.classList.remove('colab-df-spinner');\n",
              "      quickchartButtonEl.classList.add('colab-df-quickchart-complete');\n",
              "    }\n",
              "    (() => {\n",
              "      let quickchartButtonEl =\n",
              "        document.querySelector('#df-a9167cf1-bea7-4383-9155-4b784eadcada button');\n",
              "      quickchartButtonEl.style.display =\n",
              "        google.colab.kernel.accessAllowed ? 'block' : 'none';\n",
              "    })();\n",
              "  </script>\n",
              "</div>\n",
              "\n",
              "  <div id=\"id_65aee48b-1eae-4165-b4fa-388d6a9c3136\">\n",
              "    <style>\n",
              "      .colab-df-generate {\n",
              "        background-color: #E8F0FE;\n",
              "        border: none;\n",
              "        border-radius: 50%;\n",
              "        cursor: pointer;\n",
              "        display: none;\n",
              "        fill: #1967D2;\n",
              "        height: 32px;\n",
              "        padding: 0 0 0 0;\n",
              "        width: 32px;\n",
              "      }\n",
              "\n",
              "      .colab-df-generate:hover {\n",
              "        background-color: #E2EBFA;\n",
              "        box-shadow: 0px 1px 2px rgba(60, 64, 67, 0.3), 0px 1px 3px 1px rgba(60, 64, 67, 0.15);\n",
              "        fill: #174EA6;\n",
              "      }\n",
              "\n",
              "      [theme=dark] .colab-df-generate {\n",
              "        background-color: #3B4455;\n",
              "        fill: #D2E3FC;\n",
              "      }\n",
              "\n",
              "      [theme=dark] .colab-df-generate:hover {\n",
              "        background-color: #434B5C;\n",
              "        box-shadow: 0px 1px 3px 1px rgba(0, 0, 0, 0.15);\n",
              "        filter: drop-shadow(0px 1px 2px rgba(0, 0, 0, 0.3));\n",
              "        fill: #FFFFFF;\n",
              "      }\n",
              "    </style>\n",
              "    <button class=\"colab-df-generate\" onclick=\"generateWithVariable('train')\"\n",
              "            title=\"Generate code using this dataframe.\"\n",
              "            style=\"display:none;\">\n",
              "\n",
              "  <svg xmlns=\"http://www.w3.org/2000/svg\" height=\"24px\"viewBox=\"0 0 24 24\"\n",
              "       width=\"24px\">\n",
              "    <path d=\"M7,19H8.4L18.45,9,17,7.55,7,17.6ZM5,21V16.75L18.45,3.32a2,2,0,0,1,2.83,0l1.4,1.43a1.91,1.91,0,0,1,.58,1.4,1.91,1.91,0,0,1-.58,1.4L9.25,21ZM18.45,9,17,7.55Zm-12,3A5.31,5.31,0,0,0,4.9,8.1,5.31,5.31,0,0,0,1,6.5,5.31,5.31,0,0,0,4.9,4.9,5.31,5.31,0,0,0,6.5,1,5.31,5.31,0,0,0,8.1,4.9,5.31,5.31,0,0,0,12,6.5,5.46,5.46,0,0,0,6.5,12Z\"/>\n",
              "  </svg>\n",
              "    </button>\n",
              "    <script>\n",
              "      (() => {\n",
              "      const buttonEl =\n",
              "        document.querySelector('#id_65aee48b-1eae-4165-b4fa-388d6a9c3136 button.colab-df-generate');\n",
              "      buttonEl.style.display =\n",
              "        google.colab.kernel.accessAllowed ? 'block' : 'none';\n",
              "\n",
              "      buttonEl.onclick = () => {\n",
              "        google.colab.notebook.generateWithVariable('train');\n",
              "      }\n",
              "      })();\n",
              "    </script>\n",
              "  </div>\n",
              "\n",
              "    </div>\n",
              "  </div>\n"
            ],
            "text/plain": [
              "        userID surveyID   BIRTH  GENDER  REGION TYPE  SQ1     SQ2  SQ3 SQ4  \\\n",
              "0       p00000   s04673  1976.0     1.0     2.0    D  1.0  1976.0  1.0  1,   \n",
              "1       p00000   s04675  1976.0     1.0     2.0    D  1.0  1976.0  1.0  1,   \n",
              "2       p00000   s04683  1976.0     1.0     2.0    D  1.0  1976.0  1.0  1,   \n",
              "3       p00000   s04684  1976.0     1.0     2.0    D  1.0  1976.0  1.0  1,   \n",
              "4       p00000   s04686  1976.0     1.0     2.0    D  1.0  1976.0  1.0  1,   \n",
              "...        ...      ...     ...     ...     ...  ...  ...     ...  ...  ..   \n",
              "789099  p15567   s05436  1979.0     2.0   128.0    C  2.0  1979.0  4.0   1   \n",
              "789100  p15567   s05440  1979.0     2.0   128.0    C  2.0  1979.0  4.0   1   \n",
              "789101  p15567   s05505  1979.0     2.0   128.0    C  2.0  1979.0  4.0   1   \n",
              "789102  p15567   s05519  1979.0     2.0   128.0    C  2.0  1979.0  4.0   1   \n",
              "789103  p15567   s05523  1979.0     2.0   128.0    C  2.0  1979.0  4.0   1   \n",
              "\n",
              "        ...  DQ4 DQ5 DQ6 DQ7                             TITLE   IR   LOI  \\\n",
              "0       ...  NaN NaN NaN NaN              해외-일반인의견조사(G-925574)  100  13.0   \n",
              "1       ...  NaN NaN NaN NaN              해외-일반인의견조사(G-926698)  100  10.0   \n",
              "2       ...  NaN NaN NaN NaN      해외---일반인-의견-조사-(DR-1379333)S  100  12.0   \n",
              "3       ...  NaN NaN NaN NaN      해외---일반인-의견-조사-(DR-8609533)S  100  12.0   \n",
              "4       ...  NaN NaN NaN NaN      해외---일반인-의견-조사-(DR-9958375)L  100  15.0   \n",
              "...     ...  ...  ..  ..  ..                               ...  ...   ...   \n",
              "789099  ...  NaN NaN NaN NaN              해외-일반인의견조사(G-975121)  100   4.0   \n",
              "789100  ...  NaN NaN NaN NaN      해외---일반인-의견-조사-(DR-6715815)L  100  15.0   \n",
              "789101  ...  NaN NaN NaN NaN              해외-일반인의견조사(G-976021)  100   5.0   \n",
              "789102  ...  NaN NaN NaN NaN  해외---일반인-의견-조사-(DN-967191484610)   50  10.0   \n",
              "789103  ...  NaN NaN NaN NaN      해외---일반인-의견-조사-(DR-0075871)L    1   NaN   \n",
              "\n",
              "       CATEGORIES    CPI STATUS  \n",
              "0             NaN  715.0    1.0  \n",
              "1             NaN  550.0    1.0  \n",
              "2             NaN  480.0    1.0  \n",
              "3             NaN  480.0    1.0  \n",
              "4             NaN  600.0    1.0  \n",
              "...           ...    ...    ...  \n",
              "789099        NaN  220.0    1.0  \n",
              "789100        NaN  600.0    0.0  \n",
              "789101        NaN  275.0    0.0  \n",
              "789102        etc  550.0    0.0  \n",
              "789103        NaN    NaN    NaN  \n",
              "\n",
              "[789104 rows x 44 columns]"
            ]
          },
          "execution_count": 25,
          "metadata": {},
          "output_type": "execute_result"
        }
      ],
      "source": [
        "train"
      ]
    },
    {
      "cell_type": "code",
      "execution_count": 26,
      "metadata": {
        "colab": {
          "base_uri": "https://localhost:8080/"
        },
        "id": "60-hQk5XqnHF",
        "outputId": "94e96859-7347-4d60-80d2-f31b671a19c9"
      },
      "outputs": [
        {
          "data": {
            "text/plain": [
              "0.0    483065\n",
              "1.0    306038\n",
              "Name: STATUS, dtype: int64"
            ]
          },
          "execution_count": 26,
          "metadata": {},
          "output_type": "execute_result"
        }
      ],
      "source": [
        "train[\"STATUS\"].value_counts()"
      ]
    },
    {
      "cell_type": "markdown",
      "metadata": {
        "id": "kl98VvMLqnHF",
        "papermill": {
          "duration": 0.008288,
          "end_time": "2023-12-11T12:09:56.368685",
          "exception": false,
          "start_time": "2023-12-11T12:09:56.360397",
          "status": "completed"
        },
        "tags": []
      },
      "source": [
        "### 데이터 설명\n",
        "- **패널(Panel) 데이터**\n",
        "  - userID: 패널 ID\n",
        "  - BIRTH: 생일(연도)\n",
        "  - GENDER: 1(남자) 2(여자)\n",
        "  - REGION: 거주지역\n",
        "  - TYPE: 패널 구분\n",
        "  - SQ1 ~ DQ7: 패널 가입 시 설문한 데이터로 각 필드에 대해서는 [상세설명](https://docs.google.com/spreadsheets/d/1pY6MYTSkyHrGLmMTU8tX_xlD8fPut6Ob/edit?usp=sharing&ouid=107121563618260277687&rtpof=true&sd=true) 참조\n",
        "- **설문(Survey) 데이터**\n",
        "  - surveyID: 설문 ID\n",
        "  - TITLE: 설문 제목\n",
        "  - IR: 난이도(응답가능성, 100이 최고)\n",
        "  - LOI: 설문하는데 걸리는 시간 (분단위)\n",
        "  - CATEGORIES: 설문 분류\n",
        "  - CPI: 패널 응답 리워드 포인트(1P~)\n",
        "- **응답(Response) 데이터**\n",
        "  - STATUS: 응답여부 (Target)\n",
        "  - (test 데이터의) ID: submission을 식별하기 위한 ID로 사용"
      ]
    },
    {
      "cell_type": "markdown",
      "metadata": {
        "id": "tzph00eTqnHF",
        "papermill": {
          "duration": 0.007905,
          "end_time": "2023-12-11T12:09:56.384933",
          "exception": false,
          "start_time": "2023-12-11T12:09:56.377028",
          "status": "completed"
        },
        "tags": []
      },
      "source": [
        "### Data Preprocessing"
      ]
    },
    {
      "cell_type": "code",
      "execution_count": 27,
      "metadata": {
        "colab": {
          "base_uri": "https://localhost:8080/"
        },
        "execution": {
          "iopub.execute_input": "2023-12-12T02:02:00.474050Z",
          "iopub.status.busy": "2023-12-12T02:02:00.473521Z",
          "iopub.status.idle": "2023-12-12T02:02:02.734684Z",
          "shell.execute_reply": "2023-12-12T02:02:02.733419Z",
          "shell.execute_reply.started": "2023-12-12T02:02:00.474014Z"
        },
        "id": "4bOMBEi4qnHF",
        "outputId": "55dc5811-fd7f-44d6-e799-86640ce7e34e",
        "papermill": {
          "duration": 1.645054,
          "end_time": "2023-12-11T12:09:58.038311",
          "exception": false,
          "start_time": "2023-12-11T12:09:56.393257",
          "status": "completed"
        },
        "tags": []
      },
      "outputs": [
        {
          "name": "stdout",
          "output_type": "stream",
          "text": [
            "userID \t 14674 \t 0.0\n",
            "surveyID \t 1293 \t 0.0\n",
            "BIRTH \t 76 \t 0.0\n",
            "GENDER \t 2 \t 0.0\n",
            "REGION \t 17 \t 0.0\n",
            "TYPE \t 3 \t 0.0\n",
            "SQ1 \t 2 \t 0.0008693404164723535\n",
            "SQ2 \t 82 \t 0.001215302418946045\n",
            "SQ3 \t 47 \t 0.08397498935501531\n",
            "SQ4 \t 52 \t 0.0843450292990531\n",
            "SQ5 \t 273 \t 0.13528381556803665\n",
            "SQ6 \t 30 \t 0.13565132099190982\n",
            "SQ7 \t 1234 \t 0.16993957703927492\n",
            "SQ8 \t 1754 \t 0.17243607940144773\n",
            "A1 \t 2703 \t 0.1963872949573187\n",
            "B1 \t 131 \t 0.20272866440925405\n",
            "B2 \t 120 \t 0.23041449542772563\n",
            "B3 \t 109 \t 0.23580541981792008\n",
            "B4 \t 698 \t 0.24689774731847766\n",
            "B5 \t 668 \t 0.2542643301770109\n",
            "TITLE \t 1286 \t 0.0\n",
            "IR \t 43 \t 0.0\n",
            "LOI \t 26 \t 1.267260082321215e-06\n",
            "CPI \t 43 \t 1.267260082321215e-06\n",
            "STATUS \t 2 \t 1.267260082321215e-06\n"
          ]
        }
      ],
      "source": [
        "# 결측값 비율이 30% 이하인 column만 사용\n",
        "features = []\n",
        "for f in train.columns:\n",
        "    if train[f].isnull().sum()/train.shape[0] <= 0.3:\n",
        "        print(f, '\\t', train[f].nunique(), '\\t', train[f].isnull().sum()/train.shape[0])\n",
        "        features.append(f)"
      ]
    },
    {
      "cell_type": "code",
      "execution_count": 28,
      "metadata": {
        "execution": {
          "iopub.execute_input": "2023-12-12T02:02:02.736531Z",
          "iopub.status.busy": "2023-12-12T02:02:02.736194Z",
          "iopub.status.idle": "2023-12-12T02:02:02.742373Z",
          "shell.execute_reply": "2023-12-12T02:02:02.741118Z",
          "shell.execute_reply.started": "2023-12-12T02:02:02.736503Z"
        },
        "id": "qMaNoZu8qnHF",
        "papermill": {
          "duration": 0.019618,
          "end_time": "2023-12-11T12:09:58.066828",
          "exception": false,
          "start_time": "2023-12-11T12:09:58.04721",
          "status": "completed"
        },
        "tags": []
      },
      "outputs": [],
      "source": [
        "# 불필요한 ID들은 제외. SQ1 ~ SQ3는 GENDER, BIRTH, REGION과 중복이어서 제외!\n",
        "features.remove('userID')\n",
        "features.remove('surveyID')\n",
        "features.remove('STATUS')\n",
        "features.remove('SQ1')\n",
        "features.remove('SQ2')\n",
        "features.remove('SQ3')"
      ]
    },
    {
      "cell_type": "code",
      "execution_count": 29,
      "metadata": {
        "colab": {
          "base_uri": "https://localhost:8080/"
        },
        "execution": {
          "iopub.execute_input": "2023-12-12T02:02:02.744411Z",
          "iopub.status.busy": "2023-12-12T02:02:02.743940Z",
          "iopub.status.idle": "2023-12-12T02:02:02.807615Z",
          "shell.execute_reply": "2023-12-12T02:02:02.806181Z",
          "shell.execute_reply.started": "2023-12-12T02:02:02.744371Z"
        },
        "id": "G02-sFQAqnHF",
        "outputId": "471ef452-244e-4325-f3ba-b3756fc3656f",
        "papermill": {
          "duration": 0.054119,
          "end_time": "2023-12-11T12:09:58.129482",
          "exception": false,
          "start_time": "2023-12-11T12:09:58.075363",
          "status": "completed"
        },
        "scrolled": true,
        "tags": []
      },
      "outputs": [
        {
          "data": {
            "text/plain": [
              "1,                           217950\n",
              "1                            151820\n",
              "3                             97234\n",
              "1                             46019\n",
              "2                             41761\n",
              "3,                            32476\n",
              "4                             31956\n",
              "4,                            26798\n",
              "2,                            24451\n",
              "5                             11207\n",
              "5,                            10287\n",
              "2                              7586\n",
              "4                              5083\n",
              "3                              4751\n",
              "5                              3417\n",
              "6,                             2941\n",
              "6                              1724\n",
              "6                               902\n",
              "97,원룸                           413\n",
              "97,단독주택                         395\n",
              "7                               329\n",
              "97,맑음                           301\n",
              "97                              237\n",
              "97,기숙사                          224\n",
              "7                               213\n",
              "97,폭염                           179\n",
              "97,흐림                           165\n",
              "97                              165\n",
              "97,덥다                           146\n",
              "97,기와집                          112\n",
              "97,관사                            97\n",
              "97,모름                            89\n",
              "97,사택(아파트)                       89\n",
              "97,타운하우스                         85\n",
              "97,다가구                           83\n",
              "97,교회사택                          76\n",
              "1,11,18,2,3,4,5,6,7,8            71\n",
              "97,쪽방촌                           67\n",
              "97,모텔                            66\n",
              "97,잘 모름                          61\n",
              "99                               59\n",
              "97,맑다                            59\n",
              "97,프라이드1                         57\n",
              "97,무더움                           55\n",
              "97,비                             52\n",
              "97,상가 내                          50\n",
              "97,투룸                            47\n",
              "97,추워요                           43\n",
              "97,점포임대주택                        42\n",
              "97,사택(공동주거)                      34\n",
              "1,10,13,15,18,2,3,4,5,8,9        15\n",
              "1,13,2,3,4,5,6,8,9                8\n",
              "Name: SQ4, dtype: int64"
            ]
          },
          "execution_count": 29,
          "metadata": {},
          "output_type": "execute_result"
        }
      ],
      "source": [
        "# 거주 주택 형태: 1/2/3/4/5/6/97이 정상값\n",
        "train.SQ4.value_counts()"
      ]
    },
    {
      "cell_type": "code",
      "execution_count": 30,
      "metadata": {
        "id": "rPaZ_jcjqnHF"
      },
      "outputs": [],
      "source": [
        "train['SQ4'] = train['SQ4'].astype(str)\n",
        "train['SQ4'] = train['SQ4'].str.strip()\n",
        "\n",
        "test['SQ4'] = test['SQ4'].astype(str)\n",
        "test['SQ4'] = test['SQ4'].str.strip()"
      ]
    },
    {
      "cell_type": "code",
      "execution_count": 31,
      "metadata": {
        "execution": {
          "iopub.execute_input": "2023-12-12T02:02:02.809334Z",
          "iopub.status.busy": "2023-12-12T02:02:02.808960Z",
          "iopub.status.idle": "2023-12-12T02:02:03.647215Z",
          "shell.execute_reply": "2023-12-12T02:02:03.646081Z",
          "shell.execute_reply.started": "2023-12-12T02:02:02.809281Z"
        },
        "id": "f8a0mSwCqnHF",
        "papermill": {
          "duration": 0.625589,
          "end_time": "2023-12-11T12:09:58.764107",
          "exception": false,
          "start_time": "2023-12-11T12:09:58.138518",
          "status": "completed"
        },
        "tags": []
      },
      "outputs": [],
      "source": [
        "def handle_profile(x):\n",
        "    if x in ['1', '2', '3', '4', '5', '6']:\n",
        "        return int(x)\n",
        "    elif x in ['1,', '2,', '3,', '4,', '5,', '6,']:\n",
        "        return int(x[0])\n",
        "    elif x in ['97,원룸', '97,단독주택', '97,맑음', '97,기숙사', '97,폭염', '97,흐림', '97,덥다', '97,기와집', '97,관사', '97,모름', '97,사택(아파트)', '97,타운하우스', '97,다가구', '97,교회사택', '97,쪽방촌', '97,모텔', '97,잘 모름', '97,맑다', '97,프라이드1', '97,무더움', '97,비', '97,상가 내', '97,투룸', '97,추워요', '97,점포임대주택', '97,사택(공동주거)']:\n",
        "        return 97\n",
        "    elif re.search(r',.*?,', str(x)):\n",
        "        return 98\n",
        "    else:\n",
        "        return 99"
      ]
    },
    {
      "cell_type": "code",
      "execution_count": 32,
      "metadata": {
        "colab": {
          "base_uri": "https://localhost:8080/"
        },
        "id": "n_Y15AtiqnHF",
        "outputId": "d0c980b0-7e11-4de7-a826-b144003551d3"
      },
      "outputs": [
        {
          "data": {
            "text/plain": [
              "1,                           217950\n",
              "1                            197839\n",
              "3                            101985\n",
              "nan                           66557\n",
              "2                             49347\n",
              "4                             37039\n",
              "3,                            32476\n",
              "4,                            26798\n",
              "2,                            24451\n",
              "5                             14624\n",
              "5,                            10287\n",
              "6,                             2941\n",
              "6                              2626\n",
              "7                               542\n",
              "97,원룸                           413\n",
              "97                              402\n",
              "97,단독주택                         395\n",
              "97,맑음                           301\n",
              "97,기숙사                          224\n",
              "97,폭염                           179\n",
              "97,흐림                           165\n",
              "97,덥다                           146\n",
              "97,기와집                          112\n",
              "97,관사                            97\n",
              "97,모름                            89\n",
              "97,사택(아파트)                       89\n",
              "97,타운하우스                         85\n",
              "97,다가구                           83\n",
              "97,교회사택                          76\n",
              "1,11,18,2,3,4,5,6,7,8            71\n",
              "97,쪽방촌                           67\n",
              "97,모텔                            66\n",
              "97,잘 모름                          61\n",
              "97,맑다                            59\n",
              "99                               59\n",
              "97,프라이드1                         57\n",
              "97,무더움                           55\n",
              "97,비                             52\n",
              "97,상가 내                          50\n",
              "97,투룸                            47\n",
              "97,추워요                           43\n",
              "97,점포임대주택                        42\n",
              "97,사택(공동주거)                      34\n",
              "1,10,13,15,18,2,3,4,5,8,9        15\n",
              "1,13,2,3,4,5,6,8,9                8\n",
              "Name: SQ4, dtype: int64"
            ]
          },
          "execution_count": 32,
          "metadata": {},
          "output_type": "execute_result"
        }
      ],
      "source": [
        "train.SQ4.value_counts()"
      ]
    },
    {
      "cell_type": "code",
      "execution_count": 33,
      "metadata": {
        "colab": {
          "base_uri": "https://localhost:8080/"
        },
        "execution": {
          "iopub.execute_input": "2023-12-12T02:02:03.649285Z",
          "iopub.status.busy": "2023-12-12T02:02:03.648872Z",
          "iopub.status.idle": "2023-12-12T02:02:03.698971Z",
          "shell.execute_reply": "2023-12-12T02:02:03.698102Z",
          "shell.execute_reply.started": "2023-12-12T02:02:03.649242Z"
        },
        "id": "Dm8YLoa3qnHG",
        "outputId": "b1550156-bcdf-4316-b45f-52dc7779fac4",
        "papermill": {
          "duration": 0.051059,
          "end_time": "2023-12-11T12:09:58.823952",
          "exception": false,
          "start_time": "2023-12-11T12:09:58.772893",
          "status": "completed"
        },
        "tags": []
      },
      "outputs": [
        {
          "data": {
            "text/plain": [
              "3.0                 252358\n",
              "1.0                 115211\n",
              "3                    82671\n",
              "4.0                  44836\n",
              "1                    44135\n",
              "2.0                  42847\n",
              "2                    28922\n",
              "3.0                  20543\n",
              "4                    11984\n",
              "99.0                  7310\n",
              "1.0                   4391\n",
              "4.0                   3075\n",
              "2.0                   1567\n",
              "8.0                   1037\n",
              "16.0                   644\n",
              "1,2,3,5                493\n",
              "12,2,9                 491\n",
              "1,13,2,3,4,5,8,9       350\n",
              "1,13,18,2,4,5,9        331\n",
              "7.0                    314\n",
              "Name: SQ5, dtype: int64"
            ]
          },
          "execution_count": 33,
          "metadata": {},
          "output_type": "execute_result"
        }
      ],
      "source": [
        "# 최종학력: 1/2/3/4 정상값\n",
        "train.SQ5.value_counts()[:20]"
      ]
    },
    {
      "cell_type": "code",
      "execution_count": 34,
      "metadata": {
        "id": "kcwBj5BIqnHG"
      },
      "outputs": [],
      "source": [
        "train['SQ5'] = train['SQ5'].astype(str)\n",
        "train['SQ5'] = train['SQ5'].str.strip()\n",
        "\n",
        "test['SQ5'] = test['SQ5'].astype(str)\n",
        "test['SQ5'] = test['SQ5'].str.strip()"
      ]
    },
    {
      "cell_type": "code",
      "execution_count": 35,
      "metadata": {
        "execution": {
          "iopub.execute_input": "2023-12-12T02:02:03.700796Z",
          "iopub.status.busy": "2023-12-12T02:02:03.700458Z",
          "iopub.status.idle": "2023-12-12T02:02:04.487085Z",
          "shell.execute_reply": "2023-12-12T02:02:04.485884Z",
          "shell.execute_reply.started": "2023-12-12T02:02:03.700766Z"
        },
        "id": "Nb45yzTGqnHG",
        "papermill": {
          "duration": 0.553187,
          "end_time": "2023-12-11T12:09:59.386383",
          "exception": false,
          "start_time": "2023-12-11T12:09:58.833196",
          "status": "completed"
        },
        "tags": []
      },
      "outputs": [],
      "source": [
        "def handle_profile(x):\n",
        "    if x in ['1', '2', '3', '4']:\n",
        "        return int(x)\n",
        "    elif x in ['1.0', '2.0', '3.0', '4.0']:\n",
        "        return int(x[0])\n",
        "    elif re.search(r',.*?,', str(x)):\n",
        "        return 98\n",
        "    else:\n",
        "        return 99\n",
        "\n",
        "train.SQ5 = train.SQ5.apply(handle_profile)\n",
        "test.SQ5 = test.SQ5.apply(handle_profile)"
      ]
    },
    {
      "cell_type": "code",
      "execution_count": 36,
      "metadata": {
        "colab": {
          "base_uri": "https://localhost:8080/"
        },
        "id": "NntNrlSaqnHG",
        "outputId": "0ffc066f-563e-44d3-bd3e-53e0ba70ae0a"
      },
      "outputs": [
        {
          "data": {
            "text/plain": [
              "3     355572\n",
              "1     163737\n",
              "99    117456\n",
              "2      73336\n",
              "4      59895\n",
              "98     19108\n",
              "Name: SQ5, dtype: int64"
            ]
          },
          "execution_count": 36,
          "metadata": {},
          "output_type": "execute_result"
        }
      ],
      "source": [
        "train.SQ5.value_counts()"
      ]
    },
    {
      "cell_type": "code",
      "execution_count": 37,
      "metadata": {
        "colab": {
          "base_uri": "https://localhost:8080/"
        },
        "execution": {
          "iopub.execute_input": "2023-12-12T02:02:04.491232Z",
          "iopub.status.busy": "2023-12-12T02:02:04.490859Z",
          "iopub.status.idle": "2023-12-12T02:02:04.544860Z",
          "shell.execute_reply": "2023-12-12T02:02:04.543425Z",
          "shell.execute_reply.started": "2023-12-12T02:02:04.491200Z"
        },
        "id": "DEFXGX-2qnHG",
        "outputId": "b293c136-1d93-4b80-dddd-41617aac6f72",
        "papermill": {
          "duration": 0.047612,
          "end_time": "2023-12-11T12:09:59.442902",
          "exception": false,
          "start_time": "2023-12-11T12:09:59.39529",
          "status": "completed"
        },
        "tags": []
      },
      "outputs": [
        {
          "data": {
            "text/plain": [
              "2                                         182498\n",
              "1                                         149352\n",
              "2,                                        107554\n",
              "1,                                         63628\n",
              "4                                          58570\n",
              "3                                          44859\n",
              "2                                          26894\n",
              "1                                          18678\n",
              "5                                          17673\n",
              "97                                          3897\n",
              "3                                           2513\n",
              "4                                           2069\n",
              "97                                           991\n",
              "97,이혼                                        986\n",
              "2,21,5,8,9                                   394\n",
              "5                                            387\n",
              "99                                           362\n",
              "97,사별                                        270\n",
              "99                                           237\n",
              "97,별거                                         72\n",
              "10                                            63\n",
              "10                                            55\n",
              "7                                             52\n",
              "1,10,11,13,2,21,3,4,5,8                        1\n",
              "1,13,2,21,3,4,7,9                              1\n",
              "6                                              1\n",
              "15,19,3,4,7                                    1\n",
              "1,10,13,16,19,2,21,4,5                         1\n",
              "1,10,11,12,13,15,19,2,21,3,4,5,6,7,8,9         1\n",
              "14                                             1\n",
              "Name: SQ6, dtype: int64"
            ]
          },
          "execution_count": 37,
          "metadata": {},
          "output_type": "execute_result"
        }
      ],
      "source": [
        "# 결혼여부: 1/2/97 정상값\n",
        "train.SQ6.value_counts()"
      ]
    },
    {
      "cell_type": "code",
      "execution_count": 38,
      "metadata": {
        "id": "Z9l6N4B5qnHG"
      },
      "outputs": [],
      "source": [
        "train['SQ6'] = train['SQ6'].astype(str)\n",
        "train['SQ6'] = train['SQ6'].str.strip()\n",
        "\n",
        "test['SQ6'] = test['SQ6'].astype(str)\n",
        "test['SQ6'] = test['SQ6'].str.strip()"
      ]
    },
    {
      "cell_type": "code",
      "execution_count": 39,
      "metadata": {
        "execution": {
          "iopub.execute_input": "2023-12-12T02:02:04.546562Z",
          "iopub.status.busy": "2023-12-12T02:02:04.546207Z",
          "iopub.status.idle": "2023-12-12T02:02:05.224514Z",
          "shell.execute_reply": "2023-12-12T02:02:05.223484Z",
          "shell.execute_reply.started": "2023-12-12T02:02:04.546530Z"
        },
        "id": "VBpnnqNfqnHG",
        "papermill": {
          "duration": 0.542385,
          "end_time": "2023-12-11T12:09:59.995044",
          "exception": false,
          "start_time": "2023-12-11T12:09:59.452659",
          "status": "completed"
        },
        "tags": []
      },
      "outputs": [],
      "source": [
        "def handle_profile(x):\n",
        "    if x in ['1', '2']:\n",
        "        return int(x)\n",
        "    elif x in ['1,', '2,']:\n",
        "        return int(x[0])\n",
        "    elif x in ['97', '97,이혼', '97,사별', '97,별거']:\n",
        "        return 97\n",
        "    elif re.search(r',.*?,', str(x)):\n",
        "        return 98\n",
        "    else:\n",
        "        return 99\n",
        "\n",
        "train.SQ6 = train.SQ6.apply(handle_profile)\n",
        "test.SQ6 = test.SQ6.apply(handle_profile)"
      ]
    },
    {
      "cell_type": "code",
      "execution_count": 40,
      "metadata": {
        "colab": {
          "base_uri": "https://localhost:8080/"
        },
        "id": "d2WhzR4eqnHG",
        "outputId": "695dfdbb-a1cc-4c52-e4a3-4f32e419f888"
      },
      "outputs": [
        {
          "data": {
            "text/plain": [
              "2     316946\n",
              "99    233885\n",
              "1     231658\n",
              "97      6216\n",
              "98       399\n",
              "Name: SQ6, dtype: int64"
            ]
          },
          "execution_count": 40,
          "metadata": {},
          "output_type": "execute_result"
        }
      ],
      "source": [
        "train.SQ6.value_counts()"
      ]
    },
    {
      "cell_type": "code",
      "execution_count": 41,
      "metadata": {
        "colab": {
          "base_uri": "https://localhost:8080/"
        },
        "execution": {
          "iopub.execute_input": "2023-12-12T02:02:05.226471Z",
          "iopub.status.busy": "2023-12-12T02:02:05.226075Z",
          "iopub.status.idle": "2023-12-12T02:02:05.287973Z",
          "shell.execute_reply": "2023-12-12T02:02:05.286855Z",
          "shell.execute_reply.started": "2023-12-12T02:02:05.226437Z"
        },
        "id": "YJ_CvaaVqnHG",
        "outputId": "50c41eca-2754-4852-fbda-33f7c41ad040",
        "papermill": {
          "duration": 0.055253,
          "end_time": "2023-12-11T12:10:00.12056",
          "exception": false,
          "start_time": "2023-12-11T12:10:00.065307",
          "status": "completed"
        },
        "tags": []
      },
      "outputs": [
        {
          "data": {
            "text/plain": [
              "99.0                 72132\n",
              "99                   70575\n",
              "4.0                  33942\n",
              "16.0                 29861\n",
              "3.0                  28280\n",
              "                     ...  \n",
              "1,13                     5\n",
              "13,18,2,3,4,5,7          5\n",
              "1,10,11,2,3,4,5,7        3\n",
              "1,13,2,5,7,8             3\n",
              "1,16,2,3,4,5,8,9         2\n",
              "Name: SQ7, Length: 1234, dtype: int64"
            ]
          },
          "execution_count": 41,
          "metadata": {},
          "output_type": "execute_result"
        }
      ],
      "source": [
        "# 자녀 정보: 1~16/99 정상값\n",
        "train.SQ7.value_counts()"
      ]
    },
    {
      "cell_type": "code",
      "execution_count": 42,
      "metadata": {
        "id": "acU1t2f3qnHG"
      },
      "outputs": [],
      "source": [
        "train['SQ7'] = train['SQ7'].astype(str)\n",
        "train['SQ7'] = train['SQ7'].str.strip()\n",
        "\n",
        "test['SQ7'] = test['SQ7'].astype(str)\n",
        "test['SQ7'] = test['SQ7'].str.strip()"
      ]
    },
    {
      "cell_type": "code",
      "execution_count": 43,
      "metadata": {
        "execution": {
          "iopub.execute_input": "2023-12-12T02:02:05.290232Z",
          "iopub.status.busy": "2023-12-12T02:02:05.289788Z",
          "iopub.status.idle": "2023-12-12T02:02:06.674791Z",
          "shell.execute_reply": "2023-12-12T02:02:06.673429Z",
          "shell.execute_reply.started": "2023-12-12T02:02:05.290189Z"
        },
        "id": "4EwGGrBlqnHG",
        "papermill": {
          "duration": 1.000969,
          "end_time": "2023-12-11T12:10:01.13122",
          "exception": false,
          "start_time": "2023-12-11T12:10:00.130251",
          "status": "completed"
        },
        "tags": []
      },
      "outputs": [],
      "source": [
        "value1 = pd.Series(range(1,17)).apply(lambda x: str(x)).tolist()\n",
        "value2 = pd.Series(np.arange(1.0,17.0)).apply(lambda x: str(x)).tolist()\n",
        "def handle_profile(x):\n",
        "    if x in value1:\n",
        "        return int(x)\n",
        "    elif x in value2:\n",
        "        return int(x[0])\n",
        "    elif re.search(r',.*?,', str(x)):\n",
        "        return 98\n",
        "    else:\n",
        "        return 99\n",
        "\n",
        "train.SQ7 = train.SQ7.apply(handle_profile)\n",
        "test.SQ7 = test.SQ7.apply(handle_profile)"
      ]
    },
    {
      "cell_type": "code",
      "execution_count": 44,
      "metadata": {
        "colab": {
          "base_uri": "https://localhost:8080/"
        },
        "id": "p8EZPffXqnHG",
        "outputId": "44ca4b63-3417-400d-804d-2dd3cc6cebe4",
        "scrolled": true
      },
      "outputs": [
        {
          "data": {
            "text/plain": [
              "99    302479\n",
              "98    142955\n",
              "1      92693\n",
              "3      49368\n",
              "4      45646\n",
              "8      45128\n",
              "2      23994\n",
              "5      20235\n",
              "16     17815\n",
              "7      10109\n",
              "6       9596\n",
              "12      5514\n",
              "14      5477\n",
              "9       4881\n",
              "13      4305\n",
              "15      3925\n",
              "11      2906\n",
              "10      2078\n",
              "Name: SQ7, dtype: int64"
            ]
          },
          "execution_count": 44,
          "metadata": {},
          "output_type": "execute_result"
        }
      ],
      "source": [
        "train.SQ7.value_counts()"
      ]
    },
    {
      "cell_type": "code",
      "execution_count": 45,
      "metadata": {
        "colab": {
          "base_uri": "https://localhost:8080/"
        },
        "execution": {
          "iopub.execute_input": "2023-12-12T02:02:06.676844Z",
          "iopub.status.busy": "2023-12-12T02:02:06.676505Z",
          "iopub.status.idle": "2023-12-12T02:02:06.730730Z",
          "shell.execute_reply": "2023-12-12T02:02:06.729407Z",
          "shell.execute_reply.started": "2023-12-12T02:02:06.676814Z"
        },
        "id": "ybKCqwUXqnHG",
        "outputId": "2c79ddc6-4fe8-4fa8-e021-0eabffd48544",
        "papermill": {
          "duration": 0.052754,
          "end_time": "2023-12-11T12:10:01.19433",
          "exception": false,
          "start_time": "2023-12-11T12:10:01.141576",
          "status": "completed"
        },
        "scrolled": true,
        "tags": []
      },
      "outputs": [
        {
          "data": {
            "text/plain": [
              "3.0    116179\n",
              "4.0    115327\n",
              "1.0     84230\n",
              "2.0     52017\n",
              "1       44829\n",
              "3       43659\n",
              "4       38689\n",
              "5.0     26534\n",
              "2       14704\n",
              "99      12504\n",
              "Name: SQ8, dtype: int64"
            ]
          },
          "execution_count": 45,
          "metadata": {},
          "output_type": "execute_result"
        }
      ],
      "source": [
        "# 가족수: 1/2/3/4/5 정상값\n",
        "train.SQ8.value_counts()[:10]"
      ]
    },
    {
      "cell_type": "code",
      "execution_count": 46,
      "metadata": {
        "id": "JEypLVkpqnHG"
      },
      "outputs": [],
      "source": [
        "train['SQ8'] = train['SQ8'].astype(str)\n",
        "train['SQ8'] = train['SQ8'].str.strip()\n",
        "\n",
        "test['SQ8'] = test['SQ8'].astype(str)\n",
        "test['SQ8'] = test['SQ8'].str.strip()"
      ]
    },
    {
      "cell_type": "code",
      "execution_count": 47,
      "metadata": {
        "execution": {
          "iopub.execute_input": "2023-12-12T02:02:06.732879Z",
          "iopub.status.busy": "2023-12-12T02:02:06.732435Z",
          "iopub.status.idle": "2023-12-12T02:02:07.403883Z",
          "shell.execute_reply": "2023-12-12T02:02:07.402703Z",
          "shell.execute_reply.started": "2023-12-12T02:02:06.732836Z"
        },
        "id": "7qoZsLfjqnHG",
        "papermill": {
          "duration": 0.492537,
          "end_time": "2023-12-11T12:10:01.697006",
          "exception": false,
          "start_time": "2023-12-11T12:10:01.204469",
          "status": "completed"
        },
        "tags": []
      },
      "outputs": [],
      "source": [
        "def handle_profile(x):\n",
        "    if x in ['1', '2', '3', '4', '5']:\n",
        "        return int(x)\n",
        "    elif x in ['1.0', '2.0', '3.0', '4.0','5.0']:\n",
        "        return int(x[0])\n",
        "    else:\n",
        "        return 99\n",
        "\n",
        "train.SQ8 = train.SQ8.apply(handle_profile)\n",
        "test.SQ8 = test.SQ8.apply(handle_profile)"
      ]
    },
    {
      "cell_type": "code",
      "execution_count": 48,
      "metadata": {
        "colab": {
          "base_uri": "https://localhost:8080/"
        },
        "id": "S5__nY2HqnHH",
        "outputId": "04f6b903-8611-457c-ecbd-f3e7616b5835"
      },
      "outputs": [
        {
          "data": {
            "text/plain": [
              "99    242410\n",
              "3     159838\n",
              "4     154016\n",
              "1     129059\n",
              "2      66721\n",
              "5      37060\n",
              "Name: SQ8, dtype: int64"
            ]
          },
          "execution_count": 48,
          "metadata": {},
          "output_type": "execute_result"
        }
      ],
      "source": [
        "train.SQ8.value_counts()"
      ]
    },
    {
      "cell_type": "code",
      "execution_count": 49,
      "metadata": {
        "colab": {
          "base_uri": "https://localhost:8080/"
        },
        "execution": {
          "iopub.execute_input": "2023-12-12T02:02:07.406213Z",
          "iopub.status.busy": "2023-12-12T02:02:07.405751Z",
          "iopub.status.idle": "2023-12-12T02:02:07.465073Z",
          "shell.execute_reply": "2023-12-12T02:02:07.463242Z",
          "shell.execute_reply.started": "2023-12-12T02:02:07.406170Z"
        },
        "id": "RWGriKBzqnHH",
        "outputId": "da349729-f627-4766-d32c-c2905b8db0aa",
        "papermill": {
          "duration": 0.053413,
          "end_time": "2023-12-11T12:10:01.76086",
          "exception": false,
          "start_time": "2023-12-11T12:10:01.707447",
          "status": "completed"
        },
        "tags": []
      },
      "outputs": [
        {
          "data": {
            "text/plain": [
              "1                                      137329\n",
              "3                                       76869\n",
              "99                                      59231\n",
              "2                                       20159\n",
              "4                                       19431\n",
              "                                        ...  \n",
              "1,11,13,15,16,19,2,21,3,4,5,6,7,8,9         1\n",
              "1,13,2,21,3,4,5,6,9                         1\n",
              "1,15,2,4,5                                  1\n",
              "1,11,13,16,2,21,4,5,9                       1\n",
              "1,13,16,2,21,3,4,5,7,9                      1\n",
              "Name: A1, Length: 2703, dtype: int64"
            ]
          },
          "execution_count": 49,
          "metadata": {},
          "output_type": "execute_result"
        }
      ],
      "source": [
        "# 최근 구입/렌트 가전제품: 1~22/99 정상값\n",
        "train.A1.value_counts()"
      ]
    },
    {
      "cell_type": "code",
      "execution_count": 50,
      "metadata": {
        "id": "Kw9nLlzuqnHH"
      },
      "outputs": [],
      "source": [
        "train['A1'] = train['A1'].astype(str)\n",
        "train['A1'] = train['A1'].str.strip()\n",
        "\n",
        "test['A1'] = test['A1'].astype(str)\n",
        "test['A1'] = test['A1'].str.strip()"
      ]
    },
    {
      "cell_type": "code",
      "execution_count": 51,
      "metadata": {
        "id": "vbM5VxK9qnHH"
      },
      "outputs": [],
      "source": [
        "#A1_count"
      ]
    },
    {
      "cell_type": "code",
      "execution_count": 52,
      "metadata": {
        "colab": {
          "base_uri": "https://localhost:8080/"
        },
        "id": "j_zH-tXMqnHH",
        "outputId": "544ba369-af78-42bc-f966-f1a570f35611"
      },
      "outputs": [
        {
          "data": {
            "text/plain": [
              "True"
            ]
          },
          "execution_count": 52,
          "metadata": {},
          "output_type": "execute_result"
        }
      ],
      "source": [
        "str(train['A1'][0])=='nan'"
      ]
    },
    {
      "cell_type": "code",
      "execution_count": 53,
      "metadata": {
        "id": "j4HDt22jqnHH"
      },
      "outputs": [],
      "source": [
        "def count_numbers(pattern):\n",
        "    # 문자열에서 ','를 기준으로 분리\n",
        "    pattern = str(pattern)\n",
        "    numbers = pattern.split(',')\n",
        "\n",
        "    # 숫자 개수를 저장할 딕셔너리 초기화\n",
        "    count_num = 0\n",
        "\n",
        "    # 각 숫자의 출현 횟수 세기\n",
        "    for number in numbers:\n",
        "        number = number.strip()\n",
        "        if number == 'nan':\n",
        "            return 0\n",
        "        else:\n",
        "            count_num += 1\n",
        "\n",
        "    return count_num\n",
        "\n",
        "# train 데이터에 대해 새로운 피처 생성\n",
        "train['A1_count'] = train['A1'].apply(count_numbers)\n",
        "\n",
        "# test 데이터에 대해 새로운 피처 생성\n",
        "test['A1_count'] = test['A1'].apply(count_numbers)"
      ]
    },
    {
      "cell_type": "code",
      "execution_count": 54,
      "metadata": {
        "execution": {
          "iopub.execute_input": "2023-12-12T02:02:07.467377Z",
          "iopub.status.busy": "2023-12-12T02:02:07.466913Z",
          "iopub.status.idle": "2023-12-12T02:02:08.425540Z",
          "shell.execute_reply": "2023-12-12T02:02:08.423818Z",
          "shell.execute_reply.started": "2023-12-12T02:02:07.467311Z"
        },
        "id": "gEo5hmtTqnHH",
        "papermill": {
          "duration": 0.711013,
          "end_time": "2023-12-11T12:10:02.481852",
          "exception": false,
          "start_time": "2023-12-11T12:10:01.770839",
          "status": "completed"
        },
        "tags": []
      },
      "outputs": [],
      "source": [
        "values = pd.Series(range(1,23)).apply(lambda x: str(x)).tolist()\n",
        "def handle_profile(x):\n",
        "    if x in values:\n",
        "        return int(x)\n",
        "    elif re.search(r',.*?,', str(x)):\n",
        "        return 98\n",
        "    else:\n",
        "        return 99\n",
        "\n",
        "train.A1 = train.A1.apply(handle_profile)\n",
        "test.A1 = test.A1.apply(handle_profile)"
      ]
    },
    {
      "cell_type": "code",
      "execution_count": 55,
      "metadata": {
        "colab": {
          "base_uri": "https://localhost:8080/"
        },
        "id": "WDSCjuyjqnHO",
        "outputId": "bf4d0f4c-8ea3-4bdd-811a-8a01392a6bdd"
      },
      "outputs": [
        {
          "data": {
            "text/plain": [
              "99    257567\n",
              "98    224483\n",
              "1     137329\n",
              "3      76869\n",
              "2      20159\n",
              "4      19431\n",
              "5       9915\n",
              "13      7176\n",
              "10      5400\n",
              "20      5395\n",
              "21      4435\n",
              "7       3751\n",
              "6       2712\n",
              "9       2399\n",
              "17      2005\n",
              "11      1663\n",
              "12      1499\n",
              "16      1463\n",
              "15      1394\n",
              "8       1305\n",
              "18      1247\n",
              "22       799\n",
              "19       486\n",
              "14       222\n",
              "Name: A1, dtype: int64"
            ]
          },
          "execution_count": 55,
          "metadata": {},
          "output_type": "execute_result"
        }
      ],
      "source": [
        "train.A1.value_counts()"
      ]
    },
    {
      "cell_type": "code",
      "execution_count": 56,
      "metadata": {
        "colab": {
          "base_uri": "https://localhost:8080/"
        },
        "execution": {
          "iopub.execute_input": "2023-12-12T02:02:08.428473Z",
          "iopub.status.busy": "2023-12-12T02:02:08.427845Z",
          "iopub.status.idle": "2023-12-12T02:02:08.481989Z",
          "shell.execute_reply": "2023-12-12T02:02:08.479922Z",
          "shell.execute_reply.started": "2023-12-12T02:02:08.428417Z"
        },
        "id": "6syJs3cZqnHO",
        "outputId": "45662e4c-9856-4ad7-f721-35752f9313af",
        "papermill": {
          "duration": 0.05123,
          "end_time": "2023-12-11T12:10:02.543139",
          "exception": false,
          "start_time": "2023-12-11T12:10:02.491909",
          "status": "completed"
        },
        "tags": []
      },
      "outputs": [
        {
          "data": {
            "text/plain": [
              "4.0                   142547\n",
              "8.0                    76876\n",
              "99                     70132\n",
              "1                      59936\n",
              "4                      46301\n",
              "                       ...  \n",
              "1,10,2,5,6,9               1\n",
              "10,2                       1\n",
              "1,10,2,3,4,6,7,8,9         1\n",
              "10,2,4,6                   1\n",
              "1,4,6,7                    1\n",
              "Name: B1, Length: 131, dtype: int64"
            ]
          },
          "execution_count": 56,
          "metadata": {},
          "output_type": "execute_result"
        }
      ],
      "source": [
        "# 휴대폰 통신망 종류: 1~8/99 정상값\n",
        "train.B1.value_counts()"
      ]
    },
    {
      "cell_type": "code",
      "execution_count": 57,
      "metadata": {
        "id": "lyzmzpOoqnHO"
      },
      "outputs": [],
      "source": [
        "train['B1'] = train['B1'].astype(str)\n",
        "train['B1'] = train['B1'].str.strip()\n",
        "\n",
        "test['B1'] = test['B1'].astype(str)\n",
        "test['B1'] = test['B1'].str.strip()"
      ]
    },
    {
      "cell_type": "code",
      "execution_count": 58,
      "metadata": {
        "execution": {
          "iopub.execute_input": "2023-12-12T02:02:08.484224Z",
          "iopub.status.busy": "2023-12-12T02:02:08.483739Z",
          "iopub.status.idle": "2023-12-12T02:02:09.292624Z",
          "shell.execute_reply": "2023-12-12T02:02:09.291697Z",
          "shell.execute_reply.started": "2023-12-12T02:02:08.484176Z"
        },
        "id": "Yi522NHYqnHO",
        "papermill": {
          "duration": 0.55849,
          "end_time": "2023-12-11T12:10:03.111728",
          "exception": false,
          "start_time": "2023-12-11T12:10:02.553238",
          "status": "completed"
        },
        "tags": []
      },
      "outputs": [],
      "source": [
        "def handle_profile(x):\n",
        "    if x in ['1','1.0']:\n",
        "        return 1\n",
        "    elif x in ['2', '2.0']:\n",
        "        return 2\n",
        "    elif x in ['3', '3.0']:\n",
        "        return 3\n",
        "    elif x in ['4', '5', '6', '7', '4.0', '5.0', '6.0', '7.0']:\n",
        "        return 4\n",
        "    elif x in ['8', '8.0']:\n",
        "        return 5\n",
        "    elif re.search(r',.*?,', str(x)):\n",
        "        return 98\n",
        "    else:\n",
        "        return 99\n",
        "\n",
        "train.B1 = train.B1.apply(handle_profile)\n",
        "test.B1 = test.B1.apply(handle_profile)"
      ]
    },
    {
      "cell_type": "code",
      "execution_count": 59,
      "metadata": {
        "colab": {
          "base_uri": "https://localhost:8080/"
        },
        "id": "_fak-87rqnHO",
        "outputId": "106c7463-fb4d-4abc-8a98-4dc7ec9b1844"
      },
      "outputs": [
        {
          "data": {
            "text/plain": [
              "1.0            124643\n",
              "1               89164\n",
              "3.0             61118\n",
              "99              50352\n",
              "2               41755\n",
              "                ...  \n",
              "2,3,4,6,7,9         1\n",
              "1,3,5,6             1\n",
              "1,2,5,97            1\n",
              "6,97                1\n",
              "1,4,5,97            1\n",
              "Name: B2, Length: 120, dtype: int64"
            ]
          },
          "execution_count": 59,
          "metadata": {},
          "output_type": "execute_result"
        }
      ],
      "source": [
        "# 가입한 이동통신사: 1~6/97 정상값\n",
        "train.B2.value_counts()"
      ]
    },
    {
      "cell_type": "code",
      "execution_count": 60,
      "metadata": {
        "id": "69mTZ4GTqnHP"
      },
      "outputs": [],
      "source": [
        "train['B2'] = train['B2'].astype(str)\n",
        "train['B2'] = train['B2'].str.strip()\n",
        "\n",
        "test['B2'] = test['B2'].astype(str)\n",
        "test['B2'] = test['B2'].str.strip()"
      ]
    },
    {
      "cell_type": "code",
      "execution_count": 61,
      "metadata": {
        "id": "-OtG3plDqnHP"
      },
      "outputs": [],
      "source": [
        "def handle_profile(x):\n",
        "    if x in ['1', '1.0']:\n",
        "        return 1\n",
        "    elif x in ['2', '2.0']:\n",
        "        return 2\n",
        "    elif x in ['3', '3.0']:\n",
        "        return 3\n",
        "    elif x in ['4', '4.0']:\n",
        "        return 4\n",
        "    elif x in ['5', '5.0']:\n",
        "        return 5\n",
        "    elif x in ['6', '6.0']:\n",
        "        return 6\n",
        "    elif re.search(r',.*?,', str(x)):\n",
        "        return 96\n",
        "    elif x in ['97', '97.0']:\n",
        "        return 97\n",
        "    else:\n",
        "        return 99\n",
        "\n",
        "train['B6'] = train['B2'].apply(handle_profile)\n",
        "test['B6'] = test['B2'].apply(handle_profile)"
      ]
    },
    {
      "cell_type": "code",
      "execution_count": 62,
      "metadata": {
        "colab": {
          "base_uri": "https://localhost:8080/"
        },
        "id": "epaC36SVqnHP",
        "outputId": "375c6cc6-60ee-48fe-cf1f-430170685438"
      },
      "outputs": [
        {
          "data": {
            "text/plain": [
              "99    279054\n",
              "1     213807\n",
              "3     101212\n",
              "2      65936\n",
              "4      56784\n",
              "5      47389\n",
              "96     18607\n",
              "6       4288\n",
              "97      2027\n",
              "Name: B6, dtype: int64"
            ]
          },
          "execution_count": 62,
          "metadata": {},
          "output_type": "execute_result"
        }
      ],
      "source": [
        "train['B6'].value_counts()"
      ]
    },
    {
      "cell_type": "code",
      "execution_count": 63,
      "metadata": {
        "id": "mKz-gof4qnHP"
      },
      "outputs": [],
      "source": [
        "def handle_profile(x):\n",
        "    if x in ['1', '2', '3', '4', '5', '6']:\n",
        "        return int(x)\n",
        "    else:\n",
        "        return 99\n",
        "\n",
        "train.B2 = train.B2.apply(handle_profile)\n",
        "test.B2 = test.B2.apply(handle_profile)"
      ]
    },
    {
      "cell_type": "code",
      "execution_count": 64,
      "metadata": {
        "colab": {
          "base_uri": "https://localhost:8080/"
        },
        "id": "8Y1pIygjqnHP",
        "outputId": "805d3c27-0ea7-417a-ba71-4651fc4ae754"
      },
      "outputs": [
        {
          "data": {
            "text/plain": [
              "99    562475\n",
              "1      89164\n",
              "2      41755\n",
              "3      40094\n",
              "5      29492\n",
              "4      23829\n",
              "6       2295\n",
              "Name: B2, dtype: int64"
            ]
          },
          "execution_count": 64,
          "metadata": {},
          "output_type": "execute_result"
        }
      ],
      "source": [
        "train.B2.value_counts()"
      ]
    },
    {
      "cell_type": "code",
      "execution_count": 65,
      "metadata": {
        "colab": {
          "base_uri": "https://localhost:8080/"
        },
        "execution": {
          "iopub.execute_input": "2023-12-12T02:02:10.085695Z",
          "iopub.status.busy": "2023-12-12T02:02:10.084586Z",
          "iopub.status.idle": "2023-12-12T02:02:10.140883Z",
          "shell.execute_reply": "2023-12-12T02:02:10.139386Z",
          "shell.execute_reply.started": "2023-12-12T02:02:10.085637Z"
        },
        "id": "L_0BRBpSqnHP",
        "outputId": "4f9eeb05-9fd3-4d16-d052-01637946ea4c",
        "papermill": {
          "duration": 0.050679,
          "end_time": "2023-12-11T12:10:03.757526",
          "exception": false,
          "start_time": "2023-12-11T12:10:03.706847",
          "status": "completed"
        },
        "tags": []
      },
      "outputs": [
        {
          "data": {
            "text/plain": [
              "1                  283617\n",
              "2                   95652\n",
              "99                  77351\n",
              "3                   67291\n",
              "1,                  23087\n",
              "                    ...  \n",
              "1,2,3,4,6,7,8,9         1\n",
              "1,2,5,6,97              1\n",
              "1,2,3,4,7               1\n",
              "1,2,4,7,8,9             1\n",
              "1,2,3,4,6,7,9           1\n",
              "Name: B3, Length: 109, dtype: int64"
            ]
          },
          "execution_count": 65,
          "metadata": {},
          "output_type": "execute_result"
        }
      ],
      "source": [
        "# 휴대폰 브랜드: 1~7/97/99\n",
        "train.B3.value_counts()"
      ]
    },
    {
      "cell_type": "code",
      "execution_count": 66,
      "metadata": {
        "id": "Xn47EQ3pqnHP"
      },
      "outputs": [],
      "source": [
        "train['B3'] = train['B3'].astype(str)\n",
        "train['B3'] = train['B3'].str.strip()\n",
        "\n",
        "test['B3'] = test['B3'].astype(str)\n",
        "test['B3'] = test['B3'].str.strip()"
      ]
    },
    {
      "cell_type": "code",
      "execution_count": 67,
      "metadata": {
        "execution": {
          "iopub.execute_input": "2023-12-12T02:02:10.143295Z",
          "iopub.status.busy": "2023-12-12T02:02:10.142833Z",
          "iopub.status.idle": "2023-12-12T02:02:10.855281Z",
          "shell.execute_reply": "2023-12-12T02:02:10.854373Z",
          "shell.execute_reply.started": "2023-12-12T02:02:10.143251Z"
        },
        "id": "p5Kae5akqnHP",
        "papermill": {
          "duration": 0.560106,
          "end_time": "2023-12-11T12:10:04.32831",
          "exception": false,
          "start_time": "2023-12-11T12:10:03.768204",
          "status": "completed"
        },
        "tags": []
      },
      "outputs": [],
      "source": [
        "def handle_profile(x):\n",
        "    if x in ['1', '2', '3']:\n",
        "        return int(x)\n",
        "    elif x in ['1,', '2,', '3,']:\n",
        "        return int(x[0])\n",
        "    elif x in ['99', '99,']:\n",
        "        return 99\n",
        "    elif re.search(r',.*?,', str(x)):\n",
        "        return 98\n",
        "    else:\n",
        "        return 4  # 기타 제조사\n",
        "\n",
        "train.B3 = train.B3.apply(handle_profile)\n",
        "test.B3 = test.B3.apply(handle_profile)"
      ]
    },
    {
      "cell_type": "code",
      "execution_count": 68,
      "metadata": {
        "colab": {
          "base_uri": "https://localhost:8080/"
        },
        "id": "CoCTUOnUqnHP",
        "outputId": "d80af5ec-03d9-4b47-b361-98d7f96afbb6"
      },
      "outputs": [
        {
          "data": {
            "text/plain": [
              "1     306704\n",
              "4     226609\n",
              "2      98882\n",
              "99     77561\n",
              "3      75393\n",
              "98      3955\n",
              "Name: B3, dtype: int64"
            ]
          },
          "execution_count": 68,
          "metadata": {},
          "output_type": "execute_result"
        }
      ],
      "source": [
        "train.B3.value_counts()"
      ]
    },
    {
      "cell_type": "markdown",
      "metadata": {
        "id": "nihZtsRhqnHP"
      },
      "source": [
        "#### B5_count"
      ]
    },
    {
      "cell_type": "code",
      "execution_count": 72,
      "metadata": {
        "id": "0yWzRzxVqnHP"
      },
      "outputs": [],
      "source": [
        "def count_numbers(pattern):\n",
        "    # 문자열에서 ','를 기준으로 분리\n",
        "    pattern = str(pattern)\n",
        "    numbers = pattern.split(',')\n",
        "\n",
        "    # 숫자 개수를 저장할 딕셔너리 초기화\n",
        "    count_num = 0\n",
        "\n",
        "    # 각 숫자의 출현 횟수 세기\n",
        "    for number in numbers:\n",
        "        number = number.strip()\n",
        "        if number == 'nan':\n",
        "            return 0\n",
        "        else:\n",
        "            count_num+=1\n",
        "\n",
        "    return count_num\n",
        "\n",
        "train['B5_count'] = train.B5.apply(count_numbers)\n",
        "test['B5_count'] = test.B5.apply(count_numbers)"
      ]
    },
    {
      "cell_type": "code",
      "execution_count": 73,
      "metadata": {
        "colab": {
          "base_uri": "https://localhost:8080/"
        },
        "execution": {
          "iopub.execute_input": "2023-12-12T02:02:10.857470Z",
          "iopub.status.busy": "2023-12-12T02:02:10.856992Z",
          "iopub.status.idle": "2023-12-12T02:02:10.947008Z",
          "shell.execute_reply": "2023-12-12T02:02:10.945730Z",
          "shell.execute_reply.started": "2023-12-12T02:02:10.857425Z"
        },
        "id": "K06rBU74qnHQ",
        "outputId": "f27919a3-24bc-4955-ac35-54add1e285e6",
        "papermill": {
          "duration": 0.087368,
          "end_time": "2023-12-11T12:10:04.427104",
          "exception": false,
          "start_time": "2023-12-11T12:10:04.339736",
          "status": "completed"
        },
        "tags": []
      },
      "outputs": [
        {
          "data": {
            "text/plain": [
              "일반인의견조사(Rm-K)            7214\n",
              "소비자의견조사(HJ-JJ)           4850\n",
              "소비자의견조사(JM-WR)           4842\n",
              "소비자의견조사(SM-OT-Pag)       4720\n",
              "일반인의견조사(M-TK)            4311\n",
              "                         ... \n",
              "해외-일반인의견조사(G-938771)        1\n",
              "해외-일반인의견조사(G-1003288)       1\n",
              "해외-일반인의견조사(G-1004081)       1\n",
              "해외-일반인의견조사(G-997511)        1\n",
              "해외-일반인의견조사(G-960414)        1\n",
              "Name: TITLE, Length: 1286, dtype: int64"
            ]
          },
          "execution_count": 73,
          "metadata": {},
          "output_type": "execute_result"
        }
      ],
      "source": [
        "# 서베이 제목에서 유용한 정보 추출\n",
        "train.TITLE.value_counts()"
      ]
    },
    {
      "cell_type": "code",
      "execution_count": 74,
      "metadata": {
        "execution": {
          "iopub.execute_input": "2023-12-12T02:02:10.949145Z",
          "iopub.status.busy": "2023-12-12T02:02:10.948692Z",
          "iopub.status.idle": "2023-12-12T02:02:38.786257Z",
          "shell.execute_reply": "2023-12-12T02:02:38.785176Z",
          "shell.execute_reply.started": "2023-12-12T02:02:10.949099Z"
        },
        "id": "RdPIBUMIqnHQ",
        "papermill": {
          "duration": 22.092481,
          "end_time": "2023-12-11T12:10:26.530545",
          "exception": false,
          "start_time": "2023-12-11T12:10:04.438064",
          "status": "completed"
        },
        "tags": []
      },
      "outputs": [],
      "source": [
        "word_counts = {}\n",
        "def count_word(x): # 응답한 서베이 제목에서 한글 단어만 분리하고 빈도 계산\n",
        "    if x['STATUS'] == 1:\n",
        "        for w in re.sub(r'[^ ㄱ-ㅣ가-힣]', '', x['TITLE']).split():\n",
        "            word_counts[w] = word_counts.get(w, 0) + 1\n",
        "def score_word(x): # 빈도의 합으로 제목을 Encoding\n",
        "    score = 0\n",
        "    for w in re.sub(r'[^ ㄱ-ㅣ가-힣]', '', x['TITLE']).split():\n",
        "        score += word_counts.get(w, 0)\n",
        "    return score\n",
        "\n",
        "train.apply(count_word, axis=1)\n",
        "train.TITLE = train.apply(score_word, axis=1)\n",
        "test.TITLE = test.apply(score_word, axis=1)"
      ]
    },
    {
      "cell_type": "code",
      "execution_count": 75,
      "metadata": {
        "execution": {
          "iopub.execute_input": "2023-12-12T02:02:38.788915Z",
          "iopub.status.busy": "2023-12-12T02:02:38.787654Z",
          "iopub.status.idle": "2023-12-12T02:02:40.631947Z",
          "shell.execute_reply": "2023-12-12T02:02:40.630689Z",
          "shell.execute_reply.started": "2023-12-12T02:02:38.788870Z"
        },
        "id": "e5GzA3ffqnHQ",
        "papermill": {
          "duration": 1.463951,
          "end_time": "2023-12-11T12:10:28.005266",
          "exception": false,
          "start_time": "2023-12-11T12:10:26.541315",
          "status": "completed"
        },
        "tags": []
      },
      "outputs": [],
      "source": [
        "# 응답률 feature 생성\n",
        "res_freq = train.query('STATUS == 1').groupby('userID')['userID'].agg([('FREQ',np.size)]).reset_index()\n",
        "send_freq = train.groupby('userID')['userID'].agg([('SEND',np.size)]).reset_index()\n",
        "train = train.merge(res_freq, how='left').merge(send_freq, how='left')\n",
        "train['RESRATE'] = train['FREQ'] / train['SEND']\n",
        "del train['FREQ'], train['SEND']\n",
        "test = pd.merge(test, train.drop_duplicates(subset=['userID'])[['userID', 'RESRATE']], how='left')\n",
        "\n",
        "features.extend(['RESRATE'])"
      ]
    },
    {
      "cell_type": "markdown",
      "metadata": {
        "id": "IyMrNV1WqnHQ"
      },
      "source": [
        "### Feature Create"
      ]
    },
    {
      "cell_type": "markdown",
      "metadata": {
        "id": "yThJdUC_qnHQ"
      },
      "source": [
        "**패널 ID별 응답 리워드, 난이도, 시간 관련**"
      ]
    },
    {
      "cell_type": "code",
      "execution_count": 76,
      "metadata": {
        "id": "AB9Js0gtqnHQ"
      },
      "outputs": [],
      "source": [
        "# 패널의 총 리워드 포인트, 평균/최소/최대 리워드 포인트\n",
        "\n",
        "# 패널 ID 별 획득 누적 포인트\n",
        "Points_earned = pd.DataFrame(train.query('STATUS==1').groupby('userID')['CPI'].agg([('Points_earned',np.sum)])).reset_index()\n",
        "\n",
        "# 패널 ID 별 획득 평균 포인트\n",
        "Points_earned_mean = pd.DataFrame(train.query('STATUS==1').groupby('userID')['CPI'].agg([('Points_earned_mean',np.mean)])).reset_index()\n",
        "\n",
        "train = train.merge(Points_earned, how='left')\n",
        "train = train.merge(Points_earned_mean, how='left')\n",
        "\n",
        "train['Points_earned'].fillna(0, inplace = True)\n",
        "train['Points_earned_mean'].fillna(0, inplace = True)\n",
        "\n",
        "test = test.merge(Points_earned, how='left')\n",
        "test = test.merge(Points_earned_mean, how='left')\n",
        "\n",
        "test['Points_earned'].fillna(0, inplace = True)\n",
        "test['Points_earned_mean'].fillna(0, inplace = True)"
      ]
    },
    {
      "cell_type": "code",
      "execution_count": 77,
      "metadata": {
        "id": "T6kiamzJqnHQ"
      },
      "outputs": [],
      "source": [
        "# 패널이 응한 설문의 평균난이도\n",
        "IR = train.query('STATUS==1').groupby('userID')['IR'].agg([('AVG_IR', np.mean)]).reset_index()\n",
        "\n",
        "train = train.merge(IR, how='left')\n",
        "test = test.merge(IR, how='left')"
      ]
    },
    {
      "cell_type": "code",
      "execution_count": 78,
      "metadata": {
        "id": "Pjd1050NqnHQ"
      },
      "outputs": [],
      "source": [
        "# 패널 ID 별 획득 평균 시간\n",
        "LOI = pd.DataFrame(train.query('STATUS==1').groupby('userID')['LOI'].agg([('AVG_LOI', np.mean)]).reset_index())\n",
        "train = train.merge(LOI, how='left')\n",
        "test = test.merge(LOI, how='left')"
      ]
    },
    {
      "cell_type": "markdown",
      "metadata": {
        "id": "wWYcXHoVqnHQ"
      },
      "source": [
        "**BIRTH, REGION 별 응답확률**"
      ]
    },
    {
      "cell_type": "code",
      "execution_count": 79,
      "metadata": {
        "id": "VogjTTeqqnHQ"
      },
      "outputs": [],
      "source": [
        "BIRTH_status_mean = pd.DataFrame(train.groupby('BIRTH')['STATUS'].agg([('BIRTH_status_mean',np.mean)])).reset_index()\n",
        "\n",
        "REGION_status_mean = pd.DataFrame(train.groupby('REGION')['STATUS'].agg([('REGION_status_mean',np.mean)])).reset_index()\n",
        "\n",
        "train = train.merge(BIRTH_status_mean, how='left').merge(REGION_status_mean, how='left')\n",
        "test = test.merge(BIRTH_status_mean, how='left').merge(REGION_status_mean, how='left')"
      ]
    },
    {
      "cell_type": "markdown",
      "metadata": {
        "id": "oM6VToEDqnHQ"
      },
      "source": [
        "**IR 별 응답확률**"
      ]
    },
    {
      "cell_type": "code",
      "execution_count": 80,
      "metadata": {
        "id": "i19zWpVlqnHQ"
      },
      "outputs": [],
      "source": [
        "train_IR = ((train.groupby('IR')['STATUS'].sum())/(train.IR.value_counts().sort_index())).reset_index().rename(columns = {0 : 'STATUS_ratio_IR'})\n",
        "train = train.merge(train_IR,how='left')\n",
        "test = test.merge(train_IR,how='left')\n",
        "test.STATUS_ratio_IR=test.STATUS_ratio_IR.fillna(test.STATUS_ratio_IR.mean())"
      ]
    },
    {
      "cell_type": "markdown",
      "metadata": {
        "id": "iRcgxHnmqnHQ"
      },
      "source": [
        "**LOI별 응답확률**"
      ]
    },
    {
      "cell_type": "code",
      "execution_count": 81,
      "metadata": {
        "id": "1tthtEM8qnHQ"
      },
      "outputs": [],
      "source": [
        "train_LOI = ((train.groupby('LOI')['STATUS'].sum())/(train.LOI.value_counts().sort_index())).reset_index().rename(columns = {0 : 'STATUS_ratio_LOI'})\n",
        "train = train.merge(train_LOI,how='left')\n",
        "test = test.merge(train_LOI,how='left')\n",
        "test.STATUS_ratio_LOI=test.STATUS_ratio_LOI.fillna(test.STATUS_ratio_LOI.mean())"
      ]
    },
    {
      "cell_type": "markdown",
      "metadata": {
        "id": "IsZGnh0NqnHQ"
      },
      "source": [
        "**CPI 별 응답확률**"
      ]
    },
    {
      "cell_type": "code",
      "execution_count": 82,
      "metadata": {
        "id": "iJU_flh7qnHR"
      },
      "outputs": [],
      "source": [
        "train_CPI = ((train.groupby('CPI')['STATUS'].sum())/(train.CPI.value_counts().sort_index())).reset_index().rename(columns = {0 : 'STATUS_ratio_CPI'})\n",
        "train = train.merge(train_CPI,how='left')\n",
        "test = test.merge(train_CPI,how='left')\n",
        "test.STATUS_ratio_CPI=test.STATUS_ratio_CPI.fillna(test.STATUS_ratio_CPI.mean())"
      ]
    },
    {
      "cell_type": "markdown",
      "metadata": {
        "id": "XNnUqBhrqnHR"
      },
      "source": [
        "**응답률 * 서베이 횟수**"
      ]
    },
    {
      "cell_type": "code",
      "execution_count": 83,
      "metadata": {
        "id": "KpMptzNQqnHR"
      },
      "outputs": [],
      "source": [
        "survey_count = train.groupby('userID')['userID'].count()#.reset_index()\n",
        "survey_count.name = 'user'\n",
        "survey_count.reset_index()\n",
        "\n",
        "RES_RATE = train.STATUS.groupby(train.userID).sum() / train.STATUS.groupby(train.userID).count()\n",
        "RES_RATE_survey_sum = RES_RATE*survey_count\n",
        "RES_RATE_survey_sum.name = 'RES_RATE_survey_sum'\n",
        "\n",
        "train = train.merge(RES_RATE_survey_sum,on='userID', how = 'left')\n",
        "test = test.merge(RES_RATE_survey_sum,on='userID', how = 'left')"
      ]
    },
    {
      "cell_type": "markdown",
      "metadata": {
        "id": "z-kRbaocqnHR"
      },
      "source": [
        "**TYPE 별 응답확률**"
      ]
    },
    {
      "cell_type": "code",
      "execution_count": 84,
      "metadata": {
        "id": "vVO9bupIqnHR"
      },
      "outputs": [],
      "source": [
        "TYPE_mean = pd.DataFrame(train.groupby('TYPE')['STATUS'].agg([('TYPE_mean',np.mean)])).reset_index()\n",
        "train = train.merge(TYPE_mean, how='left')\n",
        "test = test.merge(TYPE_mean, how='left')"
      ]
    },
    {
      "cell_type": "markdown",
      "metadata": {
        "id": "dlGuxMdTqnHR"
      },
      "source": [
        "**유저아이디별 응답횟수**"
      ]
    },
    {
      "cell_type": "code",
      "execution_count": 85,
      "metadata": {
        "id": "j1vFSNWFqnHR"
      },
      "outputs": [],
      "source": [
        "res_cnt = train[train.STATUS== 1].groupby(\"userID\").surveyID.count()\n",
        "train[\"res_cnt\"] = train[\"userID\"].map(dict(res_cnt))\n",
        "test[\"res_cnt\"] = test[\"userID\"].map(dict(res_cnt))\n",
        "\n",
        "test[\"res_cnt\"] = test[\"res_cnt\"].fillna(0)"
      ]
    },
    {
      "cell_type": "markdown",
      "metadata": {
        "id": "gxf2u3-MqnHR"
      },
      "source": [
        "**성별응답확률**"
      ]
    },
    {
      "cell_type": "code",
      "execution_count": null,
      "metadata": {
        "id": "_7a1eIG1qnHR"
      },
      "outputs": [],
      "source": [
        "res_freq = train.query('STATUS == 1').groupby('GENDER')['IR'].agg([('g_i','mean')]).reset_index()\n",
        "train = pd.merge(train, res_freq, how='left')\n",
        "test = pd.merge(test, res_freq, how='left')\n",
        "test.FREQ = test.g_i.fillna(test.g_i.mean())"
      ]
    },
    {
      "cell_type": "markdown",
      "metadata": {
        "id": "r_HrR8OlqnHR"
      },
      "source": [
        "**성별 응답난이도 평균**"
      ]
    },
    {
      "cell_type": "code",
      "execution_count": 86,
      "metadata": {
        "id": "JuGaP-SVqnHR",
        "scrolled": true
      },
      "outputs": [],
      "source": [
        "GENDER_IR = train.query('STATUS == 1').groupby('GENDER')['IR'].agg([('GENDER_IR',np.mean)]).reset_index()\n",
        "\n",
        "train = pd.merge(train, GENDER_IR, how='left')\n",
        "test = pd.merge(test, GENDER_IR, how='left')"
      ]
    },
    {
      "cell_type": "markdown",
      "metadata": {
        "id": "rXc_Uc56qnHR"
      },
      "source": [
        "**TYPE 별 CPI 평균**"
      ]
    },
    {
      "cell_type": "code",
      "execution_count": 87,
      "metadata": {
        "id": "lU9sBc1TqnHR"
      },
      "outputs": [],
      "source": [
        "TYPE_CPI_mean = pd.DataFrame(train.groupby('TYPE')['CPI'].agg([('TYPE_CPI_mean',np.mean)])).reset_index()\n",
        "\n",
        "train = train.merge(TYPE_CPI_mean, how='left')\n",
        "test = test.merge(TYPE_CPI_mean, how='left')"
      ]
    },
    {
      "cell_type": "markdown",
      "metadata": {
        "id": "esuINeGEqnHR"
      },
      "source": [
        "**생년->나이**"
      ]
    },
    {
      "cell_type": "code",
      "execution_count": 88,
      "metadata": {
        "id": "WTJqj0rfqnHR"
      },
      "outputs": [],
      "source": [
        "train[\"AGE\"] = 2022- train[\"BIRTH\"]\n",
        "test[\"AGE\"] = 2022- test[\"BIRTH\"]"
      ]
    },
    {
      "cell_type": "markdown",
      "metadata": {
        "id": "35noyPAYqnHR"
      },
      "source": [
        "#### 응답률 + 응답률 * 서베이 횟수"
      ]
    },
    {
      "cell_type": "code",
      "execution_count": 89,
      "metadata": {
        "id": "EZl3nBenqnHR"
      },
      "outputs": [],
      "source": [
        "train['RESRATE_sum_RES_RATE_survey_sum']= train['RESRATE']+train['RES_RATE_survey_sum']\n",
        "test['RESRATE_sum_RES_RATE_survey_sum']= test['RESRATE']+test['RES_RATE_survey_sum']"
      ]
    },
    {
      "cell_type": "markdown",
      "metadata": {
        "id": "ZrQCbBRIqnHR"
      },
      "source": [
        "#### 성별 * 응답률"
      ]
    },
    {
      "cell_type": "code",
      "execution_count": 90,
      "metadata": {
        "id": "69ynbiHmqnHR"
      },
      "outputs": [],
      "source": [
        "train['GENDER_multiply_RESRATE'] = train['GENDER'] * train['RESRATE']\n",
        "test['GENDER_multiply_RESRATE'] = test['GENDER'] * test['RESRATE']"
      ]
    },
    {
      "cell_type": "markdown",
      "metadata": {
        "id": "z8SId6lBqnHR"
      },
      "source": [
        "#### 응답률 - 획득 포인트 평균"
      ]
    },
    {
      "cell_type": "code",
      "execution_count": 91,
      "metadata": {
        "id": "1qUsxfQMqnHS"
      },
      "outputs": [],
      "source": [
        "train['RESRATE_diff_Points_earned_mean'] = train['RESRATE'] - train['Points_earned_mean']\n",
        "test['RESRATE_diff_Points_earned_mean'] = test['RESRATE'] - test['Points_earned_mean']"
      ]
    },
    {
      "cell_type": "markdown",
      "metadata": {
        "id": "oPK54A9jqnHS"
      },
      "source": [
        "#### 유저아이디별 응답횟수 + 응답률(인데 -로 만들었습니다...)"
      ]
    },
    {
      "cell_type": "code",
      "execution_count": 92,
      "metadata": {
        "id": "zYImBCr8qnHS"
      },
      "outputs": [],
      "source": [
        "train['res_cnt_sum_RESRATE'] = train['res_cnt'] - train['RESRATE']\n",
        "test['res_cnt_sum_RESRATE'] = test['res_cnt'] - test['RESRATE']"
      ]
    },
    {
      "cell_type": "markdown",
      "metadata": {
        "id": "G0fb2S-ZqnHS"
      },
      "source": [
        "#### 응답률 - 획득 포인트 평균"
      ]
    },
    {
      "cell_type": "code",
      "execution_count": 93,
      "metadata": {
        "id": "g4QTutNtqnHS"
      },
      "outputs": [],
      "source": [
        "train['REGION_multiply_RESRATE'] = train['REGION'] * train['RESRATE']\n",
        "test['REGION_multiply_RESRATE'] = test['REGION'] * test['RESRATE']"
      ]
    },
    {
      "cell_type": "markdown",
      "metadata": {
        "id": "EQ7fQhYqqnHS"
      },
      "source": [
        "#### 유저아이디별 응답횟수 + 응답률(인데 -로 만들었습니다...)"
      ]
    },
    {
      "cell_type": "code",
      "execution_count": 94,
      "metadata": {
        "id": "OQ0YioF3qnHS"
      },
      "outputs": [],
      "source": [
        "train['Points_earned_mean_sum_RESRATE'] = train['Points_earned_mean'] + train['RESRATE']\n",
        "test['Points_earned_mean_sum_RESRATE'] = test['Points_earned_mean'] + test['RESRATE']"
      ]
    },
    {
      "cell_type": "markdown",
      "metadata": {
        "id": "jntQzp2HqnHS"
      },
      "source": [
        "#### 지역  * 응답률"
      ]
    },
    {
      "cell_type": "code",
      "execution_count": 95,
      "metadata": {
        "id": "RI9wSgQXqnHS"
      },
      "outputs": [],
      "source": [
        "train['res_cnt_multiply_GENDER'] = train['res_cnt'] * train['GENDER']\n",
        "test['res_cnt_multiply_GENDER'] = test['res_cnt'] * test['GENDER']"
      ]
    },
    {
      "cell_type": "markdown",
      "metadata": {
        "id": "pRL1j5aOqnHS"
      },
      "source": [
        "#### 획득 포인트 평균  +  응답률"
      ]
    },
    {
      "cell_type": "code",
      "execution_count": 96,
      "metadata": {
        "id": "fRCAFdrzqnHS"
      },
      "outputs": [],
      "source": [
        "train['res_cnt_sum_RES_RATE_survey_sum'] = train['res_cnt'] + train['RES_RATE_survey_sum']\n",
        "test['res_cnt_sum_RES_RATE_survey_sum'] = test['res_cnt'] + test['RES_RATE_survey_sum']"
      ]
    },
    {
      "cell_type": "markdown",
      "metadata": {
        "id": "BCBpQKyTqnHS"
      },
      "source": [
        "#### 유저아이디별 응답횟수 * 성별"
      ]
    },
    {
      "cell_type": "code",
      "execution_count": 97,
      "metadata": {
        "id": "hak9VHvpqnHS"
      },
      "outputs": [],
      "source": [
        "train['RES_RATE_survey_sum_ratio_res_cnt'] = train['RES_RATE_survey_sum'] / train['res_cnt'] * 100\n",
        "test['RES_RATE_survey_sum_ratio_res_cnt'] = test['RES_RATE_survey_sum'] / test['res_cnt'] * 100"
      ]
    },
    {
      "cell_type": "markdown",
      "metadata": {
        "id": "pnTqyA1TqnHS"
      },
      "source": [
        "#### (유저아이디별 응답횟수) + (응답률 * 서베이 횟수)"
      ]
    },
    {
      "cell_type": "code",
      "execution_count": 98,
      "metadata": {
        "id": "s4GE8yaBqnHS"
      },
      "outputs": [],
      "source": [
        "train['res_cnt_ratio_RES_RATE_survey_sum'] = train['res_cnt'] / train['RES_RATE_survey_sum'] * 100\n",
        "test['res_cnt_ratio_RES_RATE_survey_sum'] = test['res_cnt'] / test['RES_RATE_survey_sum'] * 100"
      ]
    },
    {
      "cell_type": "markdown",
      "metadata": {
        "id": "pBTGo3AgqnHV"
      },
      "source": [
        "#### 설문 당 평균 응답률"
      ]
    },
    {
      "cell_type": "code",
      "execution_count": 99,
      "metadata": {
        "id": "JrhqSk4FqnHV"
      },
      "outputs": [],
      "source": [
        "survey_count = train.groupby('surveyID')['surveyID'].count()#.reset_index()\n",
        "survey_count.name = 'survey'\n",
        "survey_count.reset_index()\n",
        "\n",
        "\n",
        "survey_p = train.groupby('surveyID')['IR'].agg([('survey_p',np.mean)]).reset_index()\n",
        "\n",
        "survey_p['survey_p_survey_sum']= survey_p['survey_p']*survey_count.reset_index()['survey']\n",
        "train = train.merge(survey_p,on='surveyID', how = 'left')\n",
        "test = test.merge(survey_p,on='surveyID', how = 'left')\n",
        "test['survey_p'] = test['survey_p'].fillna(0)"
      ]
    },
    {
      "cell_type": "markdown",
      "metadata": {
        "id": "3swLwaAfqnHV"
      },
      "source": [
        "#### 설문지역, 설문대상자유형"
      ]
    },
    {
      "cell_type": "code",
      "execution_count": 100,
      "metadata": {
        "id": "aKRbnftYa68a"
      },
      "outputs": [],
      "source": [
        "train['설문지역'] = train['TITLE'].apply(lambda x: '해외' if '해외' in str(x) else '국내')\n",
        "train['설문대상자유형'] = train['TITLE'].apply(lambda x: '일반인' if '일반인' in str(x) else ('소비자' if '소비자' in str(x) else '기타'))\n",
        "\n",
        "test['설문지역'] = test['TITLE'].apply(lambda x: '해외' if '해외' in str(x) else '국내')\n",
        "test['설문대상자유형'] = test['TITLE'].apply(lambda x: '일반인' if '일반인' in str(x) else ('소비자' if '소비자' in str(x) else '기타'))"
      ]
    },
    {
      "cell_type": "markdown",
      "metadata": {
        "id": "uhb8Rw1AqnHV"
      },
      "source": [
        "#### 동일설문발송횟수"
      ]
    },
    {
      "cell_type": "code",
      "execution_count": 101,
      "metadata": {
        "id": "UfYeX_t2qnHV"
      },
      "outputs": [],
      "source": [
        "train['동일설문발송횟수'] = train.groupby(['userID', 'TITLE']).cumcount() + 1\n",
        "test['동일설문발송횟수'] = test.groupby(['userID', 'TITLE']).cumcount() + 1"
      ]
    },
    {
      "cell_type": "markdown",
      "metadata": {
        "id": "zwOhMQ7qqnHV"
      },
      "source": [
        "#### 연령대"
      ]
    },
    {
      "cell_type": "code",
      "execution_count": 102,
      "metadata": {
        "id": "ue-f6daaqnHV"
      },
      "outputs": [],
      "source": [
        "train['연령대'] = train['AGE'] // 10\n",
        "test['연령대'] = test['AGE'] // 10"
      ]
    },
    {
      "cell_type": "markdown",
      "metadata": {
        "id": "SMv44Rs0qnHV"
      },
      "source": [
        "#### 아줌마, 아저씨"
      ]
    },
    {
      "cell_type": "code",
      "execution_count": 103,
      "metadata": {
        "id": "QPCZBQjbqnHV"
      },
      "outputs": [],
      "source": [
        "def a_j_c(age, gender):\n",
        "    return np.where((age == 3.0) & (gender == 1), '맞음', '아님')\n",
        "\n",
        "train['a_j_c'] = a_j_c(train['연령대'], train['GENDER'])\n",
        "test['a_j_c'] = a_j_c(test['연령대'], test['GENDER'])"
      ]
    },
    {
      "cell_type": "code",
      "execution_count": 104,
      "metadata": {
        "id": "KvQ0hJclqnHV"
      },
      "outputs": [],
      "source": [
        "def a_j_m(age, gender):\n",
        "    return np.where((age == 4.0) & (gender == 2), '맞음', '아님')\n",
        "\n",
        "train['a_j_m'] = a_j_m(train['연령대'], train['GENDER'])\n",
        "test['a_j_m'] = a_j_m(test['연령대'], test['GENDER'])"
      ]
    },
    {
      "cell_type": "markdown",
      "metadata": {
        "id": "E6xM13t0qnHV"
      },
      "source": [
        "#### 연령대별 응답확률"
      ]
    },
    {
      "cell_type": "code",
      "execution_count": 105,
      "metadata": {
        "id": "KPYd-hcUqnHV"
      },
      "outputs": [],
      "source": [
        "BIRTH_range_status_mean = pd.DataFrame(train.groupby('연령대')['STATUS'].agg([('연령대_status_mean',np.mean)])).reset_index()\n",
        "\n",
        "train = train.merge(BIRTH_range_status_mean, how='left')\n",
        "test = test.merge(BIRTH_range_status_mean, how='left')"
      ]
    },
    {
      "cell_type": "code",
      "execution_count": 106,
      "metadata": {
        "colab": {
          "base_uri": "https://localhost:8080/",
          "height": 423
        },
        "id": "DnGo_JMdqnHV",
        "outputId": "4f89888f-3aa9-4884-f051-edd61a52efee"
      },
      "outputs": [
        {
          "data": {
            "text/html": [
              "\n",
              "  <div id=\"df-21c0f4c9-40f2-4a4c-bac0-beef776dc6a0\" class=\"colab-df-container\">\n",
              "    <div>\n",
              "<style scoped>\n",
              "    .dataframe tbody tr th:only-of-type {\n",
              "        vertical-align: middle;\n",
              "    }\n",
              "\n",
              "    .dataframe tbody tr th {\n",
              "        vertical-align: top;\n",
              "    }\n",
              "\n",
              "    .dataframe thead th {\n",
              "        text-align: right;\n",
              "    }\n",
              "</style>\n",
              "<table border=\"1\" class=\"dataframe\">\n",
              "  <thead>\n",
              "    <tr style=\"text-align: right;\">\n",
              "      <th></th>\n",
              "      <th>LOI</th>\n",
              "    </tr>\n",
              "  </thead>\n",
              "  <tbody>\n",
              "    <tr>\n",
              "      <th>0</th>\n",
              "      <td>13.0</td>\n",
              "    </tr>\n",
              "    <tr>\n",
              "      <th>1</th>\n",
              "      <td>10.0</td>\n",
              "    </tr>\n",
              "    <tr>\n",
              "      <th>2</th>\n",
              "      <td>12.0</td>\n",
              "    </tr>\n",
              "    <tr>\n",
              "      <th>3</th>\n",
              "      <td>12.0</td>\n",
              "    </tr>\n",
              "    <tr>\n",
              "      <th>4</th>\n",
              "      <td>15.0</td>\n",
              "    </tr>\n",
              "    <tr>\n",
              "      <th>...</th>\n",
              "      <td>...</td>\n",
              "    </tr>\n",
              "    <tr>\n",
              "      <th>789099</th>\n",
              "      <td>4.0</td>\n",
              "    </tr>\n",
              "    <tr>\n",
              "      <th>789100</th>\n",
              "      <td>15.0</td>\n",
              "    </tr>\n",
              "    <tr>\n",
              "      <th>789101</th>\n",
              "      <td>5.0</td>\n",
              "    </tr>\n",
              "    <tr>\n",
              "      <th>789102</th>\n",
              "      <td>10.0</td>\n",
              "    </tr>\n",
              "    <tr>\n",
              "      <th>789103</th>\n",
              "      <td>NaN</td>\n",
              "    </tr>\n",
              "  </tbody>\n",
              "</table>\n",
              "<p>789104 rows × 1 columns</p>\n",
              "</div>\n",
              "    <div class=\"colab-df-buttons\">\n",
              "\n",
              "  <div class=\"colab-df-container\">\n",
              "    <button class=\"colab-df-convert\" onclick=\"convertToInteractive('df-21c0f4c9-40f2-4a4c-bac0-beef776dc6a0')\"\n",
              "            title=\"Convert this dataframe to an interactive table.\"\n",
              "            style=\"display:none;\">\n",
              "\n",
              "  <svg xmlns=\"http://www.w3.org/2000/svg\" height=\"24px\" viewBox=\"0 -960 960 960\">\n",
              "    <path d=\"M120-120v-720h720v720H120Zm60-500h600v-160H180v160Zm220 220h160v-160H400v160Zm0 220h160v-160H400v160ZM180-400h160v-160H180v160Zm440 0h160v-160H620v160ZM180-180h160v-160H180v160Zm440 0h160v-160H620v160Z\"/>\n",
              "  </svg>\n",
              "    </button>\n",
              "\n",
              "  <style>\n",
              "    .colab-df-container {\n",
              "      display:flex;\n",
              "      gap: 12px;\n",
              "    }\n",
              "\n",
              "    .colab-df-convert {\n",
              "      background-color: #E8F0FE;\n",
              "      border: none;\n",
              "      border-radius: 50%;\n",
              "      cursor: pointer;\n",
              "      display: none;\n",
              "      fill: #1967D2;\n",
              "      height: 32px;\n",
              "      padding: 0 0 0 0;\n",
              "      width: 32px;\n",
              "    }\n",
              "\n",
              "    .colab-df-convert:hover {\n",
              "      background-color: #E2EBFA;\n",
              "      box-shadow: 0px 1px 2px rgba(60, 64, 67, 0.3), 0px 1px 3px 1px rgba(60, 64, 67, 0.15);\n",
              "      fill: #174EA6;\n",
              "    }\n",
              "\n",
              "    .colab-df-buttons div {\n",
              "      margin-bottom: 4px;\n",
              "    }\n",
              "\n",
              "    [theme=dark] .colab-df-convert {\n",
              "      background-color: #3B4455;\n",
              "      fill: #D2E3FC;\n",
              "    }\n",
              "\n",
              "    [theme=dark] .colab-df-convert:hover {\n",
              "      background-color: #434B5C;\n",
              "      box-shadow: 0px 1px 3px 1px rgba(0, 0, 0, 0.15);\n",
              "      filter: drop-shadow(0px 1px 2px rgba(0, 0, 0, 0.3));\n",
              "      fill: #FFFFFF;\n",
              "    }\n",
              "  </style>\n",
              "\n",
              "    <script>\n",
              "      const buttonEl =\n",
              "        document.querySelector('#df-21c0f4c9-40f2-4a4c-bac0-beef776dc6a0 button.colab-df-convert');\n",
              "      buttonEl.style.display =\n",
              "        google.colab.kernel.accessAllowed ? 'block' : 'none';\n",
              "\n",
              "      async function convertToInteractive(key) {\n",
              "        const element = document.querySelector('#df-21c0f4c9-40f2-4a4c-bac0-beef776dc6a0');\n",
              "        const dataTable =\n",
              "          await google.colab.kernel.invokeFunction('convertToInteractive',\n",
              "                                                    [key], {});\n",
              "        if (!dataTable) return;\n",
              "\n",
              "        const docLinkHtml = 'Like what you see? Visit the ' +\n",
              "          '<a target=\"_blank\" href=https://colab.research.google.com/notebooks/data_table.ipynb>data table notebook</a>'\n",
              "          + ' to learn more about interactive tables.';\n",
              "        element.innerHTML = '';\n",
              "        dataTable['output_type'] = 'display_data';\n",
              "        await google.colab.output.renderOutput(dataTable, element);\n",
              "        const docLink = document.createElement('div');\n",
              "        docLink.innerHTML = docLinkHtml;\n",
              "        element.appendChild(docLink);\n",
              "      }\n",
              "    </script>\n",
              "  </div>\n",
              "\n",
              "\n",
              "<div id=\"df-5648653b-20de-4c0c-9d5e-daf324f562e6\">\n",
              "  <button class=\"colab-df-quickchart\" onclick=\"quickchart('df-5648653b-20de-4c0c-9d5e-daf324f562e6')\"\n",
              "            title=\"Suggest charts\"\n",
              "            style=\"display:none;\">\n",
              "\n",
              "<svg xmlns=\"http://www.w3.org/2000/svg\" height=\"24px\"viewBox=\"0 0 24 24\"\n",
              "     width=\"24px\">\n",
              "    <g>\n",
              "        <path d=\"M19 3H5c-1.1 0-2 .9-2 2v14c0 1.1.9 2 2 2h14c1.1 0 2-.9 2-2V5c0-1.1-.9-2-2-2zM9 17H7v-7h2v7zm4 0h-2V7h2v10zm4 0h-2v-4h2v4z\"/>\n",
              "    </g>\n",
              "</svg>\n",
              "  </button>\n",
              "\n",
              "<style>\n",
              "  .colab-df-quickchart {\n",
              "      --bg-color: #E8F0FE;\n",
              "      --fill-color: #1967D2;\n",
              "      --hover-bg-color: #E2EBFA;\n",
              "      --hover-fill-color: #174EA6;\n",
              "      --disabled-fill-color: #AAA;\n",
              "      --disabled-bg-color: #DDD;\n",
              "  }\n",
              "\n",
              "  [theme=dark] .colab-df-quickchart {\n",
              "      --bg-color: #3B4455;\n",
              "      --fill-color: #D2E3FC;\n",
              "      --hover-bg-color: #434B5C;\n",
              "      --hover-fill-color: #FFFFFF;\n",
              "      --disabled-bg-color: #3B4455;\n",
              "      --disabled-fill-color: #666;\n",
              "  }\n",
              "\n",
              "  .colab-df-quickchart {\n",
              "    background-color: var(--bg-color);\n",
              "    border: none;\n",
              "    border-radius: 50%;\n",
              "    cursor: pointer;\n",
              "    display: none;\n",
              "    fill: var(--fill-color);\n",
              "    height: 32px;\n",
              "    padding: 0;\n",
              "    width: 32px;\n",
              "  }\n",
              "\n",
              "  .colab-df-quickchart:hover {\n",
              "    background-color: var(--hover-bg-color);\n",
              "    box-shadow: 0 1px 2px rgba(60, 64, 67, 0.3), 0 1px 3px 1px rgba(60, 64, 67, 0.15);\n",
              "    fill: var(--button-hover-fill-color);\n",
              "  }\n",
              "\n",
              "  .colab-df-quickchart-complete:disabled,\n",
              "  .colab-df-quickchart-complete:disabled:hover {\n",
              "    background-color: var(--disabled-bg-color);\n",
              "    fill: var(--disabled-fill-color);\n",
              "    box-shadow: none;\n",
              "  }\n",
              "\n",
              "  .colab-df-spinner {\n",
              "    border: 2px solid var(--fill-color);\n",
              "    border-color: transparent;\n",
              "    border-bottom-color: var(--fill-color);\n",
              "    animation:\n",
              "      spin 1s steps(1) infinite;\n",
              "  }\n",
              "\n",
              "  @keyframes spin {\n",
              "    0% {\n",
              "      border-color: transparent;\n",
              "      border-bottom-color: var(--fill-color);\n",
              "      border-left-color: var(--fill-color);\n",
              "    }\n",
              "    20% {\n",
              "      border-color: transparent;\n",
              "      border-left-color: var(--fill-color);\n",
              "      border-top-color: var(--fill-color);\n",
              "    }\n",
              "    30% {\n",
              "      border-color: transparent;\n",
              "      border-left-color: var(--fill-color);\n",
              "      border-top-color: var(--fill-color);\n",
              "      border-right-color: var(--fill-color);\n",
              "    }\n",
              "    40% {\n",
              "      border-color: transparent;\n",
              "      border-right-color: var(--fill-color);\n",
              "      border-top-color: var(--fill-color);\n",
              "    }\n",
              "    60% {\n",
              "      border-color: transparent;\n",
              "      border-right-color: var(--fill-color);\n",
              "    }\n",
              "    80% {\n",
              "      border-color: transparent;\n",
              "      border-right-color: var(--fill-color);\n",
              "      border-bottom-color: var(--fill-color);\n",
              "    }\n",
              "    90% {\n",
              "      border-color: transparent;\n",
              "      border-bottom-color: var(--fill-color);\n",
              "    }\n",
              "  }\n",
              "</style>\n",
              "\n",
              "  <script>\n",
              "    async function quickchart(key) {\n",
              "      const quickchartButtonEl =\n",
              "        document.querySelector('#' + key + ' button');\n",
              "      quickchartButtonEl.disabled = true;  // To prevent multiple clicks.\n",
              "      quickchartButtonEl.classList.add('colab-df-spinner');\n",
              "      try {\n",
              "        const charts = await google.colab.kernel.invokeFunction(\n",
              "            'suggestCharts', [key], {});\n",
              "      } catch (error) {\n",
              "        console.error('Error during call to suggestCharts:', error);\n",
              "      }\n",
              "      quickchartButtonEl.classList.remove('colab-df-spinner');\n",
              "      quickchartButtonEl.classList.add('colab-df-quickchart-complete');\n",
              "    }\n",
              "    (() => {\n",
              "      let quickchartButtonEl =\n",
              "        document.querySelector('#df-5648653b-20de-4c0c-9d5e-daf324f562e6 button');\n",
              "      quickchartButtonEl.style.display =\n",
              "        google.colab.kernel.accessAllowed ? 'block' : 'none';\n",
              "    })();\n",
              "  </script>\n",
              "</div>\n",
              "\n",
              "    </div>\n",
              "  </div>\n"
            ],
            "text/plain": [
              "         LOI\n",
              "0       13.0\n",
              "1       10.0\n",
              "2       12.0\n",
              "3       12.0\n",
              "4       15.0\n",
              "...      ...\n",
              "789099   4.0\n",
              "789100  15.0\n",
              "789101   5.0\n",
              "789102  10.0\n",
              "789103   NaN\n",
              "\n",
              "[789104 rows x 1 columns]"
            ]
          },
          "execution_count": 106,
          "metadata": {},
          "output_type": "execute_result"
        }
      ],
      "source": [
        "train[['LOI']]"
      ]
    },
    {
      "cell_type": "markdown",
      "metadata": {
        "id": "SpxLM2iSqnHV"
      },
      "source": [
        "**난이도 대비 응답시간**"
      ]
    },
    {
      "cell_type": "code",
      "execution_count": 107,
      "metadata": {
        "id": "NY-JJP2JqnHV"
      },
      "outputs": [],
      "source": [
        "train['ResponseTimePerDifficulty'] = train['LOI'] / train['IR']\n",
        "test['ResponseTimePerDifficulty'] = test['LOI'] / test['IR']"
      ]
    },
    {
      "cell_type": "code",
      "execution_count": 108,
      "metadata": {
        "id": "4uU2Tpr2qnHW"
      },
      "outputs": [],
      "source": [
        "# train 데이터 처리\n",
        "train['ResponseTimePerDifficulty'].replace([np.inf, -np.inf], np.nan, inplace=True)\n",
        "train['ResponseTimePerDifficulty'].fillna(train['ResponseTimePerDifficulty'].mean(), inplace=True)\n",
        "\n",
        "# test 데이터 처리 (train 데이터와 동일한 처리)\n",
        "test['ResponseTimePerDifficulty'].replace([np.inf, -np.inf], np.nan, inplace=True)\n",
        "test['ResponseTimePerDifficulty'].fillna(train['ResponseTimePerDifficulty'].mean(), inplace=True)"
      ]
    },
    {
      "cell_type": "markdown",
      "metadata": {
        "id": "bSxxUYkfqnHW"
      },
      "source": [
        "**유저아이디별 응답횟수 * 성별 응답난이도 평균**"
      ]
    },
    {
      "cell_type": "code",
      "execution_count": 109,
      "metadata": {
        "id": "1zPMbfkMqnHW"
      },
      "outputs": [],
      "source": [
        "train['res_cnt_GENDER_IR'] = train['res_cnt'] * train['GENDER_IR']\n",
        "test['res_cnt_GENDER_IR'] = test['res_cnt'] * test['GENDER_IR']"
      ]
    },
    {
      "cell_type": "markdown",
      "metadata": {
        "id": "hv9sJJclqnHW"
      },
      "source": [
        "**TYPE 별 응답확률 * 응답률**"
      ]
    },
    {
      "cell_type": "code",
      "execution_count": 110,
      "metadata": {
        "id": "NOT3UhPFqnHW"
      },
      "outputs": [],
      "source": [
        "train['TYPE_mean_RESRATE'] = train['TYPE_mean'] * train['RESRATE']\n",
        "test['TYPE_mean_RESRATE'] = test['TYPE_mean'] * test['RESRATE']"
      ]
    },
    {
      "cell_type": "markdown",
      "metadata": {
        "id": "JhgTfZgyqnHW"
      },
      "source": [
        "**난이도*시간**"
      ]
    },
    {
      "cell_type": "code",
      "execution_count": 111,
      "metadata": {
        "id": "eCi8w8yyqnHW"
      },
      "outputs": [],
      "source": [
        "train['DifficultyTimesDuration'] = train['IR'] * train['LOI']\n",
        "test['DifficultyTimesDuration'] = test['IR'] * train['LOI']"
      ]
    },
    {
      "cell_type": "markdown",
      "metadata": {
        "id": "3tDqmun1qnHW"
      },
      "source": [
        "**점수/시간  점수*시간**"
      ]
    },
    {
      "cell_type": "code",
      "execution_count": 112,
      "metadata": {
        "id": "wRTXz2VtqnHW"
      },
      "outputs": [],
      "source": [
        "#점수/시간\n",
        "train['CPI_Per_LOI'] = train['CPI'] / train['LOI']\n",
        "test['CPI_Per_LOI'] = test['CPI'] / test['LOI']\n",
        "\n",
        "#점수*시간\n",
        "train['CPI_Times_LOI'] = train['CPI'] * train['LOI']\n",
        "test['CPI_Times_LOI'] = test['CPI'] * test['LOI']"
      ]
    },
    {
      "cell_type": "markdown",
      "metadata": {},
      "source": [
        "#### A1_분류피처 생성"
      ]
    },
    {
      "cell_type": "code",
      "execution_count": 113,
      "metadata": {
        "id": "BZiYNzjyqnHW"
      },
      "outputs": [],
      "source": [
        "import pandas as pd\n",
        "import numpy as np\n",
        "import re\n",
        "\n",
        "# Train 데이터에 대한 A1_new 피처 생성\n",
        "def create_A1_new(train):\n",
        "    values = {\n",
        "        1: 1,\n",
        "        2: 2,\n",
        "        3: 2,\n",
        "        4: 3,\n",
        "        5: 4,\n",
        "        6: 4,\n",
        "        7: 4,\n",
        "        8: 5,\n",
        "        9: 6,\n",
        "        10: 6,\n",
        "        11: 6,\n",
        "        12: 7,\n",
        "        20: 7,\n",
        "        13: 8,\n",
        "        14: 9,\n",
        "        19: 9,\n",
        "        15: 10,\n",
        "        16: 11,\n",
        "        17: 11,\n",
        "        18: 12,\n",
        "        19: 9,\n",
        "        21: 13,\n",
        "        22: 14,\n",
        "        99: 99\n",
        "    }\n",
        "    train['A1_new'] = train['A1'].map(values).fillna(99)\n",
        "    return train\n",
        "\n",
        "# Train 데이터에 대한 A1_new 피처 생성\n",
        "train = create_A1_new(train)\n",
        "\n",
        "# Test 데이터에 대한 A1_new 피처 생성\n",
        "test = create_A1_new(test)"
      ]
    },
    {
      "cell_type": "code",
      "execution_count": 114,
      "metadata": {
        "id": "OZEYrHZiqnHW"
      },
      "outputs": [],
      "source": [
        "A1_new_res_mean = pd.DataFrame(train.groupby('A1_new')['RESRATE'].agg([('A1_new_res_mean',np.mean)])).reset_index()\n",
        "train = train.merge(A1_new_res_mean, how='left')\n",
        "test = test.merge(A1_new_res_mean, how='left')"
      ]
    },
    {
      "cell_type": "code",
      "execution_count": 115,
      "metadata": {
        "id": "YLjCJWuAqnHW"
      },
      "outputs": [],
      "source": [
        "#CPI별응답확률*LOI\n",
        "train['STATUS_ratio_CPI_MUL_LOI']=train['STATUS_ratio_CPI']*train['LOI']\n",
        "test ['STATUS_ratio_CPI_MUL_LOI']=test['STATUS_ratio_CPI']*test['LOI']"
      ]
    },
    {
      "cell_type": "code",
      "execution_count": 116,
      "metadata": {
        "id": "Ts-rjHqZqnHW"
      },
      "outputs": [],
      "source": [
        "#TYPE별CPI평균*LOI\n",
        "train['TYPE_CPI_mean_MUL_LOI']=train['TYPE_CPI_mean']*train['LOI']\n",
        "test ['TYPE_CPI_mean_MUL_LOI']=test['TYPE_CPI_mean']*test['LOI']"
      ]
    },
    {
      "cell_type": "code",
      "execution_count": 117,
      "metadata": {
        "id": "q_A2Zt6RqnHW"
      },
      "outputs": [],
      "source": [
        "#성별응답난이도평균*시간\n",
        "train['GENDER_IR_MUL_LOI']=train['GENDER_IR']*train['LOI']\n",
        "test['GENDER_IR_MUL_LOI'] = test['GENDER_IR']*test['LOI']"
      ]
    },
    {
      "cell_type": "markdown",
      "metadata": {
        "id": "auhSC9wMqnHW"
      },
      "source": [
        "#### 데이터 재정의"
      ]
    },
    {
      "cell_type": "markdown",
      "metadata": {},
      "source": [
        "shap과정 제거하고 shap으로 추출된 features 직접 지정"
      ]
    },
    {
      "cell_type": "code",
      "execution_count": 120,
      "metadata": {
        "id": "a5ss5CZQqnHW"
      },
      "outputs": [],
      "source": [
        "features = ['Points_earned', 'res_cnt', 'RESRATE', 'survey_p', 'TITLE', 'AVG_IR', 'res_cnt_sum_RESRATE', 'surveyID', 'TYPE', 'STATUS_ratio_CPI', 'Points_earned_mean', 'AVG_LOI', 'GENDER_multiply_RESRATE', 'ResponseTimePerDifficulty', 'CPI', 'STATUS_ratio_LOI', 'IR', 'TYPE_mean', 'REGION_multiply_RESRATE', 'RESRATE_diff_Points_earned_mean', 'GENDER', 'Points_earned_mean_sum_RESRATE', 'LOI', 'BIRTH', 'STATUS_ratio_IR', 'userID', 'REGION_status_mean', 'res_cnt_multiply_GENDER', 'AGE', 'REGION', 'B5', 'SQ8', 'BIRTH_status_mean', 'B6', 'survey_p_survey_sum']\n",
        "#막줄이 마지막 테스트 때 새로 추가"
      ]
    },
    {
      "cell_type": "code",
      "execution_count": 121,
      "metadata": {
        "colab": {
          "base_uri": "https://localhost:8080/"
        },
        "execution": {
          "iopub.execute_input": "2023-12-12T02:02:40.634038Z",
          "iopub.status.busy": "2023-12-12T02:02:40.633682Z",
          "iopub.status.idle": "2023-12-12T02:02:41.292752Z",
          "shell.execute_reply": "2023-12-12T02:02:41.291552Z",
          "shell.execute_reply.started": "2023-12-12T02:02:40.634006Z"
        },
        "id": "OKCnKNFOqnHW",
        "outputId": "f184afba-c891-4f25-fab9-443c9aa1c603",
        "papermill": {
          "duration": 0.313382,
          "end_time": "2023-12-11T12:10:28.329644",
          "exception": false,
          "start_time": "2023-12-11T12:10:28.016262",
          "status": "completed"
        },
        "tags": []
      },
      "outputs": [
        {
          "data": {
            "text/plain": [
              "8"
            ]
          },
          "execution_count": 121,
          "metadata": {},
          "output_type": "execute_result"
        }
      ],
      "source": [
        "# 데이터 필터링\n",
        "X_train = train[features]\n",
        "X_test = test[features]\n",
        "y_train = train['STATUS']\n",
        "\n",
        "# submission을 만들 때 사용하기 위해 ID 저정\n",
        "ID_test = test.ID\n",
        "\n",
        "# 메모리 낭비를 막기위해 불필요한 데이터 삭제\n",
        "del train, test\n",
        "gc.collect()"
      ]
    },
    {
      "cell_type": "code",
      "execution_count": 122,
      "metadata": {
        "execution": {
          "iopub.execute_input": "2023-12-12T02:02:41.299844Z",
          "iopub.status.busy": "2023-12-12T02:02:41.299374Z",
          "iopub.status.idle": "2023-12-12T02:02:41.306400Z",
          "shell.execute_reply": "2023-12-12T02:02:41.304520Z",
          "shell.execute_reply.started": "2023-12-12T02:02:41.299806Z"
        },
        "id": "_wwNn567qnHW",
        "papermill": {
          "duration": 0.021063,
          "end_time": "2023-12-11T12:10:28.361605",
          "exception": false,
          "start_time": "2023-12-11T12:10:28.340542",
          "status": "completed"
        },
        "tags": []
      },
      "outputs": [],
      "source": [
        "# 범주형 변수와 수치형 변수를 분리\n",
        "cat_features = ['GENDER', 'REGION', 'TYPE', 'SQ8', 'B5', 'userID', 'surveyID']\n",
        "num_features = list(set(X_train.columns) - set(cat_features))"
      ]
    },
    {
      "cell_type": "markdown",
      "metadata": {
        "id": "Y536V7qbqnHX",
        "papermill": {
          "duration": 0.010517,
          "end_time": "2023-12-11T12:10:28.383157",
          "exception": false,
          "start_time": "2023-12-11T12:10:28.37264",
          "status": "completed"
        },
        "tags": []
      },
      "source": [
        "### Feature Engineering"
      ]
    },
    {
      "cell_type": "markdown",
      "metadata": {
        "id": "N78Q0hAkqnHX",
        "papermill": {
          "duration": 0.010815,
          "end_time": "2023-12-11T12:10:28.404871",
          "exception": false,
          "start_time": "2023-12-11T12:10:28.394056",
          "status": "completed"
        },
        "tags": []
      },
      "source": [
        "##### Impute missing values"
      ]
    },
    {
      "cell_type": "code",
      "execution_count": 123,
      "metadata": {
        "id": "vVDDqJYQqnHX"
      },
      "outputs": [],
      "source": [
        "# 응답률 geature 결측값을 평균으로 대체\n",
        "mean_resrate = X_train['RESRATE'].mean()\n",
        "X_train['RESRATE'] = X_train['RESRATE'].fillna(mean_resrate)\n",
        "X_test['RESRATE'] = X_test['RESRATE'].fillna(mean_resrate)\n",
        "\n",
        "#'AVG_IR' 열의 결측치를 중앙값으로 대체\n",
        "median_AVG_IR = X_train['AVG_IR'].median()\n",
        "X_train['AVG_IR'].fillna(median_AVG_IR, inplace=True)\n",
        "X_test['AVG_IR'].fillna(median_AVG_IR, inplace=True)\n",
        "\n",
        "# 유저아이디별 응답횟수 결측치 처리\n",
        "X_train[\"res_cnt\"] = X_train[\"res_cnt\"].fillna(0)"
      ]
    },
    {
      "cell_type": "code",
      "execution_count": 124,
      "metadata": {
        "execution": {
          "iopub.execute_input": "2023-12-12T02:02:41.309130Z",
          "iopub.status.busy": "2023-12-12T02:02:41.308701Z",
          "iopub.status.idle": "2023-12-12T02:02:45.265686Z",
          "shell.execute_reply": "2023-12-12T02:02:45.264588Z",
          "shell.execute_reply.started": "2023-12-12T02:02:41.309090Z"
        },
        "id": "OkQmumTgqnHX",
        "papermill": {
          "duration": 2.935148,
          "end_time": "2023-12-11T12:10:31.350958",
          "exception": false,
          "start_time": "2023-12-11T12:10:28.41581",
          "status": "completed"
        },
        "tags": []
      },
      "outputs": [],
      "source": [
        "# 결측값 처리: 범주형이냐 수치형이냐에 따라 다르게 처리\n",
        "if len(num_features) > 0:\n",
        "    imp = SimpleImputer(strategy='mean')\n",
        "    X_train[num_features] = imp.fit_transform(X_train[num_features])\n",
        "    X_test[num_features] = imp.transform(X_test[num_features])\n",
        "\n",
        "if len(cat_features) > 0:\n",
        "    imp_cat = SimpleImputer(strategy=\"constant\", fill_value=\"없음\")\n",
        "    X_train[cat_features] = imp_cat.fit_transform(X_train[cat_features])\n",
        "    X_test[cat_features] = imp_cat.transform(X_test[cat_features])\n",
        "# if len(cat_features) > 0:\n",
        "#     imp = SimpleImputer(strategy=\"most_frequent\")\n",
        "#     X_train[cat_features] = imp.fit_transform(X_train[cat_features])\n",
        "#     X_test[cat_features] = imp.transform(X_test[cat_features])"
      ]
    },
    {
      "cell_type": "code",
      "execution_count": 125,
      "metadata": {
        "id": "VwroSOijqnHX"
      },
      "outputs": [],
      "source": [
        "X_train[cat_features] = X_train[cat_features].astype(str)\n",
        "X_test[cat_features] = X_test[cat_features].astype(str)"
      ]
    },
    {
      "cell_type": "code",
      "execution_count": 126,
      "metadata": {
        "execution": {
          "iopub.execute_input": "2023-12-12T02:02:45.267582Z",
          "iopub.status.busy": "2023-12-12T02:02:45.267111Z",
          "iopub.status.idle": "2023-12-12T02:02:45.414265Z",
          "shell.execute_reply": "2023-12-12T02:02:45.412932Z",
          "shell.execute_reply.started": "2023-12-12T02:02:45.267539Z"
        },
        "id": "joclRSecqnHX",
        "papermill": {
          "duration": 0.119136,
          "end_time": "2023-12-11T12:10:31.480753",
          "exception": false,
          "start_time": "2023-12-11T12:10:31.361617",
          "status": "completed"
        },
        "tags": []
      },
      "outputs": [],
      "source": [
        "X_train['GENDER'] = X_train['GENDER'].astype(float).astype(int)\n",
        "X_train['REGION'] = X_train['REGION'].astype(float).astype(int)\n",
        "X_test['GENDER'] = X_test['GENDER'].astype(float).astype(int)\n",
        "X_test['REGION'] = X_test['REGION'].astype(float).astype(int)"
      ]
    },
    {
      "cell_type": "markdown",
      "metadata": {
        "id": "4BproQ7OqnHX",
        "papermill": {
          "duration": 0.010473,
          "end_time": "2023-12-11T12:10:31.50224",
          "exception": false,
          "start_time": "2023-12-11T12:10:31.491767",
          "status": "completed"
        },
        "tags": []
      },
      "source": [
        "##### Transform features (Feature Scaling)"
      ]
    },
    {
      "cell_type": "code",
      "execution_count": 127,
      "metadata": {
        "execution": {
          "iopub.execute_input": "2023-12-12T02:02:45.415663Z",
          "iopub.status.busy": "2023-12-12T02:02:45.415293Z",
          "iopub.status.idle": "2023-12-12T02:02:45.563096Z",
          "shell.execute_reply": "2023-12-12T02:02:45.561588Z",
          "shell.execute_reply.started": "2023-12-12T02:02:45.415632Z"
        },
        "id": "8iwazI7BqnHX",
        "papermill": {
          "duration": 0.105752,
          "end_time": "2023-12-11T12:10:31.61877",
          "exception": false,
          "start_time": "2023-12-11T12:10:31.513018",
          "status": "completed"
        },
        "tags": []
      },
      "outputs": [],
      "source": [
        "scaler = StandardScaler()\n",
        "X_train[num_features] = scaler.fit_transform(X_train[num_features])\n",
        "X_test[num_features] = scaler.transform(X_test[num_features])"
      ]
    },
    {
      "cell_type": "markdown",
      "metadata": {
        "id": "ucVRSKo5qnHX",
        "papermill": {
          "duration": 0.010943,
          "end_time": "2023-12-11T12:10:31.641503",
          "exception": false,
          "start_time": "2023-12-11T12:10:31.63056",
          "status": "completed"
        },
        "tags": []
      },
      "source": [
        "##### Encode categorical features"
      ]
    },
    {
      "cell_type": "code",
      "execution_count": 128,
      "metadata": {
        "id": "NXjlXMFrqnHX"
      },
      "outputs": [],
      "source": [
        "le = OrdinalEncoder(handle_unknown='use_encoded_value', unknown_value=-1, dtype=int)\n",
        "X_train[cat_features] = le.fit_transform(X_train[cat_features])\n",
        "X_test[cat_features] = le.transform(X_test[cat_features])"
      ]
    },
    {
      "cell_type": "markdown",
      "metadata": {
        "id": "wjpBfZoQqnHX"
      },
      "source": [
        "['Points_earned', 'res_cnt', 'RESRATE', 'survey_p', 'TITLE', 'AVG_IR',\n",
        "       'res_cnt_sum_RESRATE', 'surveyID', 'TYPE', 'STATUS_ratio_CPI',\n",
        "       'Points_earned_mean', 'AVG_LOI', 'GENDER_multiply_RESRATE',\n",
        "       'ResponseTimePerDifficulty', 'CPI', 'STATUS_ratio_LOI', 'IR',\n",
        "       'TYPE_mean', 'REGION_multiply_RESRATE',\n",
        "       'RESRATE_diff_Points_earned_mean', 'GENDER',\n",
        "       'Points_earned_mean_sum_RESRATE', 'LOI', 'BIRTH', 'STATUS_ratio_IR',\n",
        "       'userID', 'REGION_status_mean', 'res_cnt_multiply_GENDER', 'AGE',\n",
        "       'REGION', 'B5', 'g_i', 'SQ8', 'BIRTH_status_mean', 'B6']"
      ]
    },
    {
      "cell_type": "markdown",
      "metadata": {
        "id": "hi8wf_dPqnHX",
        "papermill": {
          "duration": 0.010708,
          "end_time": "2023-12-11T12:10:35.124721",
          "exception": false,
          "start_time": "2023-12-11T12:10:35.114013",
          "status": "completed"
        },
        "tags": []
      },
      "source": [
        "### Model building"
      ]
    },
    {
      "cell_type": "code",
      "execution_count": 129,
      "metadata": {
        "colab": {
          "base_uri": "https://localhost:8080/"
        },
        "id": "UFUQASTHqnHX",
        "outputId": "6ddce6c2-5335-483f-da8d-7503d9cf1b54"
      },
      "outputs": [
        {
          "data": {
            "text/plain": [
              "Index(['Points_earned', 'res_cnt', 'RESRATE', 'survey_p', 'TITLE', 'AVG_IR',\n",
              "       'res_cnt_sum_RESRATE', 'surveyID', 'TYPE', 'STATUS_ratio_CPI',\n",
              "       'Points_earned_mean', 'AVG_LOI', 'GENDER_multiply_RESRATE',\n",
              "       'ResponseTimePerDifficulty', 'CPI', 'STATUS_ratio_LOI', 'IR',\n",
              "       'TYPE_mean', 'REGION_multiply_RESRATE',\n",
              "       'RESRATE_diff_Points_earned_mean', 'GENDER',\n",
              "       'Points_earned_mean_sum_RESRATE', 'LOI', 'BIRTH', 'STATUS_ratio_IR',\n",
              "       'userID', 'REGION_status_mean', 'res_cnt_multiply_GENDER', 'AGE',\n",
              "       'REGION', 'B5', 'SQ8', 'BIRTH_status_mean', 'B6',\n",
              "       'survey_p_survey_sum'],\n",
              "      dtype='object')"
            ]
          },
          "execution_count": 129,
          "metadata": {},
          "output_type": "execute_result"
        }
      ],
      "source": [
        "X_train.columns"
      ]
    },
    {
      "cell_type": "code",
      "execution_count": 130,
      "metadata": {
        "id": "lpyi0jInqnHX"
      },
      "outputs": [],
      "source": [
        "# 예측값을 저장할 폴더 생성\n",
        "folder = 'dnn_ensemble_final'\n",
        "if not os.path.isdir(folder):\n",
        "    os.mkdir(folder)"
      ]
    },
    {
      "cell_type": "markdown",
      "metadata": {},
      "source": [
        "로컬 노트북에서 돌아가지 않아 코랩에서 진행"
      ]
    },
    {
      "cell_type": "code",
      "execution_count": 131,
      "metadata": {
        "colab": {
          "base_uri": "https://localhost:8080/"
        },
        "id": "Jb2VhNU_w_6s",
        "outputId": "e1bba96a-2643-4f96-8a43-933bce6beab4"
      },
      "outputs": [
        {
          "name": "stdout",
          "output_type": "stream",
          "text": [
            "Num GPUs Available:  1\n"
          ]
        }
      ],
      "source": [
        "import tensorflow as tf\n",
        "print(\"Num GPUs Available: \", len(tf.config.experimental.list_physical_devices('GPU')))"
      ]
    },
    {
      "cell_type": "code",
      "execution_count": 132,
      "metadata": {
        "colab": {
          "base_uri": "https://localhost:8080/"
        },
        "id": "J2z_0nyDxNXc",
        "outputId": "a1f7643a-a08e-46d9-b603-9ec413291e4b"
      },
      "outputs": [
        {
          "name": "stdout",
          "output_type": "stream",
          "text": [
            "[name: \"/device:CPU:0\"\n",
            "device_type: \"CPU\"\n",
            "memory_limit: 268435456\n",
            "locality {\n",
            "}\n",
            "incarnation: 4503533090654945815\n",
            "xla_global_id: -1\n",
            ", name: \"/device:GPU:0\"\n",
            "device_type: \"GPU\"\n",
            "memory_limit: 14626652160\n",
            "locality {\n",
            "  bus_id: 1\n",
            "  links {\n",
            "  }\n",
            "}\n",
            "incarnation: 4829760127293472001\n",
            "physical_device_desc: \"device: 0, name: Tesla T4, pci bus id: 0000:00:04.0, compute capability: 7.5\"\n",
            "xla_global_id: 416903419\n",
            "]\n"
          ]
        }
      ],
      "source": [
        "from tensorflow.python.client import device_lib\n",
        "print(device_lib.list_local_devices())"
      ]
    },
    {
      "cell_type": "code",
      "execution_count": 133,
      "metadata": {
        "colab": {
          "base_uri": "https://localhost:8080/",
          "height": 1000,
          "referenced_widgets": [
            "96d4cc3a8d344aacbbb97723fbb32935",
            "9b0e18246be84d0abfdad2968de07ea1",
            "64059d31841d4205b37188ff271fcc27",
            "c24c0d21f36a4569b99b68acdf017f74",
            "08da353fc73346e7997bc89ca94786b2",
            "b4257cf257a8452d8fdb3306c8f4b568",
            "1f682f5309924bd0975b011410c8bcd5",
            "3e9e09e973af413fa5701f42b52f28e6",
            "b9823679a2234ba49d5a87bc68fd5ae9",
            "2e14ad1a0d0b4986a7221049e354c38f",
            "0142a9bee08d4f33927c23bbb28022a2"
          ]
        },
        "id": "JguAbdpSqnHX",
        "outputId": "7adf9a4b-113f-44d2-cf07-4f2a22d08112"
      },
      "outputs": [
        {
          "data": {
            "application/vnd.jupyter.widget-view+json": {
              "model_id": "96d4cc3a8d344aacbbb97723fbb32935",
              "version_major": 2,
              "version_minor": 0
            },
            "text/plain": [
              "  0%|          | 0/19 [00:00<?, ?it/s]"
            ]
          },
          "metadata": {},
          "output_type": "display_data"
        },
        {
          "name": "stdout",
          "output_type": "stream",
          "text": [
            "RANDOM SEEDS RESET:  1232\n",
            "Epoch 1/50\n",
            "155/155 [==============================] - 40s 219ms/step - loss: 0.4468 - acc: 0.7778 - binary_accuracy: 0.7778 - val_loss: nan - val_acc: 0.9149 - val_binary_accuracy: 0.9149\n",
            "Epoch 2/50\n",
            "155/155 [==============================] - 2s 12ms/step - loss: 0.3404 - acc: 0.8427 - binary_accuracy: 0.8427 - val_loss: nan - val_acc: 0.9172 - val_binary_accuracy: 0.9172\n",
            "Epoch 3/50\n",
            "155/155 [==============================] - 2s 13ms/step - loss: 0.3202 - acc: 0.8519 - binary_accuracy: 0.8519 - val_loss: nan - val_acc: 0.9174 - val_binary_accuracy: 0.9174\n",
            "Epoch 4/50\n",
            "155/155 [==============================] - 2s 13ms/step - loss: 0.3112 - acc: 0.8549 - binary_accuracy: 0.8549 - val_loss: nan - val_acc: 0.9178 - val_binary_accuracy: 0.9178\n",
            "Epoch 5/50\n",
            "155/155 [==============================] - 2s 16ms/step - loss: 0.3035 - acc: 0.8579 - binary_accuracy: 0.8579 - val_loss: nan - val_acc: 0.9175 - val_binary_accuracy: 0.9175\n",
            "validation accuracy =  0.9174507856369019\n",
            "16934/16934 [==============================] - 59s 3ms/step\n",
            "RANDOM SEEDS RESET:  3975\n",
            "Epoch 1/50\n",
            "155/155 [==============================] - 25s 139ms/step - loss: 0.5612 - acc: 0.6975 - binary_accuracy: 0.6975 - val_loss: nan - val_acc: 0.9107 - val_binary_accuracy: 0.9107\n",
            "Epoch 2/50\n",
            "155/155 [==============================] - 2s 13ms/step - loss: 0.3602 - acc: 0.8338 - binary_accuracy: 0.8338 - val_loss: nan - val_acc: 0.9157 - val_binary_accuracy: 0.9157\n",
            "Epoch 3/50\n",
            "155/155 [==============================] - 2s 14ms/step - loss: 0.3263 - acc: 0.8498 - binary_accuracy: 0.8498 - val_loss: nan - val_acc: 0.9164 - val_binary_accuracy: 0.9164\n",
            "Epoch 4/50\n",
            "155/155 [==============================] - 2s 14ms/step - loss: 0.3149 - acc: 0.8542 - binary_accuracy: 0.8542 - val_loss: nan - val_acc: 0.9169 - val_binary_accuracy: 0.9169\n",
            "Epoch 5/50\n",
            "155/155 [==============================] - 4s 23ms/step - loss: 0.3057 - acc: 0.8571 - binary_accuracy: 0.8571 - val_loss: nan - val_acc: 0.9173 - val_binary_accuracy: 0.9173\n",
            "validation accuracy =  0.917305052280426\n",
            "16934/16934 [==============================] - 60s 4ms/step\n",
            "RANDOM SEEDS RESET:  1549\n",
            "Epoch 1/50\n",
            "155/155 [==============================] - 25s 142ms/step - loss: 0.4381 - acc: 0.7933 - binary_accuracy: 0.7933 - val_loss: nan - val_acc: 0.9162 - val_binary_accuracy: 0.9162\n",
            "Epoch 2/50\n",
            "155/155 [==============================] - 2s 14ms/step - loss: 0.3342 - acc: 0.8467 - binary_accuracy: 0.8467 - val_loss: nan - val_acc: 0.9185 - val_binary_accuracy: 0.9185\n",
            "Epoch 3/50\n",
            "155/155 [==============================] - 2s 13ms/step - loss: 0.3168 - acc: 0.8535 - binary_accuracy: 0.8535 - val_loss: nan - val_acc: 0.9184 - val_binary_accuracy: 0.9184\n",
            "Epoch 4/50\n",
            "155/155 [==============================] - 2s 13ms/step - loss: 0.3081 - acc: 0.8566 - binary_accuracy: 0.8566 - val_loss: nan - val_acc: 0.9185 - val_binary_accuracy: 0.9185\n",
            "Epoch 5/50\n",
            "155/155 [==============================] - 2s 13ms/step - loss: 0.3025 - acc: 0.8583 - binary_accuracy: 0.8583 - val_loss: nan - val_acc: 0.9185 - val_binary_accuracy: 0.9185\n",
            "validation accuracy =  0.9185405969619751\n",
            "16934/16934 [==============================] - 61s 4ms/step\n",
            "RANDOM SEEDS RESET:  8947\n",
            "Epoch 1/50\n",
            "155/155 [==============================] - 25s 138ms/step - loss: 0.4362 - acc: 0.7978 - binary_accuracy: 0.7978 - val_loss: nan - val_acc: 0.9153 - val_binary_accuracy: 0.9153\n",
            "Epoch 2/50\n",
            "155/155 [==============================] - 2s 13ms/step - loss: 0.3360 - acc: 0.8455 - binary_accuracy: 0.8455 - val_loss: nan - val_acc: 0.9182 - val_binary_accuracy: 0.9182\n",
            "Epoch 3/50\n",
            "155/155 [==============================] - 2s 13ms/step - loss: 0.3170 - acc: 0.8539 - binary_accuracy: 0.8539 - val_loss: nan - val_acc: 0.9183 - val_binary_accuracy: 0.9183\n",
            "Epoch 4/50\n",
            "155/155 [==============================] - 2s 13ms/step - loss: 0.3071 - acc: 0.8577 - binary_accuracy: 0.8577 - val_loss: nan - val_acc: 0.9185 - val_binary_accuracy: 0.9185\n",
            "Epoch 5/50\n",
            "155/155 [==============================] - 2s 13ms/step - loss: 0.2994 - acc: 0.8603 - binary_accuracy: 0.8603 - val_loss: nan - val_acc: 0.9184 - val_binary_accuracy: 0.9184\n",
            "validation accuracy =  0.9183948636054993\n",
            "16934/16934 [==============================] - 60s 4ms/step\n",
            "RANDOM SEEDS RESET:  3521\n",
            "Epoch 1/50\n",
            "155/155 [==============================] - 25s 140ms/step - loss: 0.4737 - acc: 0.7679 - binary_accuracy: 0.7679 - val_loss: nan - val_acc: 0.9136 - val_binary_accuracy: 0.9136\n",
            "Epoch 2/50\n",
            "155/155 [==============================] - 4s 24ms/step - loss: 0.3398 - acc: 0.8444 - binary_accuracy: 0.8444 - val_loss: nan - val_acc: 0.9170 - val_binary_accuracy: 0.9170\n",
            "Epoch 3/50\n",
            "155/155 [==============================] - 3s 22ms/step - loss: 0.3197 - acc: 0.8530 - binary_accuracy: 0.8530 - val_loss: nan - val_acc: 0.9170 - val_binary_accuracy: 0.9170\n",
            "Epoch 4/50\n",
            "155/155 [==============================] - 2s 14ms/step - loss: 0.3114 - acc: 0.8551 - binary_accuracy: 0.8551 - val_loss: nan - val_acc: 0.9163 - val_binary_accuracy: 0.9163\n",
            "Epoch 5/50\n",
            "155/155 [==============================] - 3s 18ms/step - loss: 0.3048 - acc: 0.8578 - binary_accuracy: 0.8578 - val_loss: nan - val_acc: 0.9169 - val_binary_accuracy: 0.9169\n",
            "validation accuracy =  0.9168615341186523\n",
            "16934/16934 [==============================] - 59s 3ms/step\n",
            "RANDOM SEEDS RESET:  9715\n",
            "Epoch 1/50\n",
            "155/155 [==============================] - 25s 134ms/step - loss: 0.5123 - acc: 0.7322 - binary_accuracy: 0.7322 - val_loss: nan - val_acc: 0.9122 - val_binary_accuracy: 0.9122\n",
            "Epoch 2/50\n",
            "155/155 [==============================] - 3s 20ms/step - loss: 0.3447 - acc: 0.8418 - binary_accuracy: 0.8418 - val_loss: nan - val_acc: 0.9176 - val_binary_accuracy: 0.9176\n",
            "Epoch 3/50\n",
            "155/155 [==============================] - 2s 13ms/step - loss: 0.3206 - acc: 0.8525 - binary_accuracy: 0.8525 - val_loss: nan - val_acc: 0.9179 - val_binary_accuracy: 0.9179\n",
            "Epoch 4/50\n",
            "155/155 [==============================] - 2s 13ms/step - loss: 0.3111 - acc: 0.8566 - binary_accuracy: 0.8566 - val_loss: nan - val_acc: 0.9185 - val_binary_accuracy: 0.9185\n",
            "Epoch 5/50\n",
            "155/155 [==============================] - 2s 14ms/step - loss: 0.3022 - acc: 0.8599 - binary_accuracy: 0.8599 - val_loss: nan - val_acc: 0.9186 - val_binary_accuracy: 0.9186\n",
            "validation accuracy =  0.9185976386070251\n",
            "16934/16934 [==============================] - 61s 4ms/step\n",
            "RANDOM SEEDS RESET:  96\n",
            "Epoch 1/50\n",
            "155/155 [==============================] - 24s 132ms/step - loss: 0.4408 - acc: 0.7858 - binary_accuracy: 0.7858 - val_loss: nan - val_acc: 0.9152 - val_binary_accuracy: 0.9152\n",
            "Epoch 2/50\n",
            "155/155 [==============================] - 3s 17ms/step - loss: 0.3410 - acc: 0.8421 - binary_accuracy: 0.8421 - val_loss: nan - val_acc: 0.9177 - val_binary_accuracy: 0.9177\n",
            "Epoch 3/50\n",
            "155/155 [==============================] - 3s 17ms/step - loss: 0.3199 - acc: 0.8525 - binary_accuracy: 0.8525 - val_loss: nan - val_acc: 0.9177 - val_binary_accuracy: 0.9177\n",
            "Epoch 4/50\n",
            "155/155 [==============================] - 2s 13ms/step - loss: 0.3106 - acc: 0.8559 - binary_accuracy: 0.8559 - val_loss: nan - val_acc: 0.9180 - val_binary_accuracy: 0.9180\n",
            "Epoch 5/50\n",
            "155/155 [==============================] - 2s 14ms/step - loss: 0.3032 - acc: 0.8582 - binary_accuracy: 0.8582 - val_loss: nan - val_acc: 0.9184 - val_binary_accuracy: 0.9184\n",
            "validation accuracy =  0.9184012413024902\n",
            "16934/16934 [==============================] - 64s 4ms/step\n",
            "RANDOM SEEDS RESET:  9639\n",
            "Epoch 1/50\n",
            "155/155 [==============================] - 25s 140ms/step - loss: 0.4178 - acc: 0.8078 - binary_accuracy: 0.8078 - val_loss: nan - val_acc: 0.9176 - val_binary_accuracy: 0.9176\n",
            "Epoch 2/50\n",
            "155/155 [==============================] - 3s 21ms/step - loss: 0.3314 - acc: 0.8482 - binary_accuracy: 0.8482 - val_loss: nan - val_acc: 0.9186 - val_binary_accuracy: 0.9186\n",
            "Epoch 3/50\n",
            "155/155 [==============================] - 2s 12ms/step - loss: 0.3157 - acc: 0.8546 - binary_accuracy: 0.8546 - val_loss: nan - val_acc: 0.9187 - val_binary_accuracy: 0.9187\n",
            "Epoch 4/50\n",
            "155/155 [==============================] - 2s 14ms/step - loss: 0.3060 - acc: 0.8576 - binary_accuracy: 0.8576 - val_loss: nan - val_acc: 0.9191 - val_binary_accuracy: 0.9191\n",
            "Epoch 5/50\n",
            "155/155 [==============================] - 2s 13ms/step - loss: 0.3000 - acc: 0.8594 - binary_accuracy: 0.8594 - val_loss: nan - val_acc: 0.9190 - val_binary_accuracy: 0.9190\n",
            "validation accuracy =  0.9190348386764526\n",
            "16934/16934 [==============================] - 60s 4ms/step\n",
            "RANDOM SEEDS RESET:  4686\n",
            "Epoch 1/50\n",
            "155/155 [==============================] - 25s 141ms/step - loss: 0.4153 - acc: 0.8055 - binary_accuracy: 0.8055 - val_loss: nan - val_acc: 0.9162 - val_binary_accuracy: 0.9162\n",
            "Epoch 2/50\n",
            "155/155 [==============================] - 2s 13ms/step - loss: 0.3332 - acc: 0.8461 - binary_accuracy: 0.8461 - val_loss: nan - val_acc: 0.9185 - val_binary_accuracy: 0.9185\n",
            "Epoch 3/50\n",
            "155/155 [==============================] - 2s 13ms/step - loss: 0.3169 - acc: 0.8535 - binary_accuracy: 0.8535 - val_loss: nan - val_acc: 0.9190 - val_binary_accuracy: 0.9190\n",
            "Epoch 4/50\n",
            "155/155 [==============================] - 2s 14ms/step - loss: 0.3067 - acc: 0.8571 - binary_accuracy: 0.8571 - val_loss: nan - val_acc: 0.9192 - val_binary_accuracy: 0.9192\n",
            "Epoch 5/50\n",
            "155/155 [==============================] - 2s 14ms/step - loss: 0.2996 - acc: 0.8597 - binary_accuracy: 0.8597 - val_loss: nan - val_acc: 0.9190 - val_binary_accuracy: 0.9190\n",
            "validation accuracy =  0.9190412163734436\n",
            "16934/16934 [==============================] - 63s 4ms/step\n",
            "RANDOM SEEDS RESET:  4944\n",
            "Epoch 1/50\n",
            "155/155 [==============================] - 25s 141ms/step - loss: 0.4223 - acc: 0.7962 - binary_accuracy: 0.7962 - val_loss: nan - val_acc: 0.9166 - val_binary_accuracy: 0.9166\n",
            "Epoch 2/50\n",
            "155/155 [==============================] - 2s 13ms/step - loss: 0.3342 - acc: 0.8449 - binary_accuracy: 0.8449 - val_loss: nan - val_acc: 0.9180 - val_binary_accuracy: 0.9180\n",
            "Epoch 3/50\n",
            "155/155 [==============================] - 2s 14ms/step - loss: 0.3177 - acc: 0.8530 - binary_accuracy: 0.8530 - val_loss: nan - val_acc: 0.9181 - val_binary_accuracy: 0.9181\n",
            "Epoch 4/50\n",
            "155/155 [==============================] - 2s 13ms/step - loss: 0.3090 - acc: 0.8563 - binary_accuracy: 0.8563 - val_loss: nan - val_acc: 0.9183 - val_binary_accuracy: 0.9183\n",
            "Epoch 5/50\n",
            "155/155 [==============================] - 2s 16ms/step - loss: 0.3015 - acc: 0.8592 - binary_accuracy: 0.8592 - val_loss: nan - val_acc: 0.9187 - val_binary_accuracy: 0.9187\n",
            "validation accuracy =  0.9187117218971252\n",
            "16934/16934 [==============================] - 60s 4ms/step\n",
            "RANDOM SEEDS RESET:  513\n",
            "Epoch 1/50\n",
            "155/155 [==============================] - 25s 140ms/step - loss: 0.4008 - acc: 0.8164 - binary_accuracy: 0.8164 - val_loss: nan - val_acc: 0.9171 - val_binary_accuracy: 0.9171\n",
            "Epoch 2/50\n",
            "155/155 [==============================] - 2s 14ms/step - loss: 0.3291 - acc: 0.8483 - binary_accuracy: 0.8483 - val_loss: nan - val_acc: 0.9187 - val_binary_accuracy: 0.9187\n",
            "Epoch 3/50\n",
            "155/155 [==============================] - 2s 13ms/step - loss: 0.3161 - acc: 0.8539 - binary_accuracy: 0.8539 - val_loss: nan - val_acc: 0.9186 - val_binary_accuracy: 0.9186\n",
            "Epoch 4/50\n",
            "155/155 [==============================] - 2s 14ms/step - loss: 0.3073 - acc: 0.8567 - binary_accuracy: 0.8567 - val_loss: nan - val_acc: 0.9189 - val_binary_accuracy: 0.9189\n",
            "Epoch 5/50\n",
            "155/155 [==============================] - 2s 14ms/step - loss: 0.2999 - acc: 0.8592 - binary_accuracy: 0.8592 - val_loss: nan - val_acc: 0.9184 - val_binary_accuracy: 0.9184\n",
            "validation accuracy =  0.9183822274208069\n",
            "16934/16934 [==============================] - 61s 4ms/step\n",
            "RANDOM SEEDS RESET:  661\n",
            "Epoch 1/50\n",
            "155/155 [==============================] - 24s 136ms/step - loss: 0.4184 - acc: 0.8019 - binary_accuracy: 0.8019 - val_loss: nan - val_acc: 0.9164 - val_binary_accuracy: 0.9164\n",
            "Epoch 2/50\n",
            "155/155 [==============================] - 2s 14ms/step - loss: 0.3318 - acc: 0.8471 - binary_accuracy: 0.8471 - val_loss: nan - val_acc: 0.9181 - val_binary_accuracy: 0.9181\n",
            "Epoch 3/50\n",
            "155/155 [==============================] - 2s 14ms/step - loss: 0.3149 - acc: 0.8543 - binary_accuracy: 0.8543 - val_loss: nan - val_acc: 0.9188 - val_binary_accuracy: 0.9188\n",
            "Epoch 4/50\n",
            "155/155 [==============================] - 2s 15ms/step - loss: 0.3053 - acc: 0.8574 - binary_accuracy: 0.8574 - val_loss: nan - val_acc: 0.9189 - val_binary_accuracy: 0.9189\n",
            "Epoch 5/50\n",
            "155/155 [==============================] - 2s 15ms/step - loss: 0.2998 - acc: 0.8591 - binary_accuracy: 0.8591 - val_loss: nan - val_acc: 0.9189 - val_binary_accuracy: 0.9189\n",
            "validation accuracy =  0.9189398288726807\n",
            "16934/16934 [==============================] - 60s 4ms/step\n",
            "RANDOM SEEDS RESET:  2525\n",
            "Epoch 1/50\n",
            "155/155 [==============================] - 25s 134ms/step - loss: 0.4465 - acc: 0.7852 - binary_accuracy: 0.7852 - val_loss: nan - val_acc: 0.9152 - val_binary_accuracy: 0.9152\n",
            "Epoch 2/50\n",
            "155/155 [==============================] - 2s 14ms/step - loss: 0.3409 - acc: 0.8441 - binary_accuracy: 0.8441 - val_loss: nan - val_acc: 0.9182 - val_binary_accuracy: 0.9182\n",
            "Epoch 3/50\n",
            "155/155 [==============================] - 2s 13ms/step - loss: 0.3195 - acc: 0.8530 - binary_accuracy: 0.8530 - val_loss: nan - val_acc: 0.9185 - val_binary_accuracy: 0.9185\n",
            "Epoch 4/50\n",
            "155/155 [==============================] - 2s 14ms/step - loss: 0.3108 - acc: 0.8558 - binary_accuracy: 0.8558 - val_loss: nan - val_acc: 0.9183 - val_binary_accuracy: 0.9183\n",
            "Epoch 5/50\n",
            "155/155 [==============================] - 2s 13ms/step - loss: 0.3033 - acc: 0.8585 - binary_accuracy: 0.8585 - val_loss: nan - val_acc: 0.9188 - val_binary_accuracy: 0.9188\n",
            "validation accuracy =  0.9188131093978882\n",
            "16934/16934 [==============================] - 59s 3ms/step\n",
            "RANDOM SEEDS RESET:  6781\n",
            "Epoch 1/50\n",
            "155/155 [==============================] - 24s 132ms/step - loss: 0.4208 - acc: 0.8004 - binary_accuracy: 0.8004 - val_loss: nan - val_acc: 0.9166 - val_binary_accuracy: 0.9166\n",
            "Epoch 2/50\n",
            "155/155 [==============================] - 2s 13ms/step - loss: 0.3327 - acc: 0.8466 - binary_accuracy: 0.8466 - val_loss: nan - val_acc: 0.9181 - val_binary_accuracy: 0.9181\n",
            "Epoch 3/50\n",
            "155/155 [==============================] - 3s 19ms/step - loss: 0.3176 - acc: 0.8530 - binary_accuracy: 0.8530 - val_loss: nan - val_acc: 0.9184 - val_binary_accuracy: 0.9184\n",
            "Epoch 4/50\n",
            "155/155 [==============================] - 2s 14ms/step - loss: 0.3096 - acc: 0.8560 - binary_accuracy: 0.8560 - val_loss: nan - val_acc: 0.9191 - val_binary_accuracy: 0.9191\n",
            "Epoch 5/50\n",
            "155/155 [==============================] - 3s 17ms/step - loss: 0.3032 - acc: 0.8579 - binary_accuracy: 0.8579 - val_loss: nan - val_acc: 0.9192 - val_binary_accuracy: 0.9192\n",
            "validation accuracy =  0.9191932678222656\n",
            "16934/16934 [==============================] - 59s 3ms/step\n",
            "RANDOM SEEDS RESET:  8888\n",
            "Epoch 1/50\n",
            "155/155 [==============================] - 24s 136ms/step - loss: 0.4521 - acc: 0.7876 - binary_accuracy: 0.7876 - val_loss: nan - val_acc: 0.9145 - val_binary_accuracy: 0.9145\n",
            "Epoch 2/50\n",
            "155/155 [==============================] - 2s 13ms/step - loss: 0.3416 - acc: 0.8428 - binary_accuracy: 0.8428 - val_loss: nan - val_acc: 0.9175 - val_binary_accuracy: 0.9175\n",
            "Epoch 3/50\n",
            "155/155 [==============================] - 2s 14ms/step - loss: 0.3215 - acc: 0.8513 - binary_accuracy: 0.8513 - val_loss: nan - val_acc: 0.9175 - val_binary_accuracy: 0.9175\n",
            "Epoch 4/50\n",
            "155/155 [==============================] - 2s 13ms/step - loss: 0.3138 - acc: 0.8539 - binary_accuracy: 0.8539 - val_loss: nan - val_acc: 0.9174 - val_binary_accuracy: 0.9174\n",
            "Epoch 5/50\n",
            "155/155 [==============================] - 2s 14ms/step - loss: 0.3072 - acc: 0.8568 - binary_accuracy: 0.8568 - val_loss: nan - val_acc: 0.9176 - val_binary_accuracy: 0.9176\n",
            "validation accuracy =  0.9175711870193481\n",
            "16934/16934 [==============================] - 59s 3ms/step\n",
            "RANDOM SEEDS RESET:  4484\n",
            "Epoch 1/50\n",
            "155/155 [==============================] - 25s 136ms/step - loss: 0.4843 - acc: 0.7595 - binary_accuracy: 0.7595 - val_loss: nan - val_acc: 0.9128 - val_binary_accuracy: 0.9128\n",
            "Epoch 2/50\n",
            "155/155 [==============================] - 2s 13ms/step - loss: 0.3454 - acc: 0.8407 - binary_accuracy: 0.8407 - val_loss: nan - val_acc: 0.9163 - val_binary_accuracy: 0.9163\n",
            "Epoch 3/50\n",
            "155/155 [==============================] - 2s 14ms/step - loss: 0.3211 - acc: 0.8517 - binary_accuracy: 0.8517 - val_loss: nan - val_acc: 0.9168 - val_binary_accuracy: 0.9168\n",
            "Epoch 4/50\n",
            "155/155 [==============================] - 2s 14ms/step - loss: 0.3110 - acc: 0.8550 - binary_accuracy: 0.8550 - val_loss: nan - val_acc: 0.9175 - val_binary_accuracy: 0.9175\n",
            "Epoch 5/50\n",
            "155/155 [==============================] - 2s 15ms/step - loss: 0.3039 - acc: 0.8581 - binary_accuracy: 0.8581 - val_loss: nan - val_acc: 0.9175 - val_binary_accuracy: 0.9175\n",
            "validation accuracy =  0.9174697995185852\n",
            "16934/16934 [==============================] - 63s 4ms/step\n",
            "RANDOM SEEDS RESET:  6678\n",
            "Epoch 1/50\n",
            "155/155 [==============================] - 25s 139ms/step - loss: 0.4952 - acc: 0.7716 - binary_accuracy: 0.7716 - val_loss: nan - val_acc: 0.9117 - val_binary_accuracy: 0.9117\n",
            "Epoch 2/50\n",
            "155/155 [==============================] - 2s 15ms/step - loss: 0.3422 - acc: 0.8438 - binary_accuracy: 0.8438 - val_loss: nan - val_acc: 0.9178 - val_binary_accuracy: 0.9178\n",
            "Epoch 3/50\n",
            "155/155 [==============================] - 2s 15ms/step - loss: 0.3222 - acc: 0.8514 - binary_accuracy: 0.8514 - val_loss: nan - val_acc: 0.9179 - val_binary_accuracy: 0.9179\n",
            "Epoch 4/50\n",
            "155/155 [==============================] - 2s 14ms/step - loss: 0.3150 - acc: 0.8537 - binary_accuracy: 0.8537 - val_loss: nan - val_acc: 0.9176 - val_binary_accuracy: 0.9176\n",
            "Epoch 5/50\n",
            "155/155 [==============================] - 3s 17ms/step - loss: 0.3089 - acc: 0.8560 - binary_accuracy: 0.8560 - val_loss: nan - val_acc: 0.9179 - val_binary_accuracy: 0.9179\n",
            "validation accuracy =  0.9179323315620422\n",
            "16934/16934 [==============================] - 64s 4ms/step\n",
            "RANDOM SEEDS RESET:  9570\n",
            "Epoch 1/50\n",
            "155/155 [==============================] - 25s 135ms/step - loss: 0.5101 - acc: 0.7395 - binary_accuracy: 0.7395 - val_loss: nan - val_acc: 0.9138 - val_binary_accuracy: 0.9138\n",
            "Epoch 2/50\n",
            "155/155 [==============================] - 2s 15ms/step - loss: 0.3525 - acc: 0.8365 - binary_accuracy: 0.8365 - val_loss: nan - val_acc: 0.9172 - val_binary_accuracy: 0.9172\n",
            "Epoch 3/50\n",
            "155/155 [==============================] - 3s 18ms/step - loss: 0.3265 - acc: 0.8477 - binary_accuracy: 0.8477 - val_loss: nan - val_acc: 0.9174 - val_binary_accuracy: 0.9174\n",
            "Epoch 4/50\n",
            "155/155 [==============================] - 2s 13ms/step - loss: 0.3152 - acc: 0.8531 - binary_accuracy: 0.8531 - val_loss: nan - val_acc: 0.9177 - val_binary_accuracy: 0.9177\n",
            "Epoch 5/50\n",
            "155/155 [==============================] - 2s 14ms/step - loss: 0.3078 - acc: 0.8556 - binary_accuracy: 0.8556 - val_loss: nan - val_acc: 0.9179 - val_binary_accuracy: 0.9179\n",
            "validation accuracy =  0.917926013469696\n",
            "16934/16934 [==============================] - 61s 4ms/step\n",
            "RANDOM SEEDS RESET:  933\n",
            "Epoch 1/50\n",
            "155/155 [==============================] - 24s 137ms/step - loss: 0.4689 - acc: 0.7613 - binary_accuracy: 0.7613 - val_loss: nan - val_acc: 0.9152 - val_binary_accuracy: 0.9152\n",
            "Epoch 2/50\n",
            "155/155 [==============================] - 2s 14ms/step - loss: 0.3374 - acc: 0.8445 - binary_accuracy: 0.8445 - val_loss: nan - val_acc: 0.9176 - val_binary_accuracy: 0.9176\n",
            "Epoch 3/50\n",
            "155/155 [==============================] - 2s 15ms/step - loss: 0.3185 - acc: 0.8529 - binary_accuracy: 0.8529 - val_loss: nan - val_acc: 0.9174 - val_binary_accuracy: 0.9174\n",
            "Epoch 4/50\n",
            "155/155 [==============================] - 3s 18ms/step - loss: 0.3092 - acc: 0.8563 - binary_accuracy: 0.8563 - val_loss: nan - val_acc: 0.9175 - val_binary_accuracy: 0.9175\n",
            "Epoch 5/50\n",
            "155/155 [==============================] - 2s 15ms/step - loss: 0.3028 - acc: 0.8591 - binary_accuracy: 0.8591 - val_loss: nan - val_acc: 0.9177 - val_binary_accuracy: 0.9177\n",
            "validation accuracy =  0.9176535606384277\n",
            "16934/16934 [==============================] - 62s 4ms/step\n"
          ]
        }
      ],
      "source": [
        "loop = trange(19)\n",
        "for _ in loop:\n",
        "    SEED = np.random.randint(1, 10000)\n",
        "    reset_seeds(SEED)\n",
        "\n",
        "    # Define the NN architecture\n",
        "    input_layers = []\n",
        "    encoded_layers = []\n",
        "    for feature in cat_features: # 범주형 데이터 처리\n",
        "        # 입력 레이어 정의\n",
        "        x = keras.Input(shape=(1,), name=feature)\n",
        "        input_layers.append(x)\n",
        "        # 임베딩 레이어 정의\n",
        "        cardinality = X_train[feature].nunique()\n",
        "        embedding_dim = int(np.sqrt(cardinality))\n",
        "        x = keras.layers.Embedding(input_dim=cardinality, output_dim=embedding_dim)(x)\n",
        "        x = keras.layers.Flatten()(x)\n",
        "        encoded_layers.append(x)\n",
        "\n",
        "    cat = keras.layers.concatenate(encoded_layers)\n",
        "    cat = keras.layers.Dense(8, activation='relu')(cat)\n",
        "    encoded_layers = []\n",
        "    for feature in num_features: # 수치형 데이터 처리\n",
        "        x = keras.Input(shape=(1,), name=feature, dtype=float)\n",
        "        input_layers.append(x)\n",
        "        encoded_layers.append(x)\n",
        "    num = keras.layers.concatenate(encoded_layers)\n",
        "    x = keras.layers.Concatenate()([cat,num])\n",
        "    x = keras.layers.Dense(32, activation='relu')(x)\n",
        "    x = keras.layers.Dense(16, activation='relu')(x)\n",
        "    output = keras.layers.Dense(1, activation='sigmoid')(x)\n",
        "    # 모델 생성\n",
        "    model = keras.Model(inputs=input_layers, outputs=output)\n",
        "\n",
        "    # Choose the optimizer and the cost function\n",
        "    model.compile(loss='binary_crossentropy', optimizer=keras.optimizers.Nadam(learning_rate=0.001), metrics=['acc', keras.metrics.BinaryAccuracy()])\n",
        "\n",
        "    # Train the model\n",
        "    callbacks = [keras.callbacks.EarlyStopping(monitor='val_loss', patience=5)]\n",
        "    hist = model.fit(\n",
        "        {key: X_train[key] for key in model.input_names},\n",
        "        y_train,\n",
        "        validation_split=0.2,\n",
        "        batch_size=4096,\n",
        "        epochs=50,\n",
        "        callbacks=callbacks,\n",
        "        shuffle=False,\n",
        "        verbose=1)\n",
        "    print(\"validation accuracy = \", hist.history['val_acc'][-1])\n",
        "\n",
        "    # Make submissions\n",
        "    submission = pd.DataFrame({\n",
        "        \"ID\": ID_test,\n",
        "        \"STATUS\": (model.predict({key: X_test[key] for key in model.input_names}).flatten() >= 0.495).astype(int)\n",
        "    })\n",
        "    t = pd.Timestamp.now()\n",
        "    fname = f\"{folder}/loop_submission_{t.month:02}{t.day:02}_{SEED:05}.csv\"\n",
        "    submission.to_csv(fname, index=False)\n",
        "loop.close()"
      ]
    },
    {
      "cell_type": "code",
      "execution_count": 135,
      "metadata": {
        "id": "KwZrUiGuqnHX"
      },
      "outputs": [],
      "source": [
        "nf = 0\n",
        "for f in os.listdir(folder):\n",
        "    ext = os.path.splitext(f)[-1]\n",
        "    if ext == '.csv':\n",
        "        s = pd.read_csv(folder+\"/\"+f)\n",
        "    else:\n",
        "        continue\n",
        "    if len(s.columns) !=2:\n",
        "        continue\n",
        "    s.rename(columns={'ID': f+'ID'})\n",
        "    if nf == 0:\n",
        "        slist = s\n",
        "    else:\n",
        "        # 수정: suffixes 인자를 추가하여 열 이름 충돌을 방지\n",
        "        slist = pd.merge(slist, s, on=\"ID\", suffixes=('', f'_{nf}'))\n",
        "    nf += 1\n",
        "\n",
        "if nf >= 2:\n",
        "    pred = 0\n",
        "    for j in range(nf): pred = pred + slist.iloc[:,j+1]\n",
        "    pred = pred / nf\n",
        "    pred = pred.apply(lambda x: 1 if x >= 0.5 else 0)\n",
        "    submission = pd.DataFrame({'ID': slist.ID, 'STATUS': pred})\n",
        "    t = pd.Timestamp.now()\n",
        "    fname = f\"dnn_final_submission_{t.month:02}{t.day:02}_{t.hour:02}{t.minute:02}.csv\"\n",
        "    submission.to_csv(fname, index=False)"
      ]
    },
    {
      "cell_type": "code",
      "execution_count": null,
      "metadata": {
        "id": "S3-747NUqnHX"
      },
      "outputs": [],
      "source": []
    }
  ],
  "metadata": {
    "accelerator": "GPU",
    "colab": {
      "gpuType": "T4",
      "provenance": []
    },
    "kaggle": {
      "accelerator": "none",
      "dataSources": [
        {
          "databundleVersionId": 7261066,
          "sourceId": 65909,
          "sourceType": "competition"
        }
      ],
      "dockerImageVersionId": 30615,
      "isGpuEnabled": false,
      "isInternetEnabled": true,
      "language": "python",
      "sourceType": "notebook"
    },
    "kernelspec": {
      "display_name": "Python 3",
      "name": "python3"
    },
    "language_info": {
      "codemirror_mode": {
        "name": "ipython",
        "version": 3
      },
      "file_extension": ".py",
      "mimetype": "text/x-python",
      "name": "python",
      "nbconvert_exporter": "python",
      "pygments_lexer": "ipython3",
      "version": "3.11.5"
    },
    "papermill": {
      "default_parameters": {},
      "duration": 65.031816,
      "end_time": "2023-12-11T12:10:43.93772",
      "environment_variables": {},
      "exception": null,
      "input_path": "__notebook__.ipynb",
      "output_path": "__notebook__.ipynb",
      "parameters": {},
      "start_time": "2023-12-11T12:09:38.905904",
      "version": "2.4.0"
    },
    "widgets": {
      "application/vnd.jupyter.widget-state+json": {
        "0142a9bee08d4f33927c23bbb28022a2": {
          "model_module": "@jupyter-widgets/controls",
          "model_module_version": "1.5.0",
          "model_name": "DescriptionStyleModel",
          "state": {
            "_model_module": "@jupyter-widgets/controls",
            "_model_module_version": "1.5.0",
            "_model_name": "DescriptionStyleModel",
            "_view_count": null,
            "_view_module": "@jupyter-widgets/base",
            "_view_module_version": "1.2.0",
            "_view_name": "StyleView",
            "description_width": ""
          }
        },
        "08da353fc73346e7997bc89ca94786b2": {
          "model_module": "@jupyter-widgets/base",
          "model_module_version": "1.2.0",
          "model_name": "LayoutModel",
          "state": {
            "_model_module": "@jupyter-widgets/base",
            "_model_module_version": "1.2.0",
            "_model_name": "LayoutModel",
            "_view_count": null,
            "_view_module": "@jupyter-widgets/base",
            "_view_module_version": "1.2.0",
            "_view_name": "LayoutView",
            "align_content": null,
            "align_items": null,
            "align_self": null,
            "border": null,
            "bottom": null,
            "display": null,
            "flex": null,
            "flex_flow": null,
            "grid_area": null,
            "grid_auto_columns": null,
            "grid_auto_flow": null,
            "grid_auto_rows": null,
            "grid_column": null,
            "grid_gap": null,
            "grid_row": null,
            "grid_template_areas": null,
            "grid_template_columns": null,
            "grid_template_rows": null,
            "height": null,
            "justify_content": null,
            "justify_items": null,
            "left": null,
            "margin": null,
            "max_height": null,
            "max_width": null,
            "min_height": null,
            "min_width": null,
            "object_fit": null,
            "object_position": null,
            "order": null,
            "overflow": null,
            "overflow_x": null,
            "overflow_y": null,
            "padding": null,
            "right": null,
            "top": null,
            "visibility": null,
            "width": null
          }
        },
        "1f682f5309924bd0975b011410c8bcd5": {
          "model_module": "@jupyter-widgets/controls",
          "model_module_version": "1.5.0",
          "model_name": "DescriptionStyleModel",
          "state": {
            "_model_module": "@jupyter-widgets/controls",
            "_model_module_version": "1.5.0",
            "_model_name": "DescriptionStyleModel",
            "_view_count": null,
            "_view_module": "@jupyter-widgets/base",
            "_view_module_version": "1.2.0",
            "_view_name": "StyleView",
            "description_width": ""
          }
        },
        "2e14ad1a0d0b4986a7221049e354c38f": {
          "model_module": "@jupyter-widgets/base",
          "model_module_version": "1.2.0",
          "model_name": "LayoutModel",
          "state": {
            "_model_module": "@jupyter-widgets/base",
            "_model_module_version": "1.2.0",
            "_model_name": "LayoutModel",
            "_view_count": null,
            "_view_module": "@jupyter-widgets/base",
            "_view_module_version": "1.2.0",
            "_view_name": "LayoutView",
            "align_content": null,
            "align_items": null,
            "align_self": null,
            "border": null,
            "bottom": null,
            "display": null,
            "flex": null,
            "flex_flow": null,
            "grid_area": null,
            "grid_auto_columns": null,
            "grid_auto_flow": null,
            "grid_auto_rows": null,
            "grid_column": null,
            "grid_gap": null,
            "grid_row": null,
            "grid_template_areas": null,
            "grid_template_columns": null,
            "grid_template_rows": null,
            "height": null,
            "justify_content": null,
            "justify_items": null,
            "left": null,
            "margin": null,
            "max_height": null,
            "max_width": null,
            "min_height": null,
            "min_width": null,
            "object_fit": null,
            "object_position": null,
            "order": null,
            "overflow": null,
            "overflow_x": null,
            "overflow_y": null,
            "padding": null,
            "right": null,
            "top": null,
            "visibility": null,
            "width": null
          }
        },
        "3e9e09e973af413fa5701f42b52f28e6": {
          "model_module": "@jupyter-widgets/base",
          "model_module_version": "1.2.0",
          "model_name": "LayoutModel",
          "state": {
            "_model_module": "@jupyter-widgets/base",
            "_model_module_version": "1.2.0",
            "_model_name": "LayoutModel",
            "_view_count": null,
            "_view_module": "@jupyter-widgets/base",
            "_view_module_version": "1.2.0",
            "_view_name": "LayoutView",
            "align_content": null,
            "align_items": null,
            "align_self": null,
            "border": null,
            "bottom": null,
            "display": null,
            "flex": null,
            "flex_flow": null,
            "grid_area": null,
            "grid_auto_columns": null,
            "grid_auto_flow": null,
            "grid_auto_rows": null,
            "grid_column": null,
            "grid_gap": null,
            "grid_row": null,
            "grid_template_areas": null,
            "grid_template_columns": null,
            "grid_template_rows": null,
            "height": null,
            "justify_content": null,
            "justify_items": null,
            "left": null,
            "margin": null,
            "max_height": null,
            "max_width": null,
            "min_height": null,
            "min_width": null,
            "object_fit": null,
            "object_position": null,
            "order": null,
            "overflow": null,
            "overflow_x": null,
            "overflow_y": null,
            "padding": null,
            "right": null,
            "top": null,
            "visibility": null,
            "width": null
          }
        },
        "64059d31841d4205b37188ff271fcc27": {
          "model_module": "@jupyter-widgets/controls",
          "model_module_version": "1.5.0",
          "model_name": "FloatProgressModel",
          "state": {
            "_dom_classes": [],
            "_model_module": "@jupyter-widgets/controls",
            "_model_module_version": "1.5.0",
            "_model_name": "FloatProgressModel",
            "_view_count": null,
            "_view_module": "@jupyter-widgets/controls",
            "_view_module_version": "1.5.0",
            "_view_name": "ProgressView",
            "bar_style": "success",
            "description": "",
            "description_tooltip": null,
            "layout": "IPY_MODEL_3e9e09e973af413fa5701f42b52f28e6",
            "max": 19,
            "min": 0,
            "orientation": "horizontal",
            "style": "IPY_MODEL_b9823679a2234ba49d5a87bc68fd5ae9",
            "value": 19
          }
        },
        "96d4cc3a8d344aacbbb97723fbb32935": {
          "model_module": "@jupyter-widgets/controls",
          "model_module_version": "1.5.0",
          "model_name": "HBoxModel",
          "state": {
            "_dom_classes": [],
            "_model_module": "@jupyter-widgets/controls",
            "_model_module_version": "1.5.0",
            "_model_name": "HBoxModel",
            "_view_count": null,
            "_view_module": "@jupyter-widgets/controls",
            "_view_module_version": "1.5.0",
            "_view_name": "HBoxView",
            "box_style": "",
            "children": [
              "IPY_MODEL_9b0e18246be84d0abfdad2968de07ea1",
              "IPY_MODEL_64059d31841d4205b37188ff271fcc27",
              "IPY_MODEL_c24c0d21f36a4569b99b68acdf017f74"
            ],
            "layout": "IPY_MODEL_08da353fc73346e7997bc89ca94786b2"
          }
        },
        "9b0e18246be84d0abfdad2968de07ea1": {
          "model_module": "@jupyter-widgets/controls",
          "model_module_version": "1.5.0",
          "model_name": "HTMLModel",
          "state": {
            "_dom_classes": [],
            "_model_module": "@jupyter-widgets/controls",
            "_model_module_version": "1.5.0",
            "_model_name": "HTMLModel",
            "_view_count": null,
            "_view_module": "@jupyter-widgets/controls",
            "_view_module_version": "1.5.0",
            "_view_name": "HTMLView",
            "description": "",
            "description_tooltip": null,
            "layout": "IPY_MODEL_b4257cf257a8452d8fdb3306c8f4b568",
            "placeholder": "​",
            "style": "IPY_MODEL_1f682f5309924bd0975b011410c8bcd5",
            "value": "100%"
          }
        },
        "b4257cf257a8452d8fdb3306c8f4b568": {
          "model_module": "@jupyter-widgets/base",
          "model_module_version": "1.2.0",
          "model_name": "LayoutModel",
          "state": {
            "_model_module": "@jupyter-widgets/base",
            "_model_module_version": "1.2.0",
            "_model_name": "LayoutModel",
            "_view_count": null,
            "_view_module": "@jupyter-widgets/base",
            "_view_module_version": "1.2.0",
            "_view_name": "LayoutView",
            "align_content": null,
            "align_items": null,
            "align_self": null,
            "border": null,
            "bottom": null,
            "display": null,
            "flex": null,
            "flex_flow": null,
            "grid_area": null,
            "grid_auto_columns": null,
            "grid_auto_flow": null,
            "grid_auto_rows": null,
            "grid_column": null,
            "grid_gap": null,
            "grid_row": null,
            "grid_template_areas": null,
            "grid_template_columns": null,
            "grid_template_rows": null,
            "height": null,
            "justify_content": null,
            "justify_items": null,
            "left": null,
            "margin": null,
            "max_height": null,
            "max_width": null,
            "min_height": null,
            "min_width": null,
            "object_fit": null,
            "object_position": null,
            "order": null,
            "overflow": null,
            "overflow_x": null,
            "overflow_y": null,
            "padding": null,
            "right": null,
            "top": null,
            "visibility": null,
            "width": null
          }
        },
        "b9823679a2234ba49d5a87bc68fd5ae9": {
          "model_module": "@jupyter-widgets/controls",
          "model_module_version": "1.5.0",
          "model_name": "ProgressStyleModel",
          "state": {
            "_model_module": "@jupyter-widgets/controls",
            "_model_module_version": "1.5.0",
            "_model_name": "ProgressStyleModel",
            "_view_count": null,
            "_view_module": "@jupyter-widgets/base",
            "_view_module_version": "1.2.0",
            "_view_name": "StyleView",
            "bar_color": null,
            "description_width": ""
          }
        },
        "c24c0d21f36a4569b99b68acdf017f74": {
          "model_module": "@jupyter-widgets/controls",
          "model_module_version": "1.5.0",
          "model_name": "HTMLModel",
          "state": {
            "_dom_classes": [],
            "_model_module": "@jupyter-widgets/controls",
            "_model_module_version": "1.5.0",
            "_model_name": "HTMLModel",
            "_view_count": null,
            "_view_module": "@jupyter-widgets/controls",
            "_view_module_version": "1.5.0",
            "_view_name": "HTMLView",
            "description": "",
            "description_tooltip": null,
            "layout": "IPY_MODEL_2e14ad1a0d0b4986a7221049e354c38f",
            "placeholder": "​",
            "style": "IPY_MODEL_0142a9bee08d4f33927c23bbb28022a2",
            "value": " 19/19 [37:14&lt;00:00, 120.82s/it]"
          }
        }
      }
    }
  },
  "nbformat": 4,
  "nbformat_minor": 0
}
