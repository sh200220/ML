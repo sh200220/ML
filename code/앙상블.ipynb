{
 "cells": [
  {
   "cell_type": "code",
   "execution_count": 33,
   "id": "fa4dcdcb",
   "metadata": {},
   "outputs": [],
   "source": [
    "import pandas as pd\n",
    "import numpy as np\n",
    "import os\n",
    "import random\n",
    "import pickle\n",
    "import gc\n",
    "import re\n",
    "import warnings; warnings.filterwarnings(\"ignore\")\n",
    "import seaborn as sns\n",
    "import matplotlib.pylab as plt\n",
    "from matplotlib import font_manager, rc\n",
    "%matplotlib inline\n",
    "from sklearn.impute import SimpleImputer \n",
    "from sklearn.preprocessing import StandardScaler\n",
    "from sklearn.preprocessing import OrdinalEncoder\n",
    "from lightgbm import LGBMClassifier\n",
    "from catboost import CatBoostClassifier\n",
    "\n",
    "#Base & visualization\n",
    "import pandas as pd\n",
    "import random\n",
    "import os\n",
    "import numpy as np\n",
    "import warnings\n",
    "import matplotlib.pylab as plt\n",
    "import seaborn as sns\n",
    "\n",
    "#sklearn module & utils\n",
    "from tqdm.notebook import tqdm\n",
    "from sklearn.feature_selection import SelectPercentile\n",
    "from sklearn.model_selection import StratifiedKFold , KFold, train_test_split, cross_val_score, cross_validate\n",
    "from sklearn.feature_selection import SelectPercentile\n",
    "warnings.filterwarnings('ignore') \n",
    "\n",
    "#Scaling\n",
    "from sklearn.preprocessing import StandardScaler, LabelEncoder\n",
    "from sklearn.preprocessing import PowerTransformer\n",
    "\n",
    "# Encoding\n",
    "import category_encoders as ce\n",
    "from sklearn.preprocessing import OrdinalEncoder\n",
    "from sklearn.preprocessing import LabelEncoder\n",
    "\n",
    "#Modeling\n",
    "from sklearn.ensemble import BaggingClassifier, GradientBoostingClassifier, VotingClassifier,RandomForestClassifier\n",
    "from sklearn.tree import DecisionTreeClassifier\n",
    "from sklearn.linear_model import RidgeClassifier, RidgeClassifierCV\n",
    "from sklearn.svm import SVC\n",
    "from lightgbm import LGBMClassifier\n",
    "from xgboost import XGBClassifier\n",
    "from catboost import CatBoostClassifier\n",
    "from sklearn.ensemble import ExtraTreesClassifier\n",
    "import time\n",
    "import optuna\n",
    "from optuna.samplers import TPESampler\n",
    "from sklearn.model_selection import KFold\n",
    "from sklearn.metrics import accuracy_score\n",
    "import shap\n",
    "# from featurizer import KMeansFeaturizer \n",
    "from sklearn.cluster import KMeans\n",
    "\n",
    "#Scoring\n",
    "from sklearn.metrics import roc_auc_score\n",
    "from sklearn.metrics import f1_score"
   ]
  },
  {
   "cell_type": "code",
   "execution_count": 34,
   "id": "55e858f5",
   "metadata": {},
   "outputs": [],
   "source": [
    "lgbm = pd.read_csv('./final_ensamble/final_LGBM_0.612201352.csv') "
   ]
  },
  {
   "cell_type": "code",
   "execution_count": 35,
   "id": "27e8bef1",
   "metadata": {},
   "outputs": [],
   "source": [
    "lgbm_l = pd.read_csv('./final_ensamble/final_LGBM_+1log_0.612201754.csv') "
   ]
  },
  {
   "cell_type": "code",
   "execution_count": 36,
   "id": "78074024",
   "metadata": {},
   "outputs": [],
   "source": [
    "ridge = pd.read_csv('./final_ensamble/final_Ridge_kmeans_0.612201352.csv') "
   ]
  },
  {
   "cell_type": "code",
   "execution_count": 37,
   "id": "81562b6c",
   "metadata": {},
   "outputs": [],
   "source": [
    "ET = pd.read_csv('./final_ensamble/FINAL_EXTRA_0.612201510.csv') "
   ]
  },
  {
   "cell_type": "code",
   "execution_count": 38,
   "id": "e2a03aaa",
   "metadata": {},
   "outputs": [],
   "source": [
    "dnn = pd.read_csv('./final_ensamble/dnn_final_submission_1220_0517.csv') "
   ]
  },
  {
   "cell_type": "code",
   "execution_count": 39,
   "id": "f4161f94",
   "metadata": {},
   "outputs": [],
   "source": [
    "bagging = pd.read_csv('./final_ensamble/final_Bagging12201620.csv') "
   ]
  },
  {
   "cell_type": "code",
   "execution_count": 40,
   "id": "44fce8ed",
   "metadata": {},
   "outputs": [],
   "source": [
    "xgb = pd.read_csv('./final_ensamble/final_XGB_0.612201623.csv') "
   ]
  },
  {
   "cell_type": "code",
   "execution_count": 41,
   "id": "1a82f588",
   "metadata": {},
   "outputs": [],
   "source": [
    "xgb_l = pd.read_csv('./final_ensamble/final_XGB_kmeans_0.612201716.csv') "
   ]
  },
  {
   "cell_type": "code",
   "execution_count": 42,
   "id": "c7df4383",
   "metadata": {},
   "outputs": [],
   "source": [
    "cat = pd.read_csv('./final_ensamble/final_Cat_0.612201710.csv') "
   ]
  },
  {
   "cell_type": "code",
   "execution_count": 43,
   "id": "3d9991c4",
   "metadata": {
    "scrolled": true
   },
   "outputs": [],
   "source": [
    "lgbm['STATUS'] = lgbm['STATUS'] + lgbm_l['STATUS'] + ridge['STATUS'] + ET['STATUS'] + dnn['STATUS'] + bagging['STATUS'] + xgb['STATUS'] + xgb_l['STATUS'] + cat['STATUS'] "
   ]
  },
  {
   "cell_type": "code",
   "execution_count": 44,
   "id": "dfc193ff",
   "metadata": {},
   "outputs": [
    {
     "data": {
      "text/plain": [
       "STATUS\n",
       "0    309793\n",
       "9    112503\n",
       "8     80621\n",
       "7     12599\n",
       "1      7223\n",
       "2      5234\n",
       "6      4559\n",
       "5      3511\n",
       "3      3422\n",
       "4      2402\n",
       "Name: count, dtype: int64"
      ]
     },
     "execution_count": 44,
     "metadata": {},
     "output_type": "execute_result"
    }
   ],
   "source": [
    "lgbm['STATUS'].value_counts()"
   ]
  },
  {
   "cell_type": "code",
   "execution_count": 45,
   "id": "d9d52fe1",
   "metadata": {},
   "outputs": [],
   "source": [
    "threshold = 6  # 임계값 설정 (예측 확률이 이 값 이상이면 1, 미만이면 0으로 간주)\n",
    "final_pred = (lgbm['STATUS'] >= threshold).astype(int)"
   ]
  },
  {
   "cell_type": "code",
   "execution_count": 46,
   "id": "56e021c4",
   "metadata": {},
   "outputs": [
    {
     "name": "stdout",
     "output_type": "stream",
     "text": [
      "'final_submmit_0.612201814.csv' is ready to submit.\n"
     ]
    }
   ],
   "source": [
    "t = pd.Timestamp.now()\n",
    "fname = f\"final_submmit_0.6{t.month:02}{t.day:02}{t.hour:02}{t.minute:02}.csv\"\n",
    "pd.DataFrame({'ID': lgbm['ID'], 'STATUS': final_pred}).to_csv(fname, index=False)\n",
    "print(f\"'{fname}' is ready to submit.\")"
   ]
  },
  {
   "cell_type": "code",
   "execution_count": 47,
   "id": "96ab60d2",
   "metadata": {},
   "outputs": [
    {
     "data": {
      "text/plain": [
       "STATUS\n",
       "0    331585\n",
       "1    210282\n",
       "Name: count, dtype: int64"
      ]
     },
     "execution_count": 47,
     "metadata": {},
     "output_type": "execute_result"
    }
   ],
   "source": [
    "pd.read_csv('final_submmit_0.612201814.csv')['STATUS'].value_counts()"
   ]
  },
  {
   "cell_type": "code",
   "execution_count": 32,
   "id": "73d8c867",
   "metadata": {},
   "outputs": [
    {
     "data": {
      "text/plain": [
       "STATUS\n",
       "0    325672\n",
       "1    216195\n",
       "Name: count, dtype: int64"
      ]
     },
     "execution_count": 32,
     "metadata": {},
     "output_type": "execute_result"
    }
   ],
   "source": [
    "pd.read_csv('final_submmit_0.412201813.csv')['STATUS'].value_counts()"
   ]
  },
  {
   "cell_type": "code",
   "execution_count": 17,
   "id": "163a6d2e",
   "metadata": {},
   "outputs": [
    {
     "data": {
      "text/plain": [
       "STATUS\n",
       "0    328074\n",
       "1    213793\n",
       "Name: count, dtype: int64"
      ]
     },
     "execution_count": 17,
     "metadata": {},
     "output_type": "execute_result"
    }
   ],
   "source": [
    "pd.read_csv('final_submmit_0.512201811.csv')['STATUS'].value_counts()"
   ]
  },
  {
   "cell_type": "code",
   "execution_count": 15,
   "id": "1b46bdbc",
   "metadata": {
    "scrolled": true
   },
   "outputs": [
    {
     "data": {
      "text/plain": [
       "STATUS\n",
       "0    323279\n",
       "1    218588\n",
       "Name: count, dtype: int64"
      ]
     },
     "execution_count": 15,
     "metadata": {},
     "output_type": "execute_result"
    }
   ],
   "source": [
    "pd.read_csv('final_submmit_0.412201808.csv')['STATUS'].value_counts()"
   ]
  },
  {
   "cell_type": "code",
   "execution_count": 16,
   "id": "aa9c1170",
   "metadata": {},
   "outputs": [
    {
     "data": {
      "text/plain": [
       "STATUS\n",
       "0    326536\n",
       "1    215331\n",
       "Name: count, dtype: int64"
      ]
     },
     "execution_count": 16,
     "metadata": {},
     "output_type": "execute_result"
    }
   ],
   "source": [
    "pd.read_csv('final_submmit_0.512201806.csv')['STATUS'].value_counts()"
   ]
  },
  {
   "cell_type": "code",
   "execution_count": null,
   "id": "b9ce6c19",
   "metadata": {},
   "outputs": [],
   "source": []
  }
 ],
 "metadata": {
  "kernelspec": {
   "display_name": "Python 3 (ipykernel)",
   "language": "python",
   "name": "python3"
  },
  "language_info": {
   "codemirror_mode": {
    "name": "ipython",
    "version": 3
   },
   "file_extension": ".py",
   "mimetype": "text/x-python",
   "name": "python",
   "nbconvert_exporter": "python",
   "pygments_lexer": "ipython3",
   "version": "3.11.5"
  }
 },
 "nbformat": 4,
 "nbformat_minor": 5
}
