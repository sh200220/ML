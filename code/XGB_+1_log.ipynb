{
 "cells": [
  {
   "cell_type": "markdown",
   "metadata": {
    "papermill": {
     "duration": 0.008057,
     "end_time": "2023-12-11T12:09:41.727242",
     "exception": false,
     "start_time": "2023-12-11T12:09:41.719185",
     "status": "completed"
    },
    "tags": []
   },
   "source": [
    "<font color='tomato'><font color=\"#CC3D3D\"><p>\n",
    "# Baseline Code (v1.0)"
   ]
  },
  {
   "cell_type": "markdown",
   "metadata": {
    "papermill": {
     "duration": 0.007344,
     "end_time": "2023-12-11T12:09:41.742361",
     "exception": false,
     "start_time": "2023-12-11T12:09:41.735017",
     "status": "completed"
    },
    "tags": []
   },
   "source": [
    "- **문제**   \n",
    "*\"각 패널에게 어떤 온라인 설문조사를 요청해야 응답할까?\"*    \n",
    "**KML Challenge 2023F**에서는 이 문제를 가장 잘 해결할 수 있는 예측 모델을 개발하는 것이 목적\n",
    "- **평가척도**   \n",
    "정확도(Accuracy)\n",
    "- **데이터**   \n",
    "   - train.csv(학습데이터), test.csv(평가테이터)\n",
    "   - 각 데이터 포인트는 패널 정보, 설문정보, 응답여부(STATUS)로 구성"
   ]
  },
  {
   "cell_type": "markdown",
   "metadata": {
    "papermill": {
     "duration": 0.007459,
     "end_time": "2023-12-11T12:09:41.757454",
     "exception": false,
     "start_time": "2023-12-11T12:09:41.749995",
     "status": "completed"
    },
    "tags": []
   },
   "source": [
    "### Imports"
   ]
  },
  {
   "cell_type": "code",
   "execution_count": 1,
   "metadata": {
    "execution": {
     "iopub.execute_input": "2023-12-12T02:01:50.081224Z",
     "iopub.status.busy": "2023-12-12T02:01:50.080834Z",
     "iopub.status.idle": "2023-12-12T02:01:50.091786Z",
     "shell.execute_reply": "2023-12-12T02:01:50.090431Z",
     "shell.execute_reply.started": "2023-12-12T02:01:50.081193Z"
    },
    "papermill": {
     "duration": 4.333282,
     "end_time": "2023-12-11T12:09:46.0985",
     "exception": false,
     "start_time": "2023-12-11T12:09:41.765218",
     "status": "completed"
    },
    "scrolled": false,
    "tags": []
   },
   "outputs": [
    {
     "data": {
      "text/html": [
       "<style type='text/css'>\n",
       ".datatable table.frame { margin-bottom: 0; }\n",
       ".datatable table.frame thead { border-bottom: none; }\n",
       ".datatable table.frame tr.coltypes td {  color: #FFFFFF;  line-height: 6px;  padding: 0 0.5em;}\n",
       ".datatable .bool    { background: #DDDD99; }\n",
       ".datatable .object  { background: #565656; }\n",
       ".datatable .int     { background: #5D9E5D; }\n",
       ".datatable .float   { background: #4040CC; }\n",
       ".datatable .str     { background: #CC4040; }\n",
       ".datatable .time    { background: #40CC40; }\n",
       ".datatable .row_index {  background: var(--jp-border-color3);  border-right: 1px solid var(--jp-border-color0);  color: var(--jp-ui-font-color3);  font-size: 9px;}\n",
       ".datatable .frame tbody td { text-align: left; }\n",
       ".datatable .frame tr.coltypes .row_index {  background: var(--jp-border-color0);}\n",
       ".datatable th:nth-child(2) { padding-left: 12px; }\n",
       ".datatable .hellipsis {  color: var(--jp-cell-editor-border-color);}\n",
       ".datatable .vellipsis {  background: var(--jp-layout-color0);  color: var(--jp-cell-editor-border-color);}\n",
       ".datatable .na {  color: var(--jp-cell-editor-border-color);  font-size: 80%;}\n",
       ".datatable .sp {  opacity: 0.25;}\n",
       ".datatable .footer { font-size: 9px; }\n",
       ".datatable .frame_dimensions {  background: var(--jp-border-color3);  border-top: 1px solid var(--jp-border-color0);  color: var(--jp-ui-font-color3);  display: inline-block;  opacity: 0.6;  padding: 1px 10px 1px 5px;}\n",
       ".datatable .frame thead tr.colnames {  background-image: url('data:image/png;base64,iVBORw0KGgoAAAANSUhEUgAAABwAAAA4CAYAAADuMJi0AAAGR0lEQVR42rVZ21IbRxBtCbQrkIR2dQVjsLmDLBsET3nTQ8ouYRkQVf6e/E9+Im958qMfkgoXAaKSSj6C9Jnd2R2NeiRSRaZqitVOT5+Z6dNnWoKGlN94JFp8Ipofkb/7SOXjGyp8wF+z35K3f0uUp/GW4XfLQ8v2gefj3ZCCzojoNfue+43o1Q3l3xB/yA3JO7jnF2pCLnI+pNyx/qw7L+SQ7T2N9p2f8c60QcfcK6KGXsAd+ZvA4LlZYuSSAoOhMs5vwJkEGDlbPMaJoA+FcQ0IH38QLWkbAFLkOOhoMF5tU6/eBRhNjro0ZgKiPRAt3FLhCO/vqdgmNTm32LkmKpvBmQY4q5uAaAgbwDBG2BVv3bfI8KKAMWj2kfw9+pkZREIbEql4ST1x7hgHIANkbJ//MF8mAH/ilTCJ2tIi4ASr1IC3VNqXHKOxjy34mgoImnOQtx1g81fkqTiMOBVGcTogNhiT5iBHET8R8C+iApJUmgim3SQAXhsLQz7ee2G8gOAQNtJckBEplADiAxtX+G9NmhDl0qJKnTvyWlAMPYZnvIviGXRg6/Dh824DBXhP/tbfREXJEIvQ+aaPGjG7pvw6r3xdx+9hqb4dgZaP2XmdHO2K/B0c1+oUph6k8kShBryl/Ft0DYgjTlOieOACHFFpVyUl72T9V3cM1jUoYvxIC2vpCSys/ck70mDYuYvdvKjlMdKAUThneWVU1aAsyjv6PURDiwNsHGBZzY+JtAAgE2TFxdRHJdyIp/f+zqu09M5cDP2F08Ukkpj4YNSdX950HY2pNCCUK/Hhx5ZMBfjNSEzdsIihVzzAMdn9dz4eDYhnyQb9SSCiAryiJcQk82LiTbJ4x2FZJaUenpKnzP95WyDf4Y+QN9EFHHSeDLGdBjjKNQ5vKHf4XMA7KrY0y0GEObBOO/8e1ywuQExOHXktuQyJALEBpcEqhwtHqgiDuCK5b6i0p2MQpcckIIoh+6hYgTZtO8xlMi6O4tKCF/kOGHEg/W0UUpHW0ZoGNZ1ExZWcn7EErgwt4uj50E/sFBjXXIayWvh7WryjasxarZKssXon0zxvvkc32Q0bqbBCuZiKt9dWFysfQefeL29JYFaeztX6tePaZdz5mYx8+6Zq3Mk0wXECQxlhdzgS2wjBHju3j1RIgKyOMdNUE8X0+RAdbSapS11MRCv1SzUXmO6wGZe2SQYrv2MvCSWEv2VODE6DN7bz8ufypgQKW7uQskFTQHULLKyaEyrnlZbgOGLrV5qrn9U79jjm2HJmgkaVN98AfBub91lGPLZBqdroN5LYgjSu4zYZDDHXZOIPC691HqrWI1900I8qLzgKP4ft8DxEWigprPfrO+KcXno9gZz4jjGewWdUcpGCj0qVFuGPYbl2VturndZ2qRvlL8acDO6lF/DY/VjsFesiUK+ypJ+r/ep+cJkSQxEK4PG4WozgA75TYrDDqStE69K8/mzGEM+JXTeqvmedEElMmwCMm2SLd6bNNF9su02zEtoW6nAQtpMj5Gd7fKa//wqonF7UdtHFsVn+6hf1o7AfriPH7M6EeIUEF5zKVxXbYo7kS/OEtOqDYZKPoBsETIixn0uYrasThmzDkhdKPkz2EnaX0HdQbIgr59vAdGYDqjHrxkjS7WOxkTD8sqEqhiwcJETgBYigrBqF08KyDaje9SZ/I1A7MzaTzMGDEulPtZUkuKcyIRAjxEJPVrnVlb/9wkfij31D/pQt1IN+iL8bGJcstBIO7Y5VI/cwDqURbXhMuJxBqD0KLoK3esWFs0Jz5i5ZvJUAfFJMFb9XmGIOnzGpijpcWYCaMqXSQWp8EnCABepQ0Elyi4wfKfsw78ikIqif1pe1AGPlLmojl1SKxHHXp1L+Ut7AmDQHvhI5xHGi4EooO2BR7k78PEkJOdL7cAxQUZ/Tyclu9gnfwGgOmm2lNHGNmZXsq4Pqgc1EG1ATrvKl8s4R9ywwnqulGUnaRLVhxy8v3ieUwy2hbooT68uscW++DCDH0WSzuoyN2D4LUJ/tLECbcSKznwMIFs0ChF4mRTCnQbIIfk4SHJo6A9BMuTnXTs3Ku/KxsgZWqzuSe+Os8cEUfnMBY6UF5gi3SUbd5K7vDjq5WW0UENJlRsWn4sy21Er/E/AvPQSFHy1p4fgAAAAASUVORK5CYII=');  background-repeat: repeat-x;  background-size: 14px;  height: 28px;}\n",
       "</style>\n"
      ],
      "text/plain": [
       "<IPython.core.display.HTML object>"
      ]
     },
     "metadata": {},
     "output_type": "display_data"
    }
   ],
   "source": [
    "import pandas as pd\n",
    "import numpy as np\n",
    "import os\n",
    "import random\n",
    "import pickle\n",
    "import gc\n",
    "import re\n",
    "import warnings; warnings.filterwarnings(\"ignore\")\n",
    "import seaborn as sns\n",
    "import matplotlib.pylab as plt\n",
    "from matplotlib import font_manager, rc\n",
    "%matplotlib inline\n",
    "from sklearn.impute import SimpleImputer \n",
    "from sklearn.preprocessing import StandardScaler\n",
    "from sklearn.preprocessing import OrdinalEncoder\n",
    "from lightgbm import LGBMClassifier\n",
    "from catboost import CatBoostClassifier\n",
    "\n",
    "#Base & visualization\n",
    "import pandas as pd\n",
    "import random\n",
    "import os\n",
    "import numpy as np\n",
    "import warnings\n",
    "import matplotlib.pylab as plt\n",
    "import seaborn as sns\n",
    "\n",
    "#sklearn module & utils\n",
    "from tqdm.notebook import tqdm\n",
    "from sklearn.feature_selection import SelectPercentile\n",
    "from sklearn.model_selection import StratifiedKFold , KFold, train_test_split, cross_val_score, cross_validate\n",
    "from sklearn.feature_selection import SelectPercentile\n",
    "warnings.filterwarnings('ignore') \n",
    "\n",
    "#Scaling\n",
    "from sklearn.preprocessing import StandardScaler, LabelEncoder\n",
    "from sklearn.preprocessing import PowerTransformer\n",
    "\n",
    "# Encoding\n",
    "import category_encoders as ce\n",
    "from sklearn.preprocessing import OrdinalEncoder\n",
    "from sklearn.preprocessing import LabelEncoder\n",
    "\n",
    "#Modeling\n",
    "from sklearn.ensemble import BaggingClassifier, GradientBoostingClassifier, VotingClassifier,RandomForestClassifier\n",
    "from sklearn.tree import DecisionTreeClassifier\n",
    "from sklearn.linear_model import RidgeClassifier, RidgeClassifierCV\n",
    "from sklearn.svm import SVC\n",
    "from lightgbm import LGBMClassifier\n",
    "from xgboost import XGBClassifier\n",
    "from catboost import CatBoostClassifier\n",
    "from sklearn.ensemble import ExtraTreesClassifier\n",
    "import time\n",
    "import optuna\n",
    "from optuna.samplers import TPESampler\n",
    "from sklearn.model_selection import KFold\n",
    "from sklearn.metrics import accuracy_score\n",
    "import shap\n",
    "# from featurizer import KMeansFeaturizer \n",
    "from sklearn.cluster import KMeans\n",
    "#Scoring\n",
    "from sklearn.metrics import roc_auc_score\n",
    "from sklearn.metrics import f1_score"
   ]
  },
  {
   "cell_type": "markdown",
   "metadata": {
    "papermill": {
     "duration": 0.007391,
     "end_time": "2023-12-11T12:09:46.113997",
     "exception": false,
     "start_time": "2023-12-11T12:09:46.106606",
     "status": "completed"
    },
    "tags": []
   },
   "source": [
    "### Data Loading"
   ]
  },
  {
   "cell_type": "code",
   "execution_count": 2,
   "metadata": {
    "execution": {
     "iopub.execute_input": "2023-12-12T02:01:50.094945Z",
     "iopub.status.busy": "2023-12-12T02:01:50.094535Z",
     "iopub.status.idle": "2023-12-12T02:02:00.091602Z",
     "shell.execute_reply": "2023-12-12T02:02:00.090674Z",
     "shell.execute_reply.started": "2023-12-12T02:01:50.094911Z"
    },
    "papermill": {
     "duration": 9.856697,
     "end_time": "2023-12-11T12:09:55.978973",
     "exception": false,
     "start_time": "2023-12-11T12:09:46.122276",
     "status": "completed"
    },
    "scrolled": true,
    "tags": []
   },
   "outputs": [],
   "source": [
    "train = pd.read_csv('train.csv', encoding='cp949')\n",
    "test = pd.read_csv('test.csv', encoding='cp949')"
   ]
  },
  {
   "cell_type": "code",
   "execution_count": 3,
   "metadata": {
    "execution": {
     "iopub.execute_input": "2023-12-12T02:02:00.093535Z",
     "iopub.status.busy": "2023-12-12T02:02:00.092975Z",
     "iopub.status.idle": "2023-12-12T02:02:00.471450Z",
     "shell.execute_reply": "2023-12-12T02:02:00.470630Z",
     "shell.execute_reply.started": "2023-12-12T02:02:00.093500Z"
    },
    "papermill": {
     "duration": 0.364594,
     "end_time": "2023-12-11T12:09:56.351107",
     "exception": false,
     "start_time": "2023-12-11T12:09:55.986513",
     "status": "completed"
    },
    "scrolled": true,
    "tags": []
   },
   "outputs": [
    {
     "data": {
      "text/html": [
       "<div>\n",
       "<style scoped>\n",
       "    .dataframe tbody tr th:only-of-type {\n",
       "        vertical-align: middle;\n",
       "    }\n",
       "\n",
       "    .dataframe tbody tr th {\n",
       "        vertical-align: top;\n",
       "    }\n",
       "\n",
       "    .dataframe thead th {\n",
       "        text-align: right;\n",
       "    }\n",
       "</style>\n",
       "<table border=\"1\" class=\"dataframe\">\n",
       "  <thead>\n",
       "    <tr style=\"text-align: right;\">\n",
       "      <th></th>\n",
       "      <th>userID</th>\n",
       "      <th>surveyID</th>\n",
       "      <th>BIRTH</th>\n",
       "      <th>GENDER</th>\n",
       "      <th>REGION</th>\n",
       "      <th>TYPE</th>\n",
       "      <th>SQ1</th>\n",
       "      <th>SQ2</th>\n",
       "      <th>SQ3</th>\n",
       "      <th>SQ4</th>\n",
       "      <th>...</th>\n",
       "      <th>DQ4</th>\n",
       "      <th>DQ5</th>\n",
       "      <th>DQ6</th>\n",
       "      <th>DQ7</th>\n",
       "      <th>TITLE</th>\n",
       "      <th>IR</th>\n",
       "      <th>LOI</th>\n",
       "      <th>CATEGORIES</th>\n",
       "      <th>CPI</th>\n",
       "      <th>STATUS</th>\n",
       "    </tr>\n",
       "  </thead>\n",
       "  <tbody>\n",
       "    <tr>\n",
       "      <th>0</th>\n",
       "      <td>p00000</td>\n",
       "      <td>s04673</td>\n",
       "      <td>1976</td>\n",
       "      <td>1</td>\n",
       "      <td>2</td>\n",
       "      <td>D</td>\n",
       "      <td>1.0</td>\n",
       "      <td>1976.0</td>\n",
       "      <td>1.0</td>\n",
       "      <td>1,</td>\n",
       "      <td>...</td>\n",
       "      <td>NaN</td>\n",
       "      <td>NaN</td>\n",
       "      <td>NaN</td>\n",
       "      <td>NaN</td>\n",
       "      <td>해외-일반인의견조사(G-925574)</td>\n",
       "      <td>100</td>\n",
       "      <td>13</td>\n",
       "      <td>NaN</td>\n",
       "      <td>715</td>\n",
       "      <td>1</td>\n",
       "    </tr>\n",
       "    <tr>\n",
       "      <th>1</th>\n",
       "      <td>p00000</td>\n",
       "      <td>s04675</td>\n",
       "      <td>1976</td>\n",
       "      <td>1</td>\n",
       "      <td>2</td>\n",
       "      <td>D</td>\n",
       "      <td>1.0</td>\n",
       "      <td>1976.0</td>\n",
       "      <td>1.0</td>\n",
       "      <td>1,</td>\n",
       "      <td>...</td>\n",
       "      <td>NaN</td>\n",
       "      <td>NaN</td>\n",
       "      <td>NaN</td>\n",
       "      <td>NaN</td>\n",
       "      <td>해외-일반인의견조사(G-926698)</td>\n",
       "      <td>100</td>\n",
       "      <td>10</td>\n",
       "      <td>NaN</td>\n",
       "      <td>550</td>\n",
       "      <td>1</td>\n",
       "    </tr>\n",
       "    <tr>\n",
       "      <th>2</th>\n",
       "      <td>p00000</td>\n",
       "      <td>s04683</td>\n",
       "      <td>1976</td>\n",
       "      <td>1</td>\n",
       "      <td>2</td>\n",
       "      <td>D</td>\n",
       "      <td>1.0</td>\n",
       "      <td>1976.0</td>\n",
       "      <td>1.0</td>\n",
       "      <td>1,</td>\n",
       "      <td>...</td>\n",
       "      <td>NaN</td>\n",
       "      <td>NaN</td>\n",
       "      <td>NaN</td>\n",
       "      <td>NaN</td>\n",
       "      <td>해외---일반인-의견-조사-(DR-1379333)S</td>\n",
       "      <td>100</td>\n",
       "      <td>12</td>\n",
       "      <td>NaN</td>\n",
       "      <td>480</td>\n",
       "      <td>1</td>\n",
       "    </tr>\n",
       "    <tr>\n",
       "      <th>3</th>\n",
       "      <td>p00000</td>\n",
       "      <td>s04684</td>\n",
       "      <td>1976</td>\n",
       "      <td>1</td>\n",
       "      <td>2</td>\n",
       "      <td>D</td>\n",
       "      <td>1.0</td>\n",
       "      <td>1976.0</td>\n",
       "      <td>1.0</td>\n",
       "      <td>1,</td>\n",
       "      <td>...</td>\n",
       "      <td>NaN</td>\n",
       "      <td>NaN</td>\n",
       "      <td>NaN</td>\n",
       "      <td>NaN</td>\n",
       "      <td>해외---일반인-의견-조사-(DR-8609533)S</td>\n",
       "      <td>100</td>\n",
       "      <td>12</td>\n",
       "      <td>NaN</td>\n",
       "      <td>480</td>\n",
       "      <td>1</td>\n",
       "    </tr>\n",
       "    <tr>\n",
       "      <th>4</th>\n",
       "      <td>p00000</td>\n",
       "      <td>s04686</td>\n",
       "      <td>1976</td>\n",
       "      <td>1</td>\n",
       "      <td>2</td>\n",
       "      <td>D</td>\n",
       "      <td>1.0</td>\n",
       "      <td>1976.0</td>\n",
       "      <td>1.0</td>\n",
       "      <td>1,</td>\n",
       "      <td>...</td>\n",
       "      <td>NaN</td>\n",
       "      <td>NaN</td>\n",
       "      <td>NaN</td>\n",
       "      <td>NaN</td>\n",
       "      <td>해외---일반인-의견-조사-(DR-9958375)L</td>\n",
       "      <td>100</td>\n",
       "      <td>15</td>\n",
       "      <td>NaN</td>\n",
       "      <td>600</td>\n",
       "      <td>1</td>\n",
       "    </tr>\n",
       "    <tr>\n",
       "      <th>...</th>\n",
       "      <td>...</td>\n",
       "      <td>...</td>\n",
       "      <td>...</td>\n",
       "      <td>...</td>\n",
       "      <td>...</td>\n",
       "      <td>...</td>\n",
       "      <td>...</td>\n",
       "      <td>...</td>\n",
       "      <td>...</td>\n",
       "      <td>...</td>\n",
       "      <td>...</td>\n",
       "      <td>...</td>\n",
       "      <td>...</td>\n",
       "      <td>...</td>\n",
       "      <td>...</td>\n",
       "      <td>...</td>\n",
       "      <td>...</td>\n",
       "      <td>...</td>\n",
       "      <td>...</td>\n",
       "      <td>...</td>\n",
       "      <td>...</td>\n",
       "    </tr>\n",
       "    <tr>\n",
       "      <th>813645</th>\n",
       "      <td>p16050</td>\n",
       "      <td>s05667</td>\n",
       "      <td>1983</td>\n",
       "      <td>1</td>\n",
       "      <td>16</td>\n",
       "      <td>D</td>\n",
       "      <td>1.0</td>\n",
       "      <td>1983.0</td>\n",
       "      <td>6.0</td>\n",
       "      <td>4,</td>\n",
       "      <td>...</td>\n",
       "      <td>NaN</td>\n",
       "      <td>NaN</td>\n",
       "      <td>NaN</td>\n",
       "      <td>NaN</td>\n",
       "      <td>소비자의견조사(JY-PAS)</td>\n",
       "      <td>30</td>\n",
       "      <td>9</td>\n",
       "      <td>Smoking, Tobacco,Shopping, Retail</td>\n",
       "      <td>550</td>\n",
       "      <td>1</td>\n",
       "    </tr>\n",
       "    <tr>\n",
       "      <th>813646</th>\n",
       "      <td>p16050</td>\n",
       "      <td>s05802</td>\n",
       "      <td>1983</td>\n",
       "      <td>1</td>\n",
       "      <td>16</td>\n",
       "      <td>D</td>\n",
       "      <td>1.0</td>\n",
       "      <td>1983.0</td>\n",
       "      <td>6.0</td>\n",
       "      <td>4,</td>\n",
       "      <td>...</td>\n",
       "      <td>NaN</td>\n",
       "      <td>NaN</td>\n",
       "      <td>NaN</td>\n",
       "      <td>NaN</td>\n",
       "      <td>소비자의견조사(JM-WR)</td>\n",
       "      <td>5</td>\n",
       "      <td>15</td>\n",
       "      <td>Shopping, Retail,Beverages - non alcoholic,Bev...</td>\n",
       "      <td>825</td>\n",
       "      <td>1</td>\n",
       "    </tr>\n",
       "    <tr>\n",
       "      <th>813647</th>\n",
       "      <td>p16050</td>\n",
       "      <td>s05838</td>\n",
       "      <td>1983</td>\n",
       "      <td>1</td>\n",
       "      <td>16</td>\n",
       "      <td>D</td>\n",
       "      <td>1.0</td>\n",
       "      <td>1983.0</td>\n",
       "      <td>6.0</td>\n",
       "      <td>4,</td>\n",
       "      <td>...</td>\n",
       "      <td>NaN</td>\n",
       "      <td>NaN</td>\n",
       "      <td>NaN</td>\n",
       "      <td>NaN</td>\n",
       "      <td>소비자의견조사(JM-KB)</td>\n",
       "      <td>50</td>\n",
       "      <td>15</td>\n",
       "      <td>Finance, Banking</td>\n",
       "      <td>825</td>\n",
       "      <td>1</td>\n",
       "    </tr>\n",
       "    <tr>\n",
       "      <th>813648</th>\n",
       "      <td>p16050</td>\n",
       "      <td>s05899</td>\n",
       "      <td>1983</td>\n",
       "      <td>1</td>\n",
       "      <td>16</td>\n",
       "      <td>D</td>\n",
       "      <td>1.0</td>\n",
       "      <td>1983.0</td>\n",
       "      <td>6.0</td>\n",
       "      <td>4,</td>\n",
       "      <td>...</td>\n",
       "      <td>NaN</td>\n",
       "      <td>NaN</td>\n",
       "      <td>NaN</td>\n",
       "      <td>NaN</td>\n",
       "      <td>일반인의견조사(GH-5)</td>\n",
       "      <td>80</td>\n",
       "      <td>5</td>\n",
       "      <td>etc</td>\n",
       "      <td>275</td>\n",
       "      <td>1</td>\n",
       "    </tr>\n",
       "    <tr>\n",
       "      <th>813649</th>\n",
       "      <td>p16050</td>\n",
       "      <td>s05902</td>\n",
       "      <td>1983</td>\n",
       "      <td>1</td>\n",
       "      <td>16</td>\n",
       "      <td>D</td>\n",
       "      <td>1.0</td>\n",
       "      <td>1983.0</td>\n",
       "      <td>6.0</td>\n",
       "      <td>4,</td>\n",
       "      <td>...</td>\n",
       "      <td>NaN</td>\n",
       "      <td>NaN</td>\n",
       "      <td>NaN</td>\n",
       "      <td>NaN</td>\n",
       "      <td>해외-일반인의견조사(G-1012523)</td>\n",
       "      <td>100</td>\n",
       "      <td>17</td>\n",
       "      <td>NaN</td>\n",
       "      <td>935</td>\n",
       "      <td>1</td>\n",
       "    </tr>\n",
       "  </tbody>\n",
       "</table>\n",
       "<p>813650 rows × 44 columns</p>\n",
       "</div>"
      ],
      "text/plain": [
       "        userID surveyID  BIRTH  GENDER  REGION TYPE  SQ1     SQ2  SQ3 SQ4  \\\n",
       "0       p00000   s04673   1976       1       2    D  1.0  1976.0  1.0  1,   \n",
       "1       p00000   s04675   1976       1       2    D  1.0  1976.0  1.0  1,   \n",
       "2       p00000   s04683   1976       1       2    D  1.0  1976.0  1.0  1,   \n",
       "3       p00000   s04684   1976       1       2    D  1.0  1976.0  1.0  1,   \n",
       "4       p00000   s04686   1976       1       2    D  1.0  1976.0  1.0  1,   \n",
       "...        ...      ...    ...     ...     ...  ...  ...     ...  ...  ..   \n",
       "813645  p16050   s05667   1983       1      16    D  1.0  1983.0  6.0  4,   \n",
       "813646  p16050   s05802   1983       1      16    D  1.0  1983.0  6.0  4,   \n",
       "813647  p16050   s05838   1983       1      16    D  1.0  1983.0  6.0  4,   \n",
       "813648  p16050   s05899   1983       1      16    D  1.0  1983.0  6.0  4,   \n",
       "813649  p16050   s05902   1983       1      16    D  1.0  1983.0  6.0  4,   \n",
       "\n",
       "        ...  DQ4 DQ5 DQ6 DQ7                         TITLE   IR LOI  \\\n",
       "0       ...  NaN NaN NaN NaN          해외-일반인의견조사(G-925574)  100  13   \n",
       "1       ...  NaN NaN NaN NaN          해외-일반인의견조사(G-926698)  100  10   \n",
       "2       ...  NaN NaN NaN NaN  해외---일반인-의견-조사-(DR-1379333)S  100  12   \n",
       "3       ...  NaN NaN NaN NaN  해외---일반인-의견-조사-(DR-8609533)S  100  12   \n",
       "4       ...  NaN NaN NaN NaN  해외---일반인-의견-조사-(DR-9958375)L  100  15   \n",
       "...     ...  ...  ..  ..  ..                           ...  ...  ..   \n",
       "813645  ...  NaN NaN NaN NaN               소비자의견조사(JY-PAS)   30   9   \n",
       "813646  ...  NaN NaN NaN NaN                소비자의견조사(JM-WR)    5  15   \n",
       "813647  ...  NaN NaN NaN NaN                소비자의견조사(JM-KB)   50  15   \n",
       "813648  ...  NaN NaN NaN NaN                 일반인의견조사(GH-5)   80   5   \n",
       "813649  ...  NaN NaN NaN NaN         해외-일반인의견조사(G-1012523)  100  17   \n",
       "\n",
       "                                               CATEGORIES  CPI STATUS  \n",
       "0                                                     NaN  715      1  \n",
       "1                                                     NaN  550      1  \n",
       "2                                                     NaN  480      1  \n",
       "3                                                     NaN  480      1  \n",
       "4                                                     NaN  600      1  \n",
       "...                                                   ...  ...    ...  \n",
       "813645                  Smoking, Tobacco,Shopping, Retail  550      1  \n",
       "813646  Shopping, Retail,Beverages - non alcoholic,Bev...  825      1  \n",
       "813647                                   Finance, Banking  825      1  \n",
       "813648                                                etc  275      1  \n",
       "813649                                                NaN  935      1  \n",
       "\n",
       "[813650 rows x 44 columns]"
      ]
     },
     "execution_count": 3,
     "metadata": {},
     "output_type": "execute_result"
    }
   ],
   "source": [
    "train"
   ]
  },
  {
   "cell_type": "code",
   "execution_count": 4,
   "metadata": {},
   "outputs": [
    {
     "data": {
      "text/plain": [
       "0    497085\n",
       "1    316565\n",
       "Name: STATUS, dtype: int64"
      ]
     },
     "execution_count": 4,
     "metadata": {},
     "output_type": "execute_result"
    }
   ],
   "source": [
    "train[\"STATUS\"].value_counts()"
   ]
  },
  {
   "cell_type": "markdown",
   "metadata": {
    "papermill": {
     "duration": 0.008288,
     "end_time": "2023-12-11T12:09:56.368685",
     "exception": false,
     "start_time": "2023-12-11T12:09:56.360397",
     "status": "completed"
    },
    "tags": []
   },
   "source": [
    "### 데이터 설명\n",
    "- **패널(Panel) 데이터**\n",
    "  - userID: 패널 ID\n",
    "  - BIRTH: 생일(연도)\n",
    "  - GENDER: 1(남자) 2(여자)\n",
    "  - REGION: 거주지역\n",
    "  - TYPE: 패널 구분\n",
    "  - SQ1 ~ DQ7: 패널 가입 시 설문한 데이터로 각 필드에 대해서는 [상세설명](https://docs.google.com/spreadsheets/d/1pY6MYTSkyHrGLmMTU8tX_xlD8fPut6Ob/edit?usp=sharing&ouid=107121563618260277687&rtpof=true&sd=true) 참조\n",
    "- **설문(Survey) 데이터**\n",
    "  - surveyID: 설문 ID\n",
    "  - TITLE: 설문 제목\n",
    "  - IR: 난이도(응답가능성, 100이 최고)\n",
    "  - LOI: 설문하는데 걸리는 시간 (분단위)\n",
    "  - CATEGORIES: 설문 분류\n",
    "  - CPI: 패널 응답 리워드 포인트(1P~)\n",
    "- **응답(Response) 데이터**\n",
    "  - STATUS: 응답여부 (Target)\n",
    "  - (test 데이터의) ID: submission을 식별하기 위한 ID로 사용"
   ]
  },
  {
   "cell_type": "markdown",
   "metadata": {
    "papermill": {
     "duration": 0.007905,
     "end_time": "2023-12-11T12:09:56.384933",
     "exception": false,
     "start_time": "2023-12-11T12:09:56.377028",
     "status": "completed"
    },
    "tags": []
   },
   "source": [
    "### Data Preprocessing"
   ]
  },
  {
   "cell_type": "code",
   "execution_count": 5,
   "metadata": {
    "execution": {
     "iopub.execute_input": "2023-12-12T02:02:00.474050Z",
     "iopub.status.busy": "2023-12-12T02:02:00.473521Z",
     "iopub.status.idle": "2023-12-12T02:02:02.734684Z",
     "shell.execute_reply": "2023-12-12T02:02:02.733419Z",
     "shell.execute_reply.started": "2023-12-12T02:02:00.474014Z"
    },
    "papermill": {
     "duration": 1.645054,
     "end_time": "2023-12-11T12:09:58.038311",
     "exception": false,
     "start_time": "2023-12-11T12:09:56.393257",
     "status": "completed"
    },
    "tags": []
   },
   "outputs": [
    {
     "name": "stdout",
     "output_type": "stream",
     "text": [
      "userID \t 15155 \t 0.0\n",
      "surveyID \t 1293 \t 0.0\n",
      "BIRTH \t 76 \t 0.0\n",
      "GENDER \t 2 \t 0.0\n",
      "REGION \t 17 \t 0.0\n",
      "TYPE \t 3 \t 0.0\n",
      "SQ1 \t 2 \t 0.0009770785964481042\n",
      "SQ2 \t 82 \t 0.0014293615190806859\n",
      "SQ3 \t 35 \t 0.09023044306520002\n",
      "SQ4 \t 52 \t 0.09058931973207153\n",
      "SQ5 \t 269 \t 0.14450930989983407\n",
      "SQ6 \t 30 \t 0.14490751551649972\n",
      "SQ7 \t 1217 \t 0.1802556381736619\n",
      "SQ8 \t 1774 \t 0.1831610643397038\n",
      "A1 \t 2768 \t 0.2083279051189086\n",
      "B1 \t 131 \t 0.21447796964296686\n",
      "B2 \t 120 \t 0.2426792847047256\n",
      "B3 \t 110 \t 0.24790757696798377\n",
      "B4 \t 715 \t 0.2602888219750507\n",
      "B5 \t 669 \t 0.26743317151109197\n",
      "TITLE \t 1286 \t 0.0\n",
      "IR \t 42 \t 0.0\n",
      "LOI \t 26 \t 0.0\n",
      "CPI \t 43 \t 0.0\n",
      "STATUS \t 2 \t 0.0\n"
     ]
    }
   ],
   "source": [
    "# 결측값 비율이 30% 이하인 column만 사용\n",
    "features = []\n",
    "for f in train.columns:\n",
    "    if train[f].isnull().sum()/train.shape[0] <= 0.3:\n",
    "        print(f, '\\t', train[f].nunique(), '\\t', train[f].isnull().sum()/train.shape[0])\n",
    "        features.append(f)"
   ]
  },
  {
   "cell_type": "code",
   "execution_count": 6,
   "metadata": {
    "execution": {
     "iopub.execute_input": "2023-12-12T02:02:02.736531Z",
     "iopub.status.busy": "2023-12-12T02:02:02.736194Z",
     "iopub.status.idle": "2023-12-12T02:02:02.742373Z",
     "shell.execute_reply": "2023-12-12T02:02:02.741118Z",
     "shell.execute_reply.started": "2023-12-12T02:02:02.736503Z"
    },
    "papermill": {
     "duration": 0.019618,
     "end_time": "2023-12-11T12:09:58.066828",
     "exception": false,
     "start_time": "2023-12-11T12:09:58.04721",
     "status": "completed"
    },
    "tags": []
   },
   "outputs": [],
   "source": [
    "# 불필요한 ID들은 제외. SQ1 ~ SQ3는 GENDER, BIRTH, REGION과 중복이어서 제외!\n",
    "features.remove('userID')\n",
    "features.remove('surveyID')\n",
    "features.remove('STATUS')\n",
    "features.remove('SQ1')\n",
    "features.remove('SQ2')\n",
    "features.remove('SQ3')"
   ]
  },
  {
   "cell_type": "code",
   "execution_count": 7,
   "metadata": {
    "execution": {
     "iopub.execute_input": "2023-12-12T02:02:02.744411Z",
     "iopub.status.busy": "2023-12-12T02:02:02.743940Z",
     "iopub.status.idle": "2023-12-12T02:02:02.807615Z",
     "shell.execute_reply": "2023-12-12T02:02:02.806181Z",
     "shell.execute_reply.started": "2023-12-12T02:02:02.744371Z"
    },
    "papermill": {
     "duration": 0.054119,
     "end_time": "2023-12-11T12:09:58.129482",
     "exception": false,
     "start_time": "2023-12-11T12:09:58.075363",
     "status": "completed"
    },
    "scrolled": true,
    "tags": []
   },
   "outputs": [
    {
     "data": {
      "text/plain": [
       "1,                           226496\n",
       "1                            156663\n",
       "3                             97597\n",
       "1                             44106\n",
       "2                             42385\n",
       "3,                            34304\n",
       "4                             32486\n",
       "4,                            27938\n",
       "2,                            25578\n",
       "5                             11522\n",
       "5,                            10608\n",
       "2                              7375\n",
       "4                              4984\n",
       "3                              4592\n",
       "5                              3281\n",
       "6,                             3005\n",
       "6                              1880\n",
       "6                               853\n",
       "7                               434\n",
       "97,원룸                           413\n",
       "97,단독주택                         395\n",
       "97,맑음                           353\n",
       "97,기숙사                          224\n",
       "97                              218\n",
       "97                              184\n",
       "97,폭염                           179\n",
       "97,흐림                           165\n",
       "7                               161\n",
       "97,덥다                           146\n",
       "97,기와집                          112\n",
       "97,관사                            97\n",
       "97,모름                            89\n",
       "97,사택(아파트)                       89\n",
       "97,타운하우스                         85\n",
       "97,다가구                           83\n",
       "97,교회사택                          76\n",
       "1,11,18,2,3,4,5,6,7,8            71\n",
       "97,쪽방촌                           67\n",
       "97,모텔                            66\n",
       "97,잘 모름                          61\n",
       "99                               59\n",
       "97,맑다                            59\n",
       "97,프라이드1                         57\n",
       "97,무더움                           55\n",
       "97,비                             52\n",
       "97,상가 내                          50\n",
       "97,투룸                            47\n",
       "97,추워요                           43\n",
       "97,점포임대주택                        42\n",
       "97,사택(공동주거)                      34\n",
       "1,10,13,15,18,2,3,4,5,8,9        15\n",
       "1,13,2,3,4,5,6,8,9                8\n",
       "Name: SQ4, dtype: int64"
      ]
     },
     "execution_count": 7,
     "metadata": {},
     "output_type": "execute_result"
    }
   ],
   "source": [
    "# 거주 주택 형태: 1/2/3/4/5/6/97이 정상값\n",
    "train.SQ4.value_counts()"
   ]
  },
  {
   "cell_type": "code",
   "execution_count": 8,
   "metadata": {},
   "outputs": [],
   "source": [
    "train['SQ4'] = train['SQ4'].astype(str)\n",
    "train['SQ4'] = train['SQ4'].str.strip()\n",
    "\n",
    "test['SQ4'] = test['SQ4'].astype(str)\n",
    "test['SQ4'] = test['SQ4'].str.strip()"
   ]
  },
  {
   "cell_type": "code",
   "execution_count": 9,
   "metadata": {
    "execution": {
     "iopub.execute_input": "2023-12-12T02:02:02.809334Z",
     "iopub.status.busy": "2023-12-12T02:02:02.808960Z",
     "iopub.status.idle": "2023-12-12T02:02:03.647215Z",
     "shell.execute_reply": "2023-12-12T02:02:03.646081Z",
     "shell.execute_reply.started": "2023-12-12T02:02:02.809281Z"
    },
    "papermill": {
     "duration": 0.625589,
     "end_time": "2023-12-11T12:09:58.764107",
     "exception": false,
     "start_time": "2023-12-11T12:09:58.138518",
     "status": "completed"
    },
    "tags": []
   },
   "outputs": [],
   "source": [
    "def handle_profile(x):\n",
    "    if x in ['1', '2', '3', '4', '5', '6']:\n",
    "        return int(x)\n",
    "    elif x in ['1,', '2,', '3,', '4,', '5,', '6,']:\n",
    "        return int(x[0])\n",
    "    elif x in ['97,원룸', '97,단독주택', '97,맑음', '97,기숙사', '97,폭염', '97,흐림', '97,덥다', '97,기와집', '97,관사', '97,모름', '97,사택(아파트)', '97,타운하우스', '97,다가구', '97,교회사택', '97,쪽방촌', '97,모텔', '97,잘 모름', '97,맑다', '97,프라이드1', '97,무더움', '97,비', '97,상가 내', '97,투룸', '97,추워요', '97,점포임대주택', '97,사택(공동주거)']:\n",
    "        return 97\n",
    "    elif re.search(r',.*?,', str(x)):\n",
    "        return 98\n",
    "    else:\n",
    "        return 99"
   ]
  },
  {
   "cell_type": "code",
   "execution_count": 10,
   "metadata": {},
   "outputs": [
    {
     "data": {
      "text/plain": [
       "1,                           226496\n",
       "1                            200769\n",
       "3                            102189\n",
       "nan                           73708\n",
       "2                             49760\n",
       "4                             37470\n",
       "3,                            34304\n",
       "4,                            27938\n",
       "2,                            25578\n",
       "5                             14803\n",
       "5,                            10608\n",
       "6,                             3005\n",
       "6                              2733\n",
       "7                               595\n",
       "97,원룸                           413\n",
       "97                              402\n",
       "97,단독주택                         395\n",
       "97,맑음                           353\n",
       "97,기숙사                          224\n",
       "97,폭염                           179\n",
       "97,흐림                           165\n",
       "97,덥다                           146\n",
       "97,기와집                          112\n",
       "97,관사                            97\n",
       "97,모름                            89\n",
       "97,사택(아파트)                       89\n",
       "97,타운하우스                         85\n",
       "97,다가구                           83\n",
       "97,교회사택                          76\n",
       "1,11,18,2,3,4,5,6,7,8            71\n",
       "97,쪽방촌                           67\n",
       "97,모텔                            66\n",
       "97,잘 모름                          61\n",
       "97,맑다                            59\n",
       "99                               59\n",
       "97,프라이드1                         57\n",
       "97,무더움                           55\n",
       "97,비                             52\n",
       "97,상가 내                          50\n",
       "97,투룸                            47\n",
       "97,추워요                           43\n",
       "97,점포임대주택                        42\n",
       "97,사택(공동주거)                      34\n",
       "1,10,13,15,18,2,3,4,5,8,9        15\n",
       "1,13,2,3,4,5,6,8,9                8\n",
       "Name: SQ4, dtype: int64"
      ]
     },
     "execution_count": 10,
     "metadata": {},
     "output_type": "execute_result"
    }
   ],
   "source": [
    "train.SQ4.value_counts()"
   ]
  },
  {
   "cell_type": "code",
   "execution_count": 11,
   "metadata": {
    "execution": {
     "iopub.execute_input": "2023-12-12T02:02:03.649285Z",
     "iopub.status.busy": "2023-12-12T02:02:03.648872Z",
     "iopub.status.idle": "2023-12-12T02:02:03.698971Z",
     "shell.execute_reply": "2023-12-12T02:02:03.698102Z",
     "shell.execute_reply.started": "2023-12-12T02:02:03.649242Z"
    },
    "papermill": {
     "duration": 0.051059,
     "end_time": "2023-12-11T12:09:58.823952",
     "exception": false,
     "start_time": "2023-12-11T12:09:58.772893",
     "status": "completed"
    },
    "tags": []
   },
   "outputs": [
    {
     "data": {
      "text/plain": [
       "3.0                            261915\n",
       "1.0                            117143\n",
       "3                              103214\n",
       "1                               48526\n",
       "4.0                             45968\n",
       "2.0                             43504\n",
       "2                               30489\n",
       "4                               15059\n",
       "99.0                             7539\n",
       "8.0                              1037\n",
       "16.0                              760\n",
       "1,2,3,5                           493\n",
       "12,2,9                            491\n",
       "1,13,2,3,4,5,8,9                  350\n",
       "1,13,18,2,4,5,9                   331\n",
       "10.0                              316\n",
       "7                                 314\n",
       "1,10,13,15,18,2,3,4,5,6,7,8       294\n",
       "1,2,4,5                           278\n",
       "1,13,18,2,3,4,5,8,9               275\n",
       "Name: SQ5, dtype: int64"
      ]
     },
     "execution_count": 11,
     "metadata": {},
     "output_type": "execute_result"
    }
   ],
   "source": [
    "# 최종학력: 1/2/3/4 정상값\n",
    "train.SQ5.value_counts()[:20]"
   ]
  },
  {
   "cell_type": "code",
   "execution_count": 12,
   "metadata": {},
   "outputs": [],
   "source": [
    "train['SQ5'] = train['SQ5'].astype(str)\n",
    "train['SQ5'] = train['SQ5'].str.strip()\n",
    "\n",
    "test['SQ5'] = test['SQ5'].astype(str)\n",
    "test['SQ5'] = test['SQ5'].str.strip()"
   ]
  },
  {
   "cell_type": "code",
   "execution_count": 13,
   "metadata": {
    "execution": {
     "iopub.execute_input": "2023-12-12T02:02:03.700796Z",
     "iopub.status.busy": "2023-12-12T02:02:03.700458Z",
     "iopub.status.idle": "2023-12-12T02:02:04.487085Z",
     "shell.execute_reply": "2023-12-12T02:02:04.485884Z",
     "shell.execute_reply.started": "2023-12-12T02:02:03.700766Z"
    },
    "papermill": {
     "duration": 0.553187,
     "end_time": "2023-12-11T12:09:59.386383",
     "exception": false,
     "start_time": "2023-12-11T12:09:58.833196",
     "status": "completed"
    },
    "tags": []
   },
   "outputs": [],
   "source": [
    "def handle_profile(x):\n",
    "    if x in ['1', '2', '3', '4']:\n",
    "        return int(x)\n",
    "    elif x in ['1.0', '2.0', '3.0', '4.0']:\n",
    "        return int(x[0])\n",
    "    elif re.search(r',.*?,', str(x)):\n",
    "        return 98\n",
    "    else:\n",
    "        return 99\n",
    "\n",
    "train.SQ5 = train.SQ5.apply(handle_profile)\n",
    "test.SQ5 = test.SQ5.apply(handle_profile)"
   ]
  },
  {
   "cell_type": "code",
   "execution_count": 14,
   "metadata": {},
   "outputs": [
    {
     "data": {
      "text/plain": [
       "3     365129\n",
       "1     165669\n",
       "99    128724\n",
       "2      73993\n",
       "4      61027\n",
       "98     19108\n",
       "Name: SQ5, dtype: int64"
      ]
     },
     "execution_count": 14,
     "metadata": {},
     "output_type": "execute_result"
    }
   ],
   "source": [
    "train.SQ5.value_counts()"
   ]
  },
  {
   "cell_type": "code",
   "execution_count": 15,
   "metadata": {
    "execution": {
     "iopub.execute_input": "2023-12-12T02:02:04.491232Z",
     "iopub.status.busy": "2023-12-12T02:02:04.490859Z",
     "iopub.status.idle": "2023-12-12T02:02:04.544860Z",
     "shell.execute_reply": "2023-12-12T02:02:04.543425Z",
     "shell.execute_reply.started": "2023-12-12T02:02:04.491200Z"
    },
    "papermill": {
     "duration": 0.047612,
     "end_time": "2023-12-11T12:09:59.442902",
     "exception": false,
     "start_time": "2023-12-11T12:09:59.39529",
     "status": "completed"
    },
    "tags": []
   },
   "outputs": [
    {
     "data": {
      "text/plain": [
       "2                                         186233\n",
       "1                                         151556\n",
       "2,                                        112287\n",
       "1,                                         68424\n",
       "4                                          58570\n",
       "3                                          44955\n",
       "2                                          25121\n",
       "5                                          17839\n",
       "1                                          17779\n",
       "97                                          4010\n",
       "3                                           2513\n",
       "4                                           2069\n",
       "97,이혼                                       1106\n",
       "97                                           991\n",
       "99                                           756\n",
       "2,21,5,8,9                                   394\n",
       "5                                            387\n",
       "97,사별                                        270\n",
       "99                                           237\n",
       "97,별거                                         72\n",
       "10                                            63\n",
       "10                                            55\n",
       "7                                             52\n",
       "1,10,11,13,2,21,3,4,5,8                        1\n",
       "1,13,2,21,3,4,7,9                              1\n",
       "6                                              1\n",
       "15,19,3,4,7                                    1\n",
       "1,10,13,16,19,2,21,4,5                         1\n",
       "1,10,11,12,13,15,19,2,21,3,4,5,6,7,8,9         1\n",
       "14                                             1\n",
       "Name: SQ6, dtype: int64"
      ]
     },
     "execution_count": 15,
     "metadata": {},
     "output_type": "execute_result"
    }
   ],
   "source": [
    "# 결혼여부: 1/2/97 정상값\n",
    "train.SQ6.value_counts()"
   ]
  },
  {
   "cell_type": "code",
   "execution_count": 16,
   "metadata": {},
   "outputs": [],
   "source": [
    "train['SQ6'] = train['SQ6'].astype(str)\n",
    "train['SQ6'] = train['SQ6'].str.strip()\n",
    "\n",
    "test['SQ6'] = test['SQ6'].astype(str)\n",
    "test['SQ6'] = test['SQ6'].str.strip()"
   ]
  },
  {
   "cell_type": "code",
   "execution_count": 17,
   "metadata": {
    "execution": {
     "iopub.execute_input": "2023-12-12T02:02:04.546562Z",
     "iopub.status.busy": "2023-12-12T02:02:04.546207Z",
     "iopub.status.idle": "2023-12-12T02:02:05.224514Z",
     "shell.execute_reply": "2023-12-12T02:02:05.223484Z",
     "shell.execute_reply.started": "2023-12-12T02:02:04.546530Z"
    },
    "papermill": {
     "duration": 0.542385,
     "end_time": "2023-12-11T12:09:59.995044",
     "exception": false,
     "start_time": "2023-12-11T12:09:59.452659",
     "status": "completed"
    },
    "tags": []
   },
   "outputs": [],
   "source": [
    "def handle_profile(x):\n",
    "    if x in ['1', '2']:\n",
    "        return int(x)\n",
    "    elif x in ['1,', '2,']:\n",
    "        return int(x[0])\n",
    "    elif x in ['97', '97,이혼', '97,사별', '97,별거']:\n",
    "        return 97\n",
    "    elif re.search(r',.*?,', str(x)):\n",
    "        return 98\n",
    "    else:\n",
    "        return 99\n",
    "\n",
    "train.SQ6 = train.SQ6.apply(handle_profile)\n",
    "test.SQ6 = test.SQ6.apply(handle_profile)"
   ]
  },
  {
   "cell_type": "code",
   "execution_count": 18,
   "metadata": {},
   "outputs": [
    {
     "data": {
      "text/plain": [
       "2     323641\n",
       "99    245402\n",
       "1     237759\n",
       "97      6449\n",
       "98       399\n",
       "Name: SQ6, dtype: int64"
      ]
     },
     "execution_count": 18,
     "metadata": {},
     "output_type": "execute_result"
    }
   ],
   "source": [
    "train.SQ6.value_counts()"
   ]
  },
  {
   "cell_type": "code",
   "execution_count": 19,
   "metadata": {
    "execution": {
     "iopub.execute_input": "2023-12-12T02:02:05.226471Z",
     "iopub.status.busy": "2023-12-12T02:02:05.226075Z",
     "iopub.status.idle": "2023-12-12T02:02:05.287973Z",
     "shell.execute_reply": "2023-12-12T02:02:05.286855Z",
     "shell.execute_reply.started": "2023-12-12T02:02:05.226437Z"
    },
    "papermill": {
     "duration": 0.055253,
     "end_time": "2023-12-11T12:10:00.12056",
     "exception": false,
     "start_time": "2023-12-11T12:10:00.065307",
     "status": "completed"
    },
    "tags": []
   },
   "outputs": [
    {
     "data": {
      "text/plain": [
       "99                   94754\n",
       "99.0                 77505\n",
       "4.0                  34714\n",
       "16.0                 30856\n",
       "3.0                  29374\n",
       "                     ...  \n",
       "13,18,2,3,4,5,7          5\n",
       "1,13                     5\n",
       "1,10,11,2,3,4,5,7        3\n",
       "1,13,2,5,7,8             3\n",
       "1,16,2,3,4,5,8,9         2\n",
       "Name: SQ7, Length: 1217, dtype: int64"
      ]
     },
     "execution_count": 19,
     "metadata": {},
     "output_type": "execute_result"
    }
   ],
   "source": [
    "# 자녀 정보: 1~16/99 정상값\n",
    "train.SQ7.value_counts()"
   ]
  },
  {
   "cell_type": "code",
   "execution_count": 20,
   "metadata": {},
   "outputs": [],
   "source": [
    "train['SQ7'] = train['SQ7'].astype(str)\n",
    "train['SQ7'] = train['SQ7'].str.strip()\n",
    "\n",
    "test['SQ7'] = test['SQ7'].astype(str)\n",
    "test['SQ7'] = test['SQ7'].str.strip()"
   ]
  },
  {
   "cell_type": "code",
   "execution_count": 21,
   "metadata": {
    "execution": {
     "iopub.execute_input": "2023-12-12T02:02:05.290232Z",
     "iopub.status.busy": "2023-12-12T02:02:05.289788Z",
     "iopub.status.idle": "2023-12-12T02:02:06.674791Z",
     "shell.execute_reply": "2023-12-12T02:02:06.673429Z",
     "shell.execute_reply.started": "2023-12-12T02:02:05.290189Z"
    },
    "papermill": {
     "duration": 1.000969,
     "end_time": "2023-12-11T12:10:01.13122",
     "exception": false,
     "start_time": "2023-12-11T12:10:00.130251",
     "status": "completed"
    },
    "tags": []
   },
   "outputs": [],
   "source": [
    "value1 = pd.Series(range(1,17)).apply(lambda x: str(x)).tolist()\n",
    "value2 = pd.Series(np.arange(1.0,17.0)).apply(lambda x: str(x)).tolist()\n",
    "def handle_profile(x):\n",
    "    if x in value1:\n",
    "        return int(x)\n",
    "    elif x in value2:\n",
    "        return int(x[0])\n",
    "    elif re.search(r',.*?,', str(x)):\n",
    "        return 98\n",
    "    else:\n",
    "        return 99\n",
    "\n",
    "train.SQ7 = train.SQ7.apply(handle_profile)\n",
    "test.SQ7 = test.SQ7.apply(handle_profile)"
   ]
  },
  {
   "cell_type": "code",
   "execution_count": 22,
   "metadata": {
    "scrolled": true
   },
   "outputs": [
    {
     "data": {
      "text/plain": [
       "99    320417\n",
       "98    142955\n",
       "1      81865\n",
       "3      50462\n",
       "4      46418\n",
       "8      45821\n",
       "16     25095\n",
       "2      24499\n",
       "5      20689\n",
       "7      10456\n",
       "6       9829\n",
       "14      6637\n",
       "12      6404\n",
       "13      5295\n",
       "15      5214\n",
       "9       4933\n",
       "11      3691\n",
       "10      2970\n",
       "Name: SQ7, dtype: int64"
      ]
     },
     "execution_count": 22,
     "metadata": {},
     "output_type": "execute_result"
    }
   ],
   "source": [
    "train.SQ7.value_counts()"
   ]
  },
  {
   "cell_type": "code",
   "execution_count": 23,
   "metadata": {
    "execution": {
     "iopub.execute_input": "2023-12-12T02:02:06.676844Z",
     "iopub.status.busy": "2023-12-12T02:02:06.676505Z",
     "iopub.status.idle": "2023-12-12T02:02:06.730730Z",
     "shell.execute_reply": "2023-12-12T02:02:06.729407Z",
     "shell.execute_reply.started": "2023-12-12T02:02:06.676814Z"
    },
    "papermill": {
     "duration": 0.052754,
     "end_time": "2023-12-11T12:10:01.19433",
     "exception": false,
     "start_time": "2023-12-11T12:10:01.141576",
     "status": "completed"
    },
    "scrolled": true,
    "tags": []
   },
   "outputs": [
    {
     "data": {
      "text/plain": [
       "3.0    117492\n",
       "4.0    116477\n",
       "1.0     84890\n",
       "2.0     52642\n",
       "3       45629\n",
       "1       45602\n",
       "4       40181\n",
       "5.0     26662\n",
       "2       15744\n",
       "99      12504\n",
       "Name: SQ8, dtype: int64"
      ]
     },
     "execution_count": 23,
     "metadata": {},
     "output_type": "execute_result"
    }
   ],
   "source": [
    "# 가족수: 1/2/3/4/5 정상값\n",
    "train.SQ8.value_counts()[:10]"
   ]
  },
  {
   "cell_type": "code",
   "execution_count": 24,
   "metadata": {},
   "outputs": [],
   "source": [
    "train['SQ8'] = train['SQ8'].astype(str)\n",
    "train['SQ8'] = train['SQ8'].str.strip()\n",
    "\n",
    "test['SQ8'] = test['SQ8'].astype(str)\n",
    "test['SQ8'] = test['SQ8'].str.strip()"
   ]
  },
  {
   "cell_type": "code",
   "execution_count": 25,
   "metadata": {
    "execution": {
     "iopub.execute_input": "2023-12-12T02:02:06.732879Z",
     "iopub.status.busy": "2023-12-12T02:02:06.732435Z",
     "iopub.status.idle": "2023-12-12T02:02:07.403883Z",
     "shell.execute_reply": "2023-12-12T02:02:07.402703Z",
     "shell.execute_reply.started": "2023-12-12T02:02:06.732836Z"
    },
    "papermill": {
     "duration": 0.492537,
     "end_time": "2023-12-11T12:10:01.697006",
     "exception": false,
     "start_time": "2023-12-11T12:10:01.204469",
     "status": "completed"
    },
    "tags": []
   },
   "outputs": [],
   "source": [
    "def handle_profile(x):\n",
    "    if x in ['1', '2', '3', '4', '5']:\n",
    "        return int(x)\n",
    "    elif x in ['1.0', '2.0', '3.0', '4.0','5.0']:\n",
    "        return int(x[0])\n",
    "    else:\n",
    "        return 99\n",
    "\n",
    "train.SQ8 = train.SQ8.apply(handle_profile)\n",
    "test.SQ8 = test.SQ8.apply(handle_profile)"
   ]
  },
  {
   "cell_type": "code",
   "execution_count": 26,
   "metadata": {},
   "outputs": [
    {
     "data": {
      "text/plain": [
       "99    257202\n",
       "3     163121\n",
       "4     156658\n",
       "1     130492\n",
       "2      68386\n",
       "5      37791\n",
       "Name: SQ8, dtype: int64"
      ]
     },
     "execution_count": 26,
     "metadata": {},
     "output_type": "execute_result"
    }
   ],
   "source": [
    "train.SQ8.value_counts()"
   ]
  },
  {
   "cell_type": "code",
   "execution_count": 27,
   "metadata": {
    "execution": {
     "iopub.execute_input": "2023-12-12T02:02:07.406213Z",
     "iopub.status.busy": "2023-12-12T02:02:07.405751Z",
     "iopub.status.idle": "2023-12-12T02:02:07.465073Z",
     "shell.execute_reply": "2023-12-12T02:02:07.463242Z",
     "shell.execute_reply.started": "2023-12-12T02:02:07.406170Z"
    },
    "papermill": {
     "duration": 0.053413,
     "end_time": "2023-12-11T12:10:01.76086",
     "exception": false,
     "start_time": "2023-12-11T12:10:01.707447",
     "status": "completed"
    },
    "tags": []
   },
   "outputs": [
    {
     "data": {
      "text/plain": [
       "1                                        138548\n",
       "3                                         77358\n",
       "99                                        61137\n",
       "2                                         20397\n",
       "4                                         19702\n",
       "                                          ...  \n",
       "12,14,16,17,19,21,6,7,8                       1\n",
       "1,10,13,14,15,16,17,2,21,4,5,7,8              1\n",
       "1,10,12,13,14,16,17,19,2,21,4,5,6,7,8         1\n",
       "1,13,15,19,2,21,3,4,5,8,9                     1\n",
       "1,13,16,2,21,3,4,5,7,9                        1\n",
       "Name: A1, Length: 2768, dtype: int64"
      ]
     },
     "execution_count": 27,
     "metadata": {},
     "output_type": "execute_result"
    }
   ],
   "source": [
    "# 최근 구입/렌트 가전제품: 1~22/99 정상값\n",
    "train.A1.value_counts()"
   ]
  },
  {
   "cell_type": "code",
   "execution_count": 28,
   "metadata": {},
   "outputs": [],
   "source": [
    "train['A1'] = train['A1'].astype(str)\n",
    "train['A1'] = train['A1'].str.strip()\n",
    "\n",
    "test['A1'] = test['A1'].astype(str)\n",
    "test['A1'] = test['A1'].str.strip()"
   ]
  },
  {
   "cell_type": "code",
   "execution_count": 29,
   "metadata": {},
   "outputs": [],
   "source": [
    "#A1_count"
   ]
  },
  {
   "cell_type": "code",
   "execution_count": 31,
   "metadata": {},
   "outputs": [],
   "source": [
    "def count_numbers(pattern):\n",
    "    # 문자열에서 ','를 기준으로 분리\n",
    "    pattern = str(pattern)\n",
    "    numbers = pattern.split(',')\n",
    "\n",
    "    # 숫자 개수를 저장할 딕셔너리 초기화\n",
    "    count_num = 0\n",
    "\n",
    "    # 각 숫자의 출현 횟수 세기\n",
    "    for number in numbers:\n",
    "        number = number.strip()\n",
    "        if number == 'nan':\n",
    "            return 0\n",
    "        else:\n",
    "            count_num += 1\n",
    "\n",
    "    return count_num\n",
    "\n",
    "# train 데이터에 대해 새로운 피처 생성\n",
    "train['A1_count'] = train['A1'].apply(count_numbers)\n",
    "\n",
    "# test 데이터에 대해 새로운 피처 생성\n",
    "test['A1_count'] = test['A1'].apply(count_numbers)"
   ]
  },
  {
   "cell_type": "code",
   "execution_count": 32,
   "metadata": {
    "execution": {
     "iopub.execute_input": "2023-12-12T02:02:07.467377Z",
     "iopub.status.busy": "2023-12-12T02:02:07.466913Z",
     "iopub.status.idle": "2023-12-12T02:02:08.425540Z",
     "shell.execute_reply": "2023-12-12T02:02:08.423818Z",
     "shell.execute_reply.started": "2023-12-12T02:02:07.467311Z"
    },
    "papermill": {
     "duration": 0.711013,
     "end_time": "2023-12-11T12:10:02.481852",
     "exception": false,
     "start_time": "2023-12-11T12:10:01.770839",
     "status": "completed"
    },
    "tags": []
   },
   "outputs": [],
   "source": [
    "values = pd.Series(range(1,23)).apply(lambda x: str(x)).tolist()\n",
    "def handle_profile(x):    \n",
    "    if x in values:\n",
    "        return int(x)\n",
    "    elif re.search(r',.*?,', str(x)):\n",
    "        return 98\n",
    "    else:\n",
    "        return 99\n",
    "\n",
    "train.A1 = train.A1.apply(handle_profile)\n",
    "test.A1 = test.A1.apply(handle_profile)"
   ]
  },
  {
   "cell_type": "code",
   "execution_count": 33,
   "metadata": {},
   "outputs": [
    {
     "data": {
      "text/plain": [
       "99    275448\n",
       "98    228070\n",
       "1     138548\n",
       "3      77358\n",
       "2      20397\n",
       "4      19702\n",
       "5      10023\n",
       "13      7192\n",
       "20      5478\n",
       "10      5460\n",
       "21      4553\n",
       "7       3816\n",
       "6       2712\n",
       "9       2399\n",
       "17      2078\n",
       "11      1742\n",
       "12      1564\n",
       "16      1519\n",
       "15      1394\n",
       "18      1385\n",
       "8       1305\n",
       "22       799\n",
       "19       486\n",
       "14       222\n",
       "Name: A1, dtype: int64"
      ]
     },
     "execution_count": 33,
     "metadata": {},
     "output_type": "execute_result"
    }
   ],
   "source": [
    "train.A1.value_counts()"
   ]
  },
  {
   "cell_type": "code",
   "execution_count": 34,
   "metadata": {
    "execution": {
     "iopub.execute_input": "2023-12-12T02:02:08.428473Z",
     "iopub.status.busy": "2023-12-12T02:02:08.427845Z",
     "iopub.status.idle": "2023-12-12T02:02:08.481989Z",
     "shell.execute_reply": "2023-12-12T02:02:08.479922Z",
     "shell.execute_reply.started": "2023-12-12T02:02:08.428417Z"
    },
    "papermill": {
     "duration": 0.05123,
     "end_time": "2023-12-11T12:10:02.543139",
     "exception": false,
     "start_time": "2023-12-11T12:10:02.491909",
     "status": "completed"
    },
    "tags": []
   },
   "outputs": [
    {
     "data": {
      "text/plain": [
       "4.0                   144144\n",
       "8.0                    77972\n",
       "99                     70360\n",
       "1                      61165\n",
       "4                      49218\n",
       "                       ...  \n",
       "1,10,2,5,6,9               1\n",
       "10,2                       1\n",
       "1,10,2,3,4,6,7,8,9         1\n",
       "10,2,4,6                   1\n",
       "1,4,6,7                    1\n",
       "Name: B1, Length: 131, dtype: int64"
      ]
     },
     "execution_count": 34,
     "metadata": {},
     "output_type": "execute_result"
    }
   ],
   "source": [
    "# 휴대폰 통신망 종류: 1~8/99 정상값\n",
    "train.B1.value_counts()"
   ]
  },
  {
   "cell_type": "code",
   "execution_count": 35,
   "metadata": {},
   "outputs": [],
   "source": [
    "train['B1'] = train['B1'].astype(str)\n",
    "train['B1'] = train['B1'].str.strip()\n",
    "\n",
    "test['B1'] = test['B1'].astype(str)\n",
    "test['B1'] = test['B1'].str.strip()"
   ]
  },
  {
   "cell_type": "code",
   "execution_count": 36,
   "metadata": {
    "execution": {
     "iopub.execute_input": "2023-12-12T02:02:08.484224Z",
     "iopub.status.busy": "2023-12-12T02:02:08.483739Z",
     "iopub.status.idle": "2023-12-12T02:02:09.292624Z",
     "shell.execute_reply": "2023-12-12T02:02:09.291697Z",
     "shell.execute_reply.started": "2023-12-12T02:02:08.484176Z"
    },
    "papermill": {
     "duration": 0.55849,
     "end_time": "2023-12-11T12:10:03.111728",
     "exception": false,
     "start_time": "2023-12-11T12:10:02.553238",
     "status": "completed"
    },
    "tags": []
   },
   "outputs": [],
   "source": [
    "def handle_profile(x):    \n",
    "    if x in ['1','1.0']:\n",
    "        return 1\n",
    "    elif x in ['2', '2.0']:\n",
    "        return 2\n",
    "    elif x in ['3', '3.0']:\n",
    "        return 3\n",
    "    elif x in ['4', '5', '6', '7', '4.0', '5.0', '6.0', '7.0']:\n",
    "        return 4\n",
    "    elif x in ['8', '8.0']:\n",
    "        return 5\n",
    "    elif re.search(r',.*?,', str(x)):\n",
    "        return 98\n",
    "    else:\n",
    "        return 99\n",
    "\n",
    "train.B1 = train.B1.apply(handle_profile)\n",
    "test.B1 = test.B1.apply(handle_profile)"
   ]
  },
  {
   "cell_type": "code",
   "execution_count": 37,
   "metadata": {},
   "outputs": [
    {
     "data": {
      "text/plain": [
       "1.0            125631\n",
       "1               90925\n",
       "3.0             61414\n",
       "99              50407\n",
       "2               42995\n",
       "                ...  \n",
       "2,3,4,6,7,9         1\n",
       "1,3,5,6             1\n",
       "1,2,5,97            1\n",
       "6,97                1\n",
       "1,4,5,97            1\n",
       "Name: B2, Length: 120, dtype: int64"
      ]
     },
     "execution_count": 37,
     "metadata": {},
     "output_type": "execute_result"
    }
   ],
   "source": [
    "# 가입한 이동통신사: 1~6/97 정상값 \n",
    "train.B2.value_counts()"
   ]
  },
  {
   "cell_type": "code",
   "execution_count": 38,
   "metadata": {},
   "outputs": [],
   "source": [
    "train['B2'] = train['B2'].astype(str)\n",
    "train['B2'] = train['B2'].str.strip()\n",
    "\n",
    "test['B2'] = test['B2'].astype(str)\n",
    "test['B2'] = test['B2'].str.strip()"
   ]
  },
  {
   "cell_type": "code",
   "execution_count": 39,
   "metadata": {},
   "outputs": [],
   "source": [
    "def handle_profile(x):    \n",
    "    if x in ['1', '1.0']:\n",
    "        return 1\n",
    "    elif x in ['2', '2.0']:\n",
    "        return 2\n",
    "    elif x in ['3', '3.0']:\n",
    "        return 3\n",
    "    elif x in ['4', '4.0']:\n",
    "        return 4\n",
    "    elif x in ['5', '5.0']:\n",
    "        return 5\n",
    "    elif x in ['6', '6.0']:\n",
    "        return 6\n",
    "    elif re.search(r',.*?,', str(x)):\n",
    "        return 96\n",
    "    elif x in ['97', '97.0']:\n",
    "        return 97\n",
    "    else:\n",
    "        return 99\n",
    "\n",
    "train['B6'] = train['B2'].apply(handle_profile)\n",
    "test['B6'] = test['B2'].apply(handle_profile)"
   ]
  },
  {
   "cell_type": "code",
   "execution_count": 40,
   "metadata": {},
   "outputs": [
    {
     "data": {
      "text/plain": [
       "99    295375\n",
       "1     216556\n",
       "3     102627\n",
       "2      67828\n",
       "4      57746\n",
       "5      48210\n",
       "96     18818\n",
       "6       4405\n",
       "97      2085\n",
       "Name: B6, dtype: int64"
      ]
     },
     "execution_count": 40,
     "metadata": {},
     "output_type": "execute_result"
    }
   ],
   "source": [
    "train['B6'].value_counts()"
   ]
  },
  {
   "cell_type": "code",
   "execution_count": 41,
   "metadata": {},
   "outputs": [],
   "source": [
    "def handle_profile(x):\n",
    "    if x in ['1', '2', '3', '4', '5', '6']:\n",
    "        return int(x)\n",
    "    else:\n",
    "        return 99\n",
    "\n",
    "train.B2 = train.B2.apply(handle_profile)\n",
    "test.B2 = test.B2.apply(handle_profile)"
   ]
  },
  {
   "cell_type": "code",
   "execution_count": 42,
   "metadata": {},
   "outputs": [
    {
     "data": {
      "text/plain": [
       "99    581376\n",
       "1      90925\n",
       "2      42995\n",
       "3      41213\n",
       "5      30163\n",
       "4      24604\n",
       "6       2374\n",
       "Name: B2, dtype: int64"
      ]
     },
     "execution_count": 42,
     "metadata": {},
     "output_type": "execute_result"
    }
   ],
   "source": [
    "train.B2.value_counts()"
   ]
  },
  {
   "cell_type": "code",
   "execution_count": 43,
   "metadata": {
    "execution": {
     "iopub.execute_input": "2023-12-12T02:02:10.085695Z",
     "iopub.status.busy": "2023-12-12T02:02:10.084586Z",
     "iopub.status.idle": "2023-12-12T02:02:10.140883Z",
     "shell.execute_reply": "2023-12-12T02:02:10.139386Z",
     "shell.execute_reply.started": "2023-12-12T02:02:10.085637Z"
    },
    "papermill": {
     "duration": 0.050679,
     "end_time": "2023-12-11T12:10:03.757526",
     "exception": false,
     "start_time": "2023-12-11T12:10:03.706847",
     "status": "completed"
    },
    "tags": []
   },
   "outputs": [
    {
     "data": {
      "text/plain": [
       "1              285468\n",
       "2               96497\n",
       "99              77757\n",
       "3               68090\n",
       "1,              25590\n",
       "                ...  \n",
       "2,4,5,6,97          1\n",
       "1,2,4,7,8,9         1\n",
       "1,3,5               1\n",
       "5,97                1\n",
       "1,2,3,4,7           1\n",
       "Name: B3, Length: 110, dtype: int64"
      ]
     },
     "execution_count": 43,
     "metadata": {},
     "output_type": "execute_result"
    }
   ],
   "source": [
    "# 휴대폰 브랜드: 1~7/97/99\n",
    "train.B3.value_counts()"
   ]
  },
  {
   "cell_type": "code",
   "execution_count": 44,
   "metadata": {},
   "outputs": [],
   "source": [
    "train['B3'] = train['B3'].astype(str)\n",
    "train['B3'] = train['B3'].str.strip()\n",
    "\n",
    "test['B3'] = test['B3'].astype(str)\n",
    "test['B3'] = test['B3'].str.strip()"
   ]
  },
  {
   "cell_type": "code",
   "execution_count": 45,
   "metadata": {
    "execution": {
     "iopub.execute_input": "2023-12-12T02:02:10.143295Z",
     "iopub.status.busy": "2023-12-12T02:02:10.142833Z",
     "iopub.status.idle": "2023-12-12T02:02:10.855281Z",
     "shell.execute_reply": "2023-12-12T02:02:10.854373Z",
     "shell.execute_reply.started": "2023-12-12T02:02:10.143251Z"
    },
    "papermill": {
     "duration": 0.560106,
     "end_time": "2023-12-11T12:10:04.32831",
     "exception": false,
     "start_time": "2023-12-11T12:10:03.768204",
     "status": "completed"
    },
    "tags": []
   },
   "outputs": [],
   "source": [
    "def handle_profile(x):    \n",
    "    if x in ['1', '2', '3']:\n",
    "        return int(x)\n",
    "    elif x in ['1,', '2,', '3,']:\n",
    "        return int(x[0])\n",
    "    elif x in ['99', '99,']:\n",
    "        return 99\n",
    "    elif re.search(r',.*?,', str(x)):\n",
    "        return 98\n",
    "    else:\n",
    "        return 4  # 기타 제조사\n",
    "\n",
    "train.B3 = train.B3.apply(handle_profile)\n",
    "test.B3 = test.B3.apply(handle_profile)"
   ]
  },
  {
   "cell_type": "code",
   "execution_count": 46,
   "metadata": {},
   "outputs": [
    {
     "data": {
      "text/plain": [
       "1     311058\n",
       "4     242947\n",
       "2     100355\n",
       "99     77967\n",
       "3      77260\n",
       "98      4063\n",
       "Name: B3, dtype: int64"
      ]
     },
     "execution_count": 46,
     "metadata": {},
     "output_type": "execute_result"
    }
   ],
   "source": [
    "train.B3.value_counts()"
   ]
  },
  {
   "cell_type": "markdown",
   "metadata": {},
   "source": [
    "#### B5_count"
   ]
  },
  {
   "cell_type": "code",
   "execution_count": 50,
   "metadata": {},
   "outputs": [],
   "source": [
    "def count_numbers(pattern):\n",
    "    # 문자열에서 ','를 기준으로 분리\n",
    "    pattern = str(pattern)\n",
    "    numbers = pattern.split(',')\n",
    "\n",
    "    # 숫자 개수를 저장할 딕셔너리 초기화\n",
    "    count_num = 0\n",
    "\n",
    "    # 각 숫자의 출현 횟수 세기\n",
    "    for number in numbers:\n",
    "        number = number.strip()\n",
    "        if number == 'nan':\n",
    "            return 0\n",
    "        else:\n",
    "            count_num+=1\n",
    "\n",
    "    return count_num\n",
    "\n",
    "train['B5_count'] = train.B5.apply(count_numbers)\n",
    "test['B5_count'] = test.B5.apply(count_numbers)"
   ]
  },
  {
   "cell_type": "code",
   "execution_count": 51,
   "metadata": {
    "execution": {
     "iopub.execute_input": "2023-12-12T02:02:10.857470Z",
     "iopub.status.busy": "2023-12-12T02:02:10.856992Z",
     "iopub.status.idle": "2023-12-12T02:02:10.947008Z",
     "shell.execute_reply": "2023-12-12T02:02:10.945730Z",
     "shell.execute_reply.started": "2023-12-12T02:02:10.857425Z"
    },
    "papermill": {
     "duration": 0.087368,
     "end_time": "2023-12-11T12:10:04.427104",
     "exception": false,
     "start_time": "2023-12-11T12:10:04.339736",
     "status": "completed"
    },
    "tags": []
   },
   "outputs": [
    {
     "data": {
      "text/plain": [
       "일반인의견조사(Rm-K)            7506\n",
       "소비자의견조사(HJ-JJ)           5087\n",
       "소비자의견조사(JM-WR)           5037\n",
       "소비자의견조사(SM-OT-Pag)       4912\n",
       "일반인의견조사(M-TK)            4481\n",
       "                         ... \n",
       "해외-일반인의견조사(G-1003288)       1\n",
       "해외-일반인의견조사(G-1004081)       1\n",
       "해외-일반인의견조사(G-997511)        1\n",
       "해외-일반인의견조사(G-992275)        1\n",
       "해외-일반인의견조사(G-960414)        1\n",
       "Name: TITLE, Length: 1286, dtype: int64"
      ]
     },
     "execution_count": 51,
     "metadata": {},
     "output_type": "execute_result"
    }
   ],
   "source": [
    "# 서베이 제목에서 유용한 정보 추출\n",
    "train.TITLE.value_counts()"
   ]
  },
  {
   "cell_type": "code",
   "execution_count": 52,
   "metadata": {
    "execution": {
     "iopub.execute_input": "2023-12-12T02:02:10.949145Z",
     "iopub.status.busy": "2023-12-12T02:02:10.948692Z",
     "iopub.status.idle": "2023-12-12T02:02:38.786257Z",
     "shell.execute_reply": "2023-12-12T02:02:38.785176Z",
     "shell.execute_reply.started": "2023-12-12T02:02:10.949099Z"
    },
    "papermill": {
     "duration": 22.092481,
     "end_time": "2023-12-11T12:10:26.530545",
     "exception": false,
     "start_time": "2023-12-11T12:10:04.438064",
     "status": "completed"
    },
    "tags": []
   },
   "outputs": [],
   "source": [
    "word_counts = {}\n",
    "def count_word(x): # 응답한 서베이 제목에서 한글 단어만 분리하고 빈도 계산\n",
    "    if x['STATUS'] == 1:\n",
    "        for w in re.sub(r'[^ ㄱ-ㅣ가-힣]', '', x['TITLE']).split():\n",
    "            word_counts[w] = word_counts.get(w, 0) + 1\n",
    "def score_word(x): # 빈도의 합으로 제목을 Encoding\n",
    "    score = 0\n",
    "    for w in re.sub(r'[^ ㄱ-ㅣ가-힣]', '', x['TITLE']).split():\n",
    "        score += word_counts.get(w, 0)\n",
    "    return score    \n",
    "            \n",
    "train.apply(count_word, axis=1)\n",
    "train.TITLE = train.apply(score_word, axis=1)\n",
    "test.TITLE = test.apply(score_word, axis=1)"
   ]
  },
  {
   "cell_type": "code",
   "execution_count": 53,
   "metadata": {
    "execution": {
     "iopub.execute_input": "2023-12-12T02:02:38.788915Z",
     "iopub.status.busy": "2023-12-12T02:02:38.787654Z",
     "iopub.status.idle": "2023-12-12T02:02:40.631947Z",
     "shell.execute_reply": "2023-12-12T02:02:40.630689Z",
     "shell.execute_reply.started": "2023-12-12T02:02:38.788870Z"
    },
    "papermill": {
     "duration": 1.463951,
     "end_time": "2023-12-11T12:10:28.005266",
     "exception": false,
     "start_time": "2023-12-11T12:10:26.541315",
     "status": "completed"
    },
    "tags": []
   },
   "outputs": [],
   "source": [
    "# 응답률 feature 생성\n",
    "res_freq = train.query('STATUS == 1').groupby('userID')['userID'].agg([('FREQ',np.size)]).reset_index()\n",
    "send_freq = train.groupby('userID')['userID'].agg([('SEND',np.size)]).reset_index()\n",
    "train = train.merge(res_freq, how='left').merge(send_freq, how='left')\n",
    "train['RESRATE'] = train['FREQ'] / train['SEND']\n",
    "del train['FREQ'], train['SEND']\n",
    "test = pd.merge(test, train.drop_duplicates(subset=['userID'])[['userID', 'RESRATE']], how='left')\n",
    "\n",
    "features.extend(['RESRATE'])"
   ]
  },
  {
   "cell_type": "markdown",
   "metadata": {},
   "source": [
    "### Feature Create"
   ]
  },
  {
   "cell_type": "markdown",
   "metadata": {},
   "source": [
    "**패널 ID별 응답 리워드, 난이도, 시간 관련**"
   ]
  },
  {
   "cell_type": "code",
   "execution_count": 54,
   "metadata": {},
   "outputs": [],
   "source": [
    "# 패널의 총 리워드 포인트, 평균/최소/최대 리워드 포인트\n",
    "\n",
    "# 패널 ID 별 획득 누적 포인트\n",
    "Points_earned = pd.DataFrame(train.query('STATUS==1').groupby('userID')['CPI'].agg([('Points_earned',np.sum)])).reset_index()\n",
    "\n",
    "# 패널 ID 별 획득 평균 포인트\n",
    "Points_earned_mean = pd.DataFrame(train.query('STATUS==1').groupby('userID')['CPI'].agg([('Points_earned_mean',np.mean)])).reset_index()\n",
    "\n",
    "train = train.merge(Points_earned, how='left')\n",
    "train = train.merge(Points_earned_mean, how='left')\n",
    "\n",
    "train['Points_earned'].fillna(0, inplace = True)\n",
    "train['Points_earned_mean'].fillna(0, inplace = True)\n",
    "\n",
    "test = test.merge(Points_earned, how='left')\n",
    "test = test.merge(Points_earned_mean, how='left')\n",
    "\n",
    "test['Points_earned'].fillna(0, inplace = True) \n",
    "test['Points_earned_mean'].fillna(0, inplace = True)"
   ]
  },
  {
   "cell_type": "code",
   "execution_count": 55,
   "metadata": {},
   "outputs": [],
   "source": [
    "# 패널이 응한 설문의 평균난이도\n",
    "IR = train.query('STATUS==1').groupby('userID')['IR'].agg([('AVG_IR', np.mean)]).reset_index()\n",
    "                  \n",
    "train = train.merge(IR, how='left')\n",
    "test = test.merge(IR, how='left')"
   ]
  },
  {
   "cell_type": "code",
   "execution_count": 56,
   "metadata": {},
   "outputs": [],
   "source": [
    "# 패널 ID 별 획득 평균 시간\n",
    "LOI = pd.DataFrame(train.query('STATUS==1').groupby('userID')['LOI'].agg([('AVG_LOI', np.mean)]).reset_index())\n",
    "train = train.merge(LOI, how='left')\n",
    "test = test.merge(LOI, how='left')"
   ]
  },
  {
   "cell_type": "markdown",
   "metadata": {},
   "source": [
    "**BIRTH, REGION 별 응답확률**"
   ]
  },
  {
   "cell_type": "code",
   "execution_count": 57,
   "metadata": {},
   "outputs": [],
   "source": [
    "BIRTH_status_mean = pd.DataFrame(train.groupby('BIRTH')['STATUS'].agg([('BIRTH_status_mean',np.mean)])).reset_index()\n",
    "\n",
    "REGION_status_mean = pd.DataFrame(train.groupby('REGION')['STATUS'].agg([('REGION_status_mean',np.mean)])).reset_index()\n",
    "\n",
    "train = train.merge(BIRTH_status_mean, how='left').merge(REGION_status_mean, how='left')\n",
    "test = test.merge(BIRTH_status_mean, how='left').merge(REGION_status_mean, how='left')"
   ]
  },
  {
   "cell_type": "markdown",
   "metadata": {},
   "source": [
    "**IR 별 응답확률**"
   ]
  },
  {
   "cell_type": "code",
   "execution_count": 58,
   "metadata": {},
   "outputs": [],
   "source": [
    "train_IR = ((train.groupby('IR')['STATUS'].sum())/(train.IR.value_counts().sort_index())).reset_index().rename(columns = {0 : 'STATUS_ratio_IR'})\n",
    "train = train.merge(train_IR,how='left')\n",
    "test = test.merge(train_IR,how='left')\n",
    "test.STATUS_ratio_IR=test.STATUS_ratio_IR.fillna(test.STATUS_ratio_IR.mean())"
   ]
  },
  {
   "cell_type": "markdown",
   "metadata": {},
   "source": [
    "**LOI별 응답확률**"
   ]
  },
  {
   "cell_type": "code",
   "execution_count": 59,
   "metadata": {},
   "outputs": [],
   "source": [
    "train_LOI = ((train.groupby('LOI')['STATUS'].sum())/(train.LOI.value_counts().sort_index())).reset_index().rename(columns = {0 : 'STATUS_ratio_LOI'})\n",
    "train = train.merge(train_LOI,how='left')\n",
    "test = test.merge(train_LOI,how='left')\n",
    "test.STATUS_ratio_LOI=test.STATUS_ratio_LOI.fillna(test.STATUS_ratio_LOI.mean())"
   ]
  },
  {
   "cell_type": "markdown",
   "metadata": {},
   "source": [
    "**CPI 별 응답확률**"
   ]
  },
  {
   "cell_type": "code",
   "execution_count": 60,
   "metadata": {},
   "outputs": [],
   "source": [
    "train_CPI = ((train.groupby('CPI')['STATUS'].sum())/(train.CPI.value_counts().sort_index())).reset_index().rename(columns = {0 : 'STATUS_ratio_CPI'})\n",
    "train = train.merge(train_CPI,how='left')\n",
    "test = test.merge(train_CPI,how='left')\n",
    "test.STATUS_ratio_CPI=test.STATUS_ratio_CPI.fillna(test.STATUS_ratio_CPI.mean())"
   ]
  },
  {
   "cell_type": "markdown",
   "metadata": {},
   "source": [
    "**응답률 * 서베이 횟수**"
   ]
  },
  {
   "cell_type": "code",
   "execution_count": 61,
   "metadata": {},
   "outputs": [],
   "source": [
    "survey_count = train.groupby('userID')['userID'].count()#.reset_index()\n",
    "survey_count.name = 'user'\n",
    "survey_count.reset_index()\n",
    "\n",
    "RES_RATE = train.STATUS.groupby(train.userID).sum() / train.STATUS.groupby(train.userID).count()\n",
    "RES_RATE_survey_sum = RES_RATE*survey_count\n",
    "RES_RATE_survey_sum.name = 'RES_RATE_survey_sum'\n",
    "\n",
    "train = train.merge(RES_RATE_survey_sum,on='userID', how = 'left')\n",
    "test = test.merge(RES_RATE_survey_sum,on='userID', how = 'left')"
   ]
  },
  {
   "cell_type": "markdown",
   "metadata": {},
   "source": [
    "**TYPE 별 응답확률**"
   ]
  },
  {
   "cell_type": "code",
   "execution_count": 62,
   "metadata": {},
   "outputs": [],
   "source": [
    "TYPE_mean = pd.DataFrame(train.groupby('TYPE')['STATUS'].agg([('TYPE_mean',np.mean)])).reset_index()\n",
    "train = train.merge(TYPE_mean, how='left')\n",
    "test = test.merge(TYPE_mean, how='left')"
   ]
  },
  {
   "cell_type": "markdown",
   "metadata": {},
   "source": [
    "**유저아이디별 응답횟수**"
   ]
  },
  {
   "cell_type": "code",
   "execution_count": 63,
   "metadata": {},
   "outputs": [],
   "source": [
    "res_cnt = train[train.STATUS== 1].groupby(\"userID\").surveyID.count()\n",
    "train[\"res_cnt\"] = train[\"userID\"].map(dict(res_cnt))\n",
    "test[\"res_cnt\"] = test[\"userID\"].map(dict(res_cnt))\n",
    "\n",
    "test[\"res_cnt\"] = test[\"res_cnt\"].fillna(0)"
   ]
  },
  {
   "cell_type": "markdown",
   "metadata": {},
   "source": [
    "**성별응답확률**"
   ]
  },
  {
   "cell_type": "code",
   "execution_count": 64,
   "metadata": {},
   "outputs": [],
   "source": [
    "res_freq = train.query('STATUS == 1').groupby('GENDER')['IR'].agg([('g_i','mean')]).reset_index()\n",
    "train = pd.merge(train, res_freq, how='left')\n",
    "test = pd.merge(test, res_freq, how='left')\n",
    "test.FREQ = test.g_i.fillna(test.g_i.mean())"
   ]
  },
  {
   "cell_type": "markdown",
   "metadata": {},
   "source": [
    "**성별 응답난이도 평균**"
   ]
  },
  {
   "cell_type": "code",
   "execution_count": 65,
   "metadata": {
    "scrolled": true
   },
   "outputs": [],
   "source": [
    "GENDER_IR = train.query('STATUS == 1').groupby('GENDER')['IR'].agg([('GENDER_IR',np.mean)]).reset_index()\n",
    "\n",
    "train = pd.merge(train, GENDER_IR, how='left')\n",
    "test = pd.merge(test, GENDER_IR, how='left')"
   ]
  },
  {
   "cell_type": "markdown",
   "metadata": {},
   "source": [
    "**TYPE 별 CPI 평균**"
   ]
  },
  {
   "cell_type": "code",
   "execution_count": 66,
   "metadata": {},
   "outputs": [],
   "source": [
    "TYPE_CPI_mean = pd.DataFrame(train.groupby('TYPE')['CPI'].agg([('TYPE_CPI_mean',np.mean)])).reset_index()\n",
    "\n",
    "train = train.merge(TYPE_CPI_mean, how='left')\n",
    "test = test.merge(TYPE_CPI_mean, how='left')"
   ]
  },
  {
   "cell_type": "markdown",
   "metadata": {},
   "source": [
    "**생년->나이**"
   ]
  },
  {
   "cell_type": "code",
   "execution_count": 67,
   "metadata": {},
   "outputs": [],
   "source": [
    "train[\"AGE\"] = 2022- train[\"BIRTH\"]\n",
    "test[\"AGE\"] = 2022- test[\"BIRTH\"]"
   ]
  },
  {
   "cell_type": "markdown",
   "metadata": {},
   "source": [
    "#### 응답률 + 응답률 * 서베이 횟수"
   ]
  },
  {
   "cell_type": "code",
   "execution_count": 68,
   "metadata": {},
   "outputs": [],
   "source": [
    "train['RESRATE_sum_RES_RATE_survey_sum']= train['RESRATE']+train['RES_RATE_survey_sum']\n",
    "test['RESRATE_sum_RES_RATE_survey_sum']= test['RESRATE']+test['RES_RATE_survey_sum']"
   ]
  },
  {
   "cell_type": "markdown",
   "metadata": {},
   "source": [
    "#### 성별 * 응답률"
   ]
  },
  {
   "cell_type": "code",
   "execution_count": 69,
   "metadata": {},
   "outputs": [],
   "source": [
    "train['GENDER_multiply_RESRATE'] = train['GENDER'] * train['RESRATE']\n",
    "test['GENDER_multiply_RESRATE'] = test['GENDER'] * test['RESRATE']"
   ]
  },
  {
   "cell_type": "markdown",
   "metadata": {},
   "source": [
    "#### 응답률 - 획득 포인트 평균"
   ]
  },
  {
   "cell_type": "code",
   "execution_count": 70,
   "metadata": {},
   "outputs": [],
   "source": [
    "train['RESRATE_diff_Points_earned_mean'] = train['RESRATE'] - train['Points_earned_mean']\n",
    "test['RESRATE_diff_Points_earned_mean'] = test['RESRATE'] - test['Points_earned_mean']"
   ]
  },
  {
   "cell_type": "markdown",
   "metadata": {},
   "source": [
    "#### 유저아이디별 응답횟수 + 응답률(인데 -로 만들었습니다...)"
   ]
  },
  {
   "cell_type": "code",
   "execution_count": 71,
   "metadata": {},
   "outputs": [],
   "source": [
    "train['res_cnt_sum_RESRATE'] = train['res_cnt'] - train['RESRATE']\n",
    "test['res_cnt_sum_RESRATE'] = test['res_cnt'] - test['RESRATE']"
   ]
  },
  {
   "cell_type": "markdown",
   "metadata": {},
   "source": [
    "#### 지역  * 응답률"
   ]
  },
  {
   "cell_type": "code",
   "execution_count": 72,
   "metadata": {},
   "outputs": [],
   "source": [
    "train['REGION_multiply_RESRATE'] = train['REGION'] * train['RESRATE']\n",
    "test['REGION_multiply_RESRATE'] = test['REGION'] * test['RESRATE']"
   ]
  },
  {
   "cell_type": "markdown",
   "metadata": {},
   "source": [
    "#### 획득 포인트 평균  +  응답률"
   ]
  },
  {
   "cell_type": "code",
   "execution_count": 73,
   "metadata": {},
   "outputs": [],
   "source": [
    "train['Points_earned_mean_sum_RESRATE'] = train['Points_earned_mean'] + train['RESRATE']\n",
    "test['Points_earned_mean_sum_RESRATE'] = test['Points_earned_mean'] + test['RESRATE']"
   ]
  },
  {
   "cell_type": "markdown",
   "metadata": {},
   "source": [
    "#### 유저아이디별 응답횟수 * 성별"
   ]
  },
  {
   "cell_type": "code",
   "execution_count": 74,
   "metadata": {},
   "outputs": [],
   "source": [
    "train['res_cnt_multiply_GENDER'] = train['res_cnt'] * train['GENDER']\n",
    "test['res_cnt_multiply_GENDER'] = test['res_cnt'] * test['GENDER']"
   ]
  },
  {
   "cell_type": "markdown",
   "metadata": {},
   "source": [
    "#### (유저아이디별 응답횟수) + (응답률 * 서베이 횟수)"
   ]
  },
  {
   "cell_type": "code",
   "execution_count": 75,
   "metadata": {},
   "outputs": [],
   "source": [
    "train['res_cnt_sum_RES_RATE_survey_sum'] = train['res_cnt'] + train['RES_RATE_survey_sum']\n",
    "test['res_cnt_sum_RES_RATE_survey_sum'] = test['res_cnt'] + test['RES_RATE_survey_sum']"
   ]
  },
  {
   "cell_type": "markdown",
   "metadata": {},
   "source": [
    "#### (응답률 * 서베이 횟수) / 유저아이디별 응답횟수 * 100"
   ]
  },
  {
   "cell_type": "code",
   "execution_count": 76,
   "metadata": {},
   "outputs": [],
   "source": [
    "train['RES_RATE_survey_sum_ratio_res_cnt'] = train['RES_RATE_survey_sum'] / train['res_cnt'] * 100\n",
    "test['RES_RATE_survey_sum_ratio_res_cnt'] = test['RES_RATE_survey_sum'] / test['res_cnt'] * 100"
   ]
  },
  {
   "cell_type": "markdown",
   "metadata": {},
   "source": [
    "#### 유저아이디별 응답횟수 / (응답률 * 서베이 횟수) * 100"
   ]
  },
  {
   "cell_type": "code",
   "execution_count": 77,
   "metadata": {},
   "outputs": [],
   "source": [
    "train['res_cnt_ratio_RES_RATE_survey_sum'] = train['res_cnt'] / train['RES_RATE_survey_sum'] * 100\n",
    "test['res_cnt_ratio_RES_RATE_survey_sum'] = test['res_cnt'] / test['RES_RATE_survey_sum'] * 100"
   ]
  },
  {
   "cell_type": "markdown",
   "metadata": {},
   "source": [
    "#### 설문 당 평균 응답률"
   ]
  },
  {
   "cell_type": "code",
   "execution_count": 78,
   "metadata": {},
   "outputs": [],
   "source": [
    "survey_count = train.groupby('surveyID')['surveyID'].count()#.reset_index()\n",
    "survey_count.name = 'survey'\n",
    "survey_count.reset_index()\n",
    "\n",
    "\n",
    "survey_p = train.groupby('surveyID')['IR'].agg([('survey_p',np.mean)]).reset_index()\n",
    "\n",
    "survey_p['survey_p_survey_sum']= survey_p['survey_p']*survey_count.reset_index()['survey']\n",
    "\n",
    "train = train.merge(survey_p,on='surveyID', how = 'left')\n",
    "test = test.merge(survey_p,on='surveyID', how = 'left')\n",
    "\n",
    "test['survey_p'] = test['survey_p'].fillna(0)"
   ]
  },
  {
   "cell_type": "markdown",
   "metadata": {},
   "source": [
    "#### 설문지역, 설문대상자유형"
   ]
  },
  {
   "cell_type": "code",
   "execution_count": 79,
   "metadata": {},
   "outputs": [],
   "source": [
    "train['설문지역'] = train['TITLE'].apply(lambda x: '해외' if '해외' in str(x) else '국내')\n",
    "train['설문대상자유형'] = train['TITLE'].apply(lambda x: '일반인' if '일반인' in str(x) else ('소비자' if '소비자' in str(x) else '기타'))\n",
    "\n",
    "test['설문지역'] = test['TITLE'].apply(lambda x: '해외' if '해외' in str(x) else '국내')\n",
    "test['설문대상자유형'] = test['TITLE'].apply(lambda x: '일반인' if '일반인' in str(x) else ('소비자' if '소비자' in str(x) else '기타'))"
   ]
  },
  {
   "cell_type": "markdown",
   "metadata": {},
   "source": [
    "#### 동일설문발송횟수"
   ]
  },
  {
   "cell_type": "code",
   "execution_count": 80,
   "metadata": {},
   "outputs": [],
   "source": [
    "train['동일설문발송횟수'] = train.groupby(['userID', 'TITLE']).cumcount() + 1\n",
    "test['동일설문발송횟수'] = test.groupby(['userID', 'TITLE']).cumcount() + 1"
   ]
  },
  {
   "cell_type": "markdown",
   "metadata": {},
   "source": [
    "#### 연령대"
   ]
  },
  {
   "cell_type": "code",
   "execution_count": 81,
   "metadata": {},
   "outputs": [],
   "source": [
    "train['연령대'] = train['AGE'] // 10\n",
    "test['연령대'] = test['AGE'] // 10"
   ]
  },
  {
   "cell_type": "markdown",
   "metadata": {},
   "source": [
    "#### 아줌마, 아저씨"
   ]
  },
  {
   "cell_type": "code",
   "execution_count": 82,
   "metadata": {},
   "outputs": [],
   "source": [
    "def a_j_c(age, gender):\n",
    "    return np.where((age == 3.0) & (gender == 1), '맞음', '아님')\n",
    "\n",
    "train['a_j_c'] = a_j_c(train['연령대'], train['GENDER'])\n",
    "test['a_j_c'] = a_j_c(test['연령대'], test['GENDER'])"
   ]
  },
  {
   "cell_type": "code",
   "execution_count": 83,
   "metadata": {},
   "outputs": [],
   "source": [
    "def a_j_m(age, gender):\n",
    "    return np.where((age == 4.0) & (gender == 2), '맞음', '아님')\n",
    "\n",
    "train['a_j_m'] = a_j_m(train['연령대'], train['GENDER'])\n",
    "test['a_j_m'] = a_j_m(test['연령대'], test['GENDER'])"
   ]
  },
  {
   "cell_type": "markdown",
   "metadata": {},
   "source": [
    "#### 연령대별 응답확률"
   ]
  },
  {
   "cell_type": "code",
   "execution_count": 84,
   "metadata": {},
   "outputs": [],
   "source": [
    "BIRTH_range_status_mean = pd.DataFrame(train.groupby('연령대')['STATUS'].agg([('연령대_status_mean',np.mean)])).reset_index()\n",
    "\n",
    "train = train.merge(BIRTH_range_status_mean, how='left')\n",
    "test = test.merge(BIRTH_range_status_mean, how='left')"
   ]
  },
  {
   "cell_type": "markdown",
   "metadata": {},
   "source": [
    "**난이도 대비 응답시간**"
   ]
  },
  {
   "cell_type": "code",
   "execution_count": 86,
   "metadata": {},
   "outputs": [],
   "source": [
    "train['ResponseTimePerDifficulty'] = train['LOI'] / train['IR']\n",
    "test['ResponseTimePerDifficulty'] = test['LOI'] / test['IR']"
   ]
  },
  {
   "cell_type": "code",
   "execution_count": 87,
   "metadata": {},
   "outputs": [],
   "source": [
    "# train 데이터 처리\n",
    "train['ResponseTimePerDifficulty'].replace([np.inf, -np.inf], np.nan, inplace=True)\n",
    "train['ResponseTimePerDifficulty'].fillna(train['ResponseTimePerDifficulty'].mean(), inplace=True)\n",
    "\n",
    "# test 데이터 처리 (train 데이터와 동일한 처리)\n",
    "test['ResponseTimePerDifficulty'].replace([np.inf, -np.inf], np.nan, inplace=True)\n",
    "test['ResponseTimePerDifficulty'].fillna(train['ResponseTimePerDifficulty'].mean(), inplace=True)"
   ]
  },
  {
   "cell_type": "markdown",
   "metadata": {},
   "source": [
    "**유저아이디별 응답횟수 * 성별 응답난이도 평균**"
   ]
  },
  {
   "cell_type": "code",
   "execution_count": 88,
   "metadata": {},
   "outputs": [],
   "source": [
    "train['res_cnt_GENDER_IR'] = train['res_cnt'] * train['GENDER_IR']\n",
    "test['res_cnt_GENDER_IR'] = test['res_cnt'] * test['GENDER_IR']"
   ]
  },
  {
   "cell_type": "markdown",
   "metadata": {},
   "source": [
    "**TYPE 별 응답확률 * 응답률**"
   ]
  },
  {
   "cell_type": "code",
   "execution_count": 89,
   "metadata": {},
   "outputs": [],
   "source": [
    "train['TYPE_mean_RESRATE'] = train['TYPE_mean'] * train['RESRATE']\n",
    "test['TYPE_mean_RESRATE'] = test['TYPE_mean'] * test['RESRATE']"
   ]
  },
  {
   "cell_type": "markdown",
   "metadata": {},
   "source": [
    "**난이도*시간**"
   ]
  },
  {
   "cell_type": "code",
   "execution_count": 90,
   "metadata": {},
   "outputs": [],
   "source": [
    "train['DifficultyTimesDuration'] = train['IR'] * train['LOI']\n",
    "test['DifficultyTimesDuration'] = test['IR'] * train['LOI']"
   ]
  },
  {
   "cell_type": "markdown",
   "metadata": {},
   "source": [
    "**점수/시간  점수*시간**"
   ]
  },
  {
   "cell_type": "code",
   "execution_count": 91,
   "metadata": {},
   "outputs": [],
   "source": [
    "#점수/시간\n",
    "train['CPI_Per_LOI'] = train['CPI'] / train['LOI']\n",
    "test['CPI_Per_LOI'] = test['CPI'] / test['LOI']\n",
    "\n",
    "#점수*시간\n",
    "train['CPI_Times_LOI'] = train['CPI'] * train['LOI']\n",
    "test['CPI_Times_LOI'] = test['CPI'] * test['LOI']"
   ]
  },
  {
   "cell_type": "markdown",
   "metadata": {},
   "source": [
    "#### A1 추가 분류"
   ]
  },
  {
   "cell_type": "code",
   "execution_count": 93,
   "metadata": {},
   "outputs": [],
   "source": [
    "import pandas as pd\n",
    "import numpy as np\n",
    "import re\n",
    "\n",
    "# Train 데이터에 대한 A1_new 피처 생성\n",
    "def create_A1_new(train):\n",
    "    values = {\n",
    "        1: 1,\n",
    "        2: 2,\n",
    "        3: 2,\n",
    "        4: 3,\n",
    "        5: 4,\n",
    "        6: 4,\n",
    "        7: 4,\n",
    "        8: 5,\n",
    "        9: 6,\n",
    "        10: 6,\n",
    "        11: 6,\n",
    "        12: 7,\n",
    "        20: 7,\n",
    "        13: 8,\n",
    "        14: 9,\n",
    "        19: 9,\n",
    "        15: 10,\n",
    "        16: 11,\n",
    "        17: 11,\n",
    "        18: 12,\n",
    "        19: 9,\n",
    "        21: 13,\n",
    "        22: 14,\n",
    "        99: 99\n",
    "    }\n",
    "    train['A1_new'] = train['A1'].map(values).fillna(99)\n",
    "    return train\n",
    "\n",
    "# Train 데이터에 대한 A1_new 피처 생성\n",
    "train = create_A1_new(train)\n",
    "\n",
    "# Test 데이터에 대한 A1_new 피처 생성\n",
    "test = create_A1_new(test)"
   ]
  },
  {
   "cell_type": "code",
   "execution_count": 94,
   "metadata": {},
   "outputs": [],
   "source": [
    "A1_new_res_mean = pd.DataFrame(train.groupby('A1_new')['RESRATE'].agg([('A1_new_res_mean',np.mean)])).reset_index()\n",
    "train = train.merge(A1_new_res_mean, how='left')\n",
    "test = test.merge(A1_new_res_mean, how='left')"
   ]
  },
  {
   "cell_type": "code",
   "execution_count": 95,
   "metadata": {},
   "outputs": [],
   "source": [
    "#CPI별응답확률*LOI\n",
    "train['STATUS_ratio_CPI_MUL_LOI']=train['STATUS_ratio_CPI']*train['LOI']\n",
    "test ['STATUS_ratio_CPI_MUL_LOI']=test['STATUS_ratio_CPI']*test['LOI']"
   ]
  },
  {
   "cell_type": "code",
   "execution_count": 96,
   "metadata": {},
   "outputs": [],
   "source": [
    "#TYPE별CPI평균*LOI\n",
    "train['TYPE_CPI_mean_MUL_LOI']=train['TYPE_CPI_mean']*train['LOI']\n",
    "test ['TYPE_CPI_mean_MUL_LOI']=test['TYPE_CPI_mean']*test['LOI']"
   ]
  },
  {
   "cell_type": "code",
   "execution_count": 97,
   "metadata": {},
   "outputs": [],
   "source": [
    "#성별응답난이도평균*시간\n",
    "train['GENDER_IR_MUL_LOI']=train['GENDER_IR']*train['LOI']\n",
    "test['GENDER_IR_MUL_LOI'] = test['GENDER_IR']*test['LOI']"
   ]
  },
  {
   "cell_type": "markdown",
   "metadata": {},
   "source": [
    "#### 데이터 재정의"
   ]
  },
  {
   "cell_type": "code",
   "execution_count": 98,
   "metadata": {},
   "outputs": [],
   "source": [
    "features = ['BIRTH', 'GENDER', 'REGION', 'TYPE', 'SQ4', 'SQ5', 'SQ6', 'SQ7', 'SQ8', 'A1', 'B1', 'B2', 'B3', 'B4', 'B5', 'AVG_LOI', 'AVG_IR',\n",
    "            'TITLE','IR', 'LOI', 'CPI', 'RESRATE', 'Points_earned', 'Points_earned_mean', 'BIRTH_status_mean', 'REGION_status_mean',\n",
    "             'STATUS_ratio_IR', 'STATUS_ratio_CPI', 'STATUS_ratio_LOI', 'TYPE_mean', 'res_cnt', 'g_i', 'AGE', 'RES_RATE_survey_sum',\n",
    "            'RESRATE_sum_RES_RATE_survey_sum', 'GENDER_multiply_RESRATE', 'RESRATE_diff_Points_earned_mean',\n",
    "            'res_cnt_sum_RESRATE', 'REGION_multiply_RESRATE', 'Points_earned_mean_sum_RESRATE','res_cnt_multiply_GENDER',\n",
    "            'res_cnt_sum_RES_RATE_survey_sum', 'RES_RATE_survey_sum_ratio_res_cnt', 'res_cnt_ratio_RES_RATE_survey_sum',\n",
    "           'B5_count', 'survey_p', 'ResponseTimePerDifficulty', 'B6', 'A1_new', 'A1_count', 'userID', 'surveyID', 'survey_p_survey_sum']\n",
    "#막줄이 마지막 테스트 때 새로 추가"
   ]
  },
  {
   "cell_type": "code",
   "execution_count": 99,
   "metadata": {
    "execution": {
     "iopub.execute_input": "2023-12-12T02:02:40.634038Z",
     "iopub.status.busy": "2023-12-12T02:02:40.633682Z",
     "iopub.status.idle": "2023-12-12T02:02:41.292752Z",
     "shell.execute_reply": "2023-12-12T02:02:41.291552Z",
     "shell.execute_reply.started": "2023-12-12T02:02:40.634006Z"
    },
    "papermill": {
     "duration": 0.313382,
     "end_time": "2023-12-11T12:10:28.329644",
     "exception": false,
     "start_time": "2023-12-11T12:10:28.016262",
     "status": "completed"
    },
    "tags": []
   },
   "outputs": [
    {
     "data": {
      "text/plain": [
       "0"
      ]
     },
     "execution_count": 99,
     "metadata": {},
     "output_type": "execute_result"
    }
   ],
   "source": [
    "# 데이터 필터링\n",
    "X_train = train[features]\n",
    "X_test = test[features]\n",
    "y_train = train['STATUS']\n",
    "\n",
    "# submission을 만들 때 사용하기 위해 ID 저정\n",
    "ID_test = test.ID\n",
    "\n",
    "# 메모리 낭비를 막기위해 불필요한 데이터 삭제\n",
    "del train, test \n",
    "gc.collect()"
   ]
  },
  {
   "cell_type": "code",
   "execution_count": 100,
   "metadata": {
    "scrolled": false
   },
   "outputs": [
    {
     "name": "stdout",
     "output_type": "stream",
     "text": [
      "<class 'pandas.core.frame.DataFrame'>\n",
      "Int64Index: 813650 entries, 0 to 813649\n",
      "Data columns (total 53 columns):\n",
      " #   Column                             Non-Null Count   Dtype  \n",
      "---  ------                             --------------   -----  \n",
      " 0   BIRTH                              813650 non-null  int64  \n",
      " 1   GENDER                             813650 non-null  int64  \n",
      " 2   REGION                             813650 non-null  int64  \n",
      " 3   TYPE                               813650 non-null  object \n",
      " 4   SQ4                                813650 non-null  object \n",
      " 5   SQ5                                813650 non-null  int64  \n",
      " 6   SQ6                                813650 non-null  int64  \n",
      " 7   SQ7                                813650 non-null  int64  \n",
      " 8   SQ8                                813650 non-null  int64  \n",
      " 9   A1                                 813650 non-null  int64  \n",
      " 10  B1                                 813650 non-null  int64  \n",
      " 11  B2                                 813650 non-null  int64  \n",
      " 12  B3                                 813650 non-null  int64  \n",
      " 13  B4                                 601866 non-null  object \n",
      " 14  B5                                 596053 non-null  object \n",
      " 15  AVG_LOI                            613242 non-null  float64\n",
      " 16  AVG_IR                             613242 non-null  float64\n",
      " 17  TITLE                              813650 non-null  int64  \n",
      " 18  IR                                 813650 non-null  int64  \n",
      " 19  LOI                                813650 non-null  int64  \n",
      " 20  CPI                                813650 non-null  int64  \n",
      " 21  RESRATE                            613242 non-null  float64\n",
      " 22  Points_earned                      813650 non-null  float64\n",
      " 23  Points_earned_mean                 813650 non-null  float64\n",
      " 24  BIRTH_status_mean                  813650 non-null  float64\n",
      " 25  REGION_status_mean                 813650 non-null  float64\n",
      " 26  STATUS_ratio_IR                    813650 non-null  float64\n",
      " 27  STATUS_ratio_CPI                   813650 non-null  float64\n",
      " 28  STATUS_ratio_LOI                   813650 non-null  float64\n",
      " 29  TYPE_mean                          813650 non-null  float64\n",
      " 30  res_cnt                            613242 non-null  float64\n",
      " 31  g_i                                813650 non-null  float64\n",
      " 32  AGE                                813650 non-null  int64  \n",
      " 33  RES_RATE_survey_sum                813650 non-null  float64\n",
      " 34  RESRATE_sum_RES_RATE_survey_sum    613242 non-null  float64\n",
      " 35  GENDER_multiply_RESRATE            613242 non-null  float64\n",
      " 36  RESRATE_diff_Points_earned_mean    613242 non-null  float64\n",
      " 37  res_cnt_sum_RESRATE                613242 non-null  float64\n",
      " 38  REGION_multiply_RESRATE            613242 non-null  float64\n",
      " 39  Points_earned_mean_sum_RESRATE     613242 non-null  float64\n",
      " 40  res_cnt_multiply_GENDER            613242 non-null  float64\n",
      " 41  res_cnt_sum_RES_RATE_survey_sum    613242 non-null  float64\n",
      " 42  RES_RATE_survey_sum_ratio_res_cnt  613242 non-null  float64\n",
      " 43  res_cnt_ratio_RES_RATE_survey_sum  613242 non-null  float64\n",
      " 44  B5_count                           813650 non-null  int64  \n",
      " 45  survey_p                           813650 non-null  float64\n",
      " 46  ResponseTimePerDifficulty          813650 non-null  float64\n",
      " 47  B6                                 813650 non-null  int64  \n",
      " 48  A1_new                             813650 non-null  float64\n",
      " 49  A1_count                           813650 non-null  int64  \n",
      " 50  userID                             813650 non-null  object \n",
      " 51  surveyID                           813650 non-null  object \n",
      " 52  survey_p_survey_sum                813650 non-null  float64\n",
      "dtypes: float64(28), int64(19), object(6)\n",
      "memory usage: 335.2+ MB\n"
     ]
    }
   ],
   "source": [
    "X_train.info()"
   ]
  },
  {
   "cell_type": "code",
   "execution_count": 101,
   "metadata": {
    "execution": {
     "iopub.execute_input": "2023-12-12T02:02:41.299844Z",
     "iopub.status.busy": "2023-12-12T02:02:41.299374Z",
     "iopub.status.idle": "2023-12-12T02:02:41.306400Z",
     "shell.execute_reply": "2023-12-12T02:02:41.304520Z",
     "shell.execute_reply.started": "2023-12-12T02:02:41.299806Z"
    },
    "papermill": {
     "duration": 0.021063,
     "end_time": "2023-12-11T12:10:28.361605",
     "exception": false,
     "start_time": "2023-12-11T12:10:28.340542",
     "status": "completed"
    },
    "tags": []
   },
   "outputs": [],
   "source": [
    "# 범주형 변수와 수치형 변수를 분리\n",
    "cat_features = ['GENDER', 'REGION', 'TYPE', 'SQ4', 'SQ5', 'SQ6', 'SQ7', 'SQ8', 'A1', 'B1', 'B2', 'B3', 'B4', 'B5', 'userID', 'surveyID']\n",
    "num_features = list(set(X_train.columns) - set(cat_features))"
   ]
  },
  {
   "cell_type": "markdown",
   "metadata": {
    "papermill": {
     "duration": 0.010517,
     "end_time": "2023-12-11T12:10:28.383157",
     "exception": false,
     "start_time": "2023-12-11T12:10:28.37264",
     "status": "completed"
    },
    "tags": []
   },
   "source": [
    "### Feature Engineering"
   ]
  },
  {
   "cell_type": "markdown",
   "metadata": {
    "papermill": {
     "duration": 0.010815,
     "end_time": "2023-12-11T12:10:28.404871",
     "exception": false,
     "start_time": "2023-12-11T12:10:28.394056",
     "status": "completed"
    },
    "tags": []
   },
   "source": [
    "##### Impute missing values"
   ]
  },
  {
   "cell_type": "code",
   "execution_count": 102,
   "metadata": {},
   "outputs": [],
   "source": [
    "# 응답률 geature 결측값을 평균으로 대체\n",
    "mean_resrate = X_train['RESRATE'].mean()\n",
    "X_train['RESRATE'] = X_train['RESRATE'].fillna(mean_resrate)\n",
    "X_test['RESRATE'] = X_test['RESRATE'].fillna(mean_resrate)\n",
    "\n",
    "#'AVG_IR' 열의 결측치를 중앙값으로 대체\n",
    "median_AVG_IR = X_train['AVG_IR'].median()\n",
    "X_train['AVG_IR'].fillna(median_AVG_IR, inplace=True)\n",
    "X_test['AVG_IR'].fillna(median_AVG_IR, inplace=True)\n",
    "\n",
    "# 유저아이디별 응답횟수 결측치 처리\n",
    "X_train[\"res_cnt\"] = X_train[\"res_cnt\"].fillna(0)"
   ]
  },
  {
   "cell_type": "code",
   "execution_count": 103,
   "metadata": {
    "execution": {
     "iopub.execute_input": "2023-12-12T02:02:41.309130Z",
     "iopub.status.busy": "2023-12-12T02:02:41.308701Z",
     "iopub.status.idle": "2023-12-12T02:02:45.265686Z",
     "shell.execute_reply": "2023-12-12T02:02:45.264588Z",
     "shell.execute_reply.started": "2023-12-12T02:02:41.309090Z"
    },
    "papermill": {
     "duration": 2.935148,
     "end_time": "2023-12-11T12:10:31.350958",
     "exception": false,
     "start_time": "2023-12-11T12:10:28.41581",
     "status": "completed"
    },
    "tags": []
   },
   "outputs": [],
   "source": [
    "# 결측값 처리: 범주형이냐 수치형이냐에 따라 다르게 처리\n",
    "if len(num_features) > 0:\n",
    "    imp = SimpleImputer(strategy='mean')\n",
    "    X_train[num_features] = imp.fit_transform(X_train[num_features])\n",
    "    X_test[num_features] = imp.transform(X_test[num_features])\n",
    "\n",
    "if len(cat_features) > 0:  \n",
    "    imp_cat = SimpleImputer(strategy=\"constant\", fill_value=\"없음\")\n",
    "    X_train[cat_features] = imp_cat.fit_transform(X_train[cat_features])\n",
    "    X_test[cat_features] = imp_cat.transform(X_test[cat_features])\n",
    "# if len(cat_features) > 0:  \n",
    "#     imp = SimpleImputer(strategy=\"most_frequent\")\n",
    "#     X_train[cat_features] = imp.fit_transform(X_train[cat_features])\n",
    "#     X_test[cat_features] = imp.transform(X_test[cat_features])"
   ]
  },
  {
   "cell_type": "code",
   "execution_count": 104,
   "metadata": {},
   "outputs": [],
   "source": [
    "X_train[cat_features] = X_train[cat_features].astype(str)\n",
    "X_test[cat_features] = X_test[cat_features].astype(str)"
   ]
  },
  {
   "cell_type": "code",
   "execution_count": 105,
   "metadata": {
    "execution": {
     "iopub.execute_input": "2023-12-12T02:02:45.267582Z",
     "iopub.status.busy": "2023-12-12T02:02:45.267111Z",
     "iopub.status.idle": "2023-12-12T02:02:45.414265Z",
     "shell.execute_reply": "2023-12-12T02:02:45.412932Z",
     "shell.execute_reply.started": "2023-12-12T02:02:45.267539Z"
    },
    "papermill": {
     "duration": 0.119136,
     "end_time": "2023-12-11T12:10:31.480753",
     "exception": false,
     "start_time": "2023-12-11T12:10:31.361617",
     "status": "completed"
    },
    "tags": []
   },
   "outputs": [],
   "source": [
    "X_train['GENDER'] = X_train['GENDER'].astype(float).astype(int)\n",
    "X_train['REGION'] = X_train['REGION'].astype(float).astype(int)\n",
    "X_test['GENDER'] = X_test['GENDER'].astype(float).astype(int)\n",
    "X_test['REGION'] = X_test['REGION'].astype(float).astype(int)"
   ]
  },
  {
   "cell_type": "markdown",
   "metadata": {
    "papermill": {
     "duration": 0.010473,
     "end_time": "2023-12-11T12:10:31.50224",
     "exception": false,
     "start_time": "2023-12-11T12:10:31.491767",
     "status": "completed"
    },
    "tags": []
   },
   "source": [
    "##### Transform features (Feature Scaling)"
   ]
  },
  {
   "cell_type": "code",
   "execution_count": 106,
   "metadata": {
    "execution": {
     "iopub.execute_input": "2023-12-12T02:02:45.415663Z",
     "iopub.status.busy": "2023-12-12T02:02:45.415293Z",
     "iopub.status.idle": "2023-12-12T02:02:45.563096Z",
     "shell.execute_reply": "2023-12-12T02:02:45.561588Z",
     "shell.execute_reply.started": "2023-12-12T02:02:45.415632Z"
    },
    "papermill": {
     "duration": 0.105752,
     "end_time": "2023-12-11T12:10:31.61877",
     "exception": false,
     "start_time": "2023-12-11T12:10:31.513018",
     "status": "completed"
    },
    "tags": []
   },
   "outputs": [],
   "source": [
    "scaler = StandardScaler()\n",
    "X_train[num_features] = scaler.fit_transform(X_train[num_features])\n",
    "X_test[num_features] = scaler.transform(X_test[num_features])"
   ]
  },
  {
   "cell_type": "code",
   "execution_count": 107,
   "metadata": {},
   "outputs": [],
   "source": [
    "scaler = PowerTransformer(standardize=False)#standardize=True 스케일링까지\n",
    "X_train[num_features] = scaler.fit(X_train[num_features]).transform(X_train[num_features])\n",
    "X_test[num_features] = scaler.transform(X_test[num_features])"
   ]
  },
  {
   "cell_type": "markdown",
   "metadata": {
    "papermill": {
     "duration": 0.010943,
     "end_time": "2023-12-11T12:10:31.641503",
     "exception": false,
     "start_time": "2023-12-11T12:10:31.63056",
     "status": "completed"
    },
    "tags": []
   },
   "source": [
    "##### Encode categorical features"
   ]
  },
  {
   "cell_type": "code",
   "execution_count": 108,
   "metadata": {},
   "outputs": [],
   "source": [
    "def catboost_encoder_multiclass(X,X_t,y):\n",
    "    y = y.astype(str)\n",
    "    enc = ce.OneHotEncoder().fit(y)\n",
    "    y_onehot = enc.transform(y)\n",
    "    class_names = y_onehot.columns\n",
    "    X_obj = X.select_dtypes('object')\n",
    "    X_t_obj = X_t.select_dtypes('object')\n",
    "    X = X.select_dtypes(exclude='object')\n",
    "    X_t = X_t.select_dtypes(exclude='object') \n",
    "    for class_ in class_names:\n",
    "        enc = ce.CatBoostEncoder()\n",
    "        enc.fit(X_obj,y_onehot[class_])\n",
    "        temp = enc.transform(X_obj)\n",
    "        temp_t = enc.transform(X_t_obj)\n",
    "        temp.columns = [str(x)+'_'+str(class_) for x in temp.columns]\n",
    "        temp_t.columns = [str(x)+'_'+str(class_) for x in temp_t.columns]\n",
    "        X = pd.concat([X,temp],axis=1)\n",
    "        X_t = pd.concat([X_t,temp_t],axis=1)\n",
    "      \n",
    "    return X, X_t\n",
    "\n",
    "X_train, X_test = catboost_encoder_multiclass(X_train,X_test,y_train)"
   ]
  },
  {
   "cell_type": "code",
   "execution_count": 109,
   "metadata": {},
   "outputs": [],
   "source": [
    "# X_train = X_train.drop(columns=['userID_STATUS_2'])\n",
    "# X_test = X_test.drop(columns=['userID_STATUS_2'])\n",
    "\n",
    "# X_train = X_train.drop(columns=['surveyID_STATUS_2'])\n",
    "# X_test = X_test.drop(columns=['surveyID_STATUS_2'])"
   ]
  },
  {
   "cell_type": "markdown",
   "metadata": {},
   "source": [
    "<font color=\"#CC3D3D\"><p>\n",
    "##### Feature selection using SHAP"
   ]
  },
  {
   "cell_type": "code",
   "execution_count": 110,
   "metadata": {
    "scrolled": false
   },
   "outputs": [
    {
     "data": {
      "image/png": "[encoded data removed]",
      "text/plain": [
       "<Figure size 576x684 with 1 Axes>"
      ]
     },
     "metadata": {
      "needs_background": "light"
     },
     "output_type": "display_data"
    },
    {
     "data": {
      "text/html": [
       "<div>\n",
       "<style scoped>\n",
       "    .dataframe tbody tr th:only-of-type {\n",
       "        vertical-align: middle;\n",
       "    }\n",
       "\n",
       "    .dataframe tbody tr th {\n",
       "        vertical-align: top;\n",
       "    }\n",
       "\n",
       "    .dataframe thead th {\n",
       "        text-align: right;\n",
       "    }\n",
       "</style>\n",
       "<table border=\"1\" class=\"dataframe\">\n",
       "  <thead>\n",
       "    <tr style=\"text-align: right;\">\n",
       "      <th></th>\n",
       "      <th>column_name</th>\n",
       "      <th>shap_importance</th>\n",
       "    </tr>\n",
       "  </thead>\n",
       "  <tbody>\n",
       "    <tr>\n",
       "      <th>10</th>\n",
       "      <td>Points_earned</td>\n",
       "      <td>1.711146</td>\n",
       "    </tr>\n",
       "    <tr>\n",
       "      <th>51</th>\n",
       "      <td>userID_STATUS_1</td>\n",
       "      <td>1.119364</td>\n",
       "    </tr>\n",
       "    <tr>\n",
       "      <th>65</th>\n",
       "      <td>userID_STATUS_2</td>\n",
       "      <td>0.886713</td>\n",
       "    </tr>\n",
       "    <tr>\n",
       "      <th>9</th>\n",
       "      <td>RESRATE</td>\n",
       "      <td>0.544563</td>\n",
       "    </tr>\n",
       "    <tr>\n",
       "      <th>52</th>\n",
       "      <td>surveyID_STATUS_1</td>\n",
       "      <td>0.373038</td>\n",
       "    </tr>\n",
       "    <tr>\n",
       "      <th>...</th>\n",
       "      <td>...</td>\n",
       "      <td>...</td>\n",
       "    </tr>\n",
       "    <tr>\n",
       "      <th>21</th>\n",
       "      <td>RES_RATE_survey_sum</td>\n",
       "      <td>0.0</td>\n",
       "    </tr>\n",
       "    <tr>\n",
       "      <th>31</th>\n",
       "      <td>res_cnt_ratio_RES_RATE_survey_sum</td>\n",
       "      <td>0.0</td>\n",
       "    </tr>\n",
       "    <tr>\n",
       "      <th>30</th>\n",
       "      <td>RES_RATE_survey_sum_ratio_res_cnt</td>\n",
       "      <td>0.0</td>\n",
       "    </tr>\n",
       "    <tr>\n",
       "      <th>29</th>\n",
       "      <td>res_cnt_sum_RES_RATE_survey_sum</td>\n",
       "      <td>0.0</td>\n",
       "    </tr>\n",
       "    <tr>\n",
       "      <th>33</th>\n",
       "      <td>survey_p</td>\n",
       "      <td>0.0</td>\n",
       "    </tr>\n",
       "  </tbody>\n",
       "</table>\n",
       "<p>67 rows × 2 columns</p>\n",
       "</div>"
      ],
      "text/plain": [
       "                          column_name shap_importance\n",
       "10                      Points_earned        1.711146\n",
       "51                    userID_STATUS_1        1.119364\n",
       "65                    userID_STATUS_2        0.886713\n",
       "9                             RESRATE        0.544563\n",
       "52                  surveyID_STATUS_1        0.373038\n",
       "..                                ...             ...\n",
       "21                RES_RATE_survey_sum             0.0\n",
       "31  res_cnt_ratio_RES_RATE_survey_sum             0.0\n",
       "30  RES_RATE_survey_sum_ratio_res_cnt             0.0\n",
       "29    res_cnt_sum_RES_RATE_survey_sum             0.0\n",
       "33                           survey_p             0.0\n",
       "\n",
       "[67 rows x 2 columns]"
      ]
     },
     "execution_count": 110,
     "metadata": {},
     "output_type": "execute_result"
    }
   ],
   "source": [
    "#\n",
    "# Method: Using SHAP values \n",
    "#\n",
    "\n",
    "# DF, based on which importance is checked\n",
    "X_importance = X_test\n",
    "\n",
    "# # Explain model predictions using shap library:\n",
    "model = LGBMClassifier(random_state=42, objective='binary', metric='binary_error').fit(X_train, y_train, eval_metric = 'accuracy',)#속도 빠르게 하려고 LGBM 씀\n",
    "explainer = shap.TreeExplainer(model)\n",
    "shap_values = explainer.shap_values(X_importance)\n",
    "\n",
    "# Plot summary_plot as barplot:\n",
    "shap.summary_plot(shap_values, X_importance, plot_type='bar')\n",
    "\n",
    "shap_sum = np.abs(shap_values).mean(axis=1)[1,:]\n",
    "importance_df = pd.DataFrame([X_importance.columns.tolist(), shap_sum.tolist()]).T\n",
    "importance_df.columns = ['column_name', 'shap_importance']\n",
    "importance_df = importance_df.sort_values('shap_importance', ascending=False)\n",
    "importance_df"
   ]
  },
  {
   "cell_type": "code",
   "execution_count": 111,
   "metadata": {},
   "outputs": [
    {
     "data": {
      "text/html": [
       "<div>\n",
       "<style scoped>\n",
       "    .dataframe tbody tr th:only-of-type {\n",
       "        vertical-align: middle;\n",
       "    }\n",
       "\n",
       "    .dataframe tbody tr th {\n",
       "        vertical-align: top;\n",
       "    }\n",
       "\n",
       "    .dataframe thead th {\n",
       "        text-align: right;\n",
       "    }\n",
       "</style>\n",
       "<table border=\"1\" class=\"dataframe\">\n",
       "  <thead>\n",
       "    <tr style=\"text-align: right;\">\n",
       "      <th></th>\n",
       "      <th>column_name</th>\n",
       "      <th>shap_importance</th>\n",
       "    </tr>\n",
       "  </thead>\n",
       "  <tbody>\n",
       "    <tr>\n",
       "      <th>10</th>\n",
       "      <td>Points_earned</td>\n",
       "      <td>1.711146</td>\n",
       "    </tr>\n",
       "    <tr>\n",
       "      <th>51</th>\n",
       "      <td>userID_STATUS_1</td>\n",
       "      <td>1.119364</td>\n",
       "    </tr>\n",
       "    <tr>\n",
       "      <th>65</th>\n",
       "      <td>userID_STATUS_2</td>\n",
       "      <td>0.886713</td>\n",
       "    </tr>\n",
       "    <tr>\n",
       "      <th>9</th>\n",
       "      <td>RESRATE</td>\n",
       "      <td>0.544563</td>\n",
       "    </tr>\n",
       "    <tr>\n",
       "      <th>52</th>\n",
       "      <td>surveyID_STATUS_1</td>\n",
       "      <td>0.373038</td>\n",
       "    </tr>\n",
       "    <tr>\n",
       "      <th>18</th>\n",
       "      <td>res_cnt</td>\n",
       "      <td>0.318038</td>\n",
       "    </tr>\n",
       "    <tr>\n",
       "      <th>5</th>\n",
       "      <td>TITLE</td>\n",
       "      <td>0.140422</td>\n",
       "    </tr>\n",
       "    <tr>\n",
       "      <th>66</th>\n",
       "      <td>surveyID_STATUS_2</td>\n",
       "      <td>0.123755</td>\n",
       "    </tr>\n",
       "    <tr>\n",
       "      <th>4</th>\n",
       "      <td>AVG_IR</td>\n",
       "      <td>0.118265</td>\n",
       "    </tr>\n",
       "    <tr>\n",
       "      <th>17</th>\n",
       "      <td>TYPE_mean</td>\n",
       "      <td>0.053166</td>\n",
       "    </tr>\n",
       "    <tr>\n",
       "      <th>3</th>\n",
       "      <td>AVG_LOI</td>\n",
       "      <td>0.039253</td>\n",
       "    </tr>\n",
       "    <tr>\n",
       "      <th>15</th>\n",
       "      <td>STATUS_ratio_CPI</td>\n",
       "      <td>0.036446</td>\n",
       "    </tr>\n",
       "    <tr>\n",
       "      <th>38</th>\n",
       "      <td>survey_p_survey_sum</td>\n",
       "      <td>0.03583</td>\n",
       "    </tr>\n",
       "    <tr>\n",
       "      <th>34</th>\n",
       "      <td>ResponseTimePerDifficulty</td>\n",
       "      <td>0.035805</td>\n",
       "    </tr>\n",
       "    <tr>\n",
       "      <th>8</th>\n",
       "      <td>CPI</td>\n",
       "      <td>0.030864</td>\n",
       "    </tr>\n",
       "    <tr>\n",
       "      <th>6</th>\n",
       "      <td>IR</td>\n",
       "      <td>0.029207</td>\n",
       "    </tr>\n",
       "    <tr>\n",
       "      <th>16</th>\n",
       "      <td>STATUS_ratio_LOI</td>\n",
       "      <td>0.023647</td>\n",
       "    </tr>\n",
       "    <tr>\n",
       "      <th>11</th>\n",
       "      <td>Points_earned_mean</td>\n",
       "      <td>0.022458</td>\n",
       "    </tr>\n",
       "    <tr>\n",
       "      <th>24</th>\n",
       "      <td>RESRATE_diff_Points_earned_mean</td>\n",
       "      <td>0.019871</td>\n",
       "    </tr>\n",
       "    <tr>\n",
       "      <th>7</th>\n",
       "      <td>LOI</td>\n",
       "      <td>0.019519</td>\n",
       "    </tr>\n",
       "    <tr>\n",
       "      <th>56</th>\n",
       "      <td>SQ6_STATUS_2</td>\n",
       "      <td>0.01622</td>\n",
       "    </tr>\n",
       "    <tr>\n",
       "      <th>27</th>\n",
       "      <td>Points_earned_mean_sum_RESRATE</td>\n",
       "      <td>0.015292</td>\n",
       "    </tr>\n",
       "    <tr>\n",
       "      <th>1</th>\n",
       "      <td>GENDER</td>\n",
       "      <td>0.013533</td>\n",
       "    </tr>\n",
       "    <tr>\n",
       "      <th>26</th>\n",
       "      <td>REGION_multiply_RESRATE</td>\n",
       "      <td>0.012126</td>\n",
       "    </tr>\n",
       "    <tr>\n",
       "      <th>0</th>\n",
       "      <td>BIRTH</td>\n",
       "      <td>0.01117</td>\n",
       "    </tr>\n",
       "    <tr>\n",
       "      <th>14</th>\n",
       "      <td>STATUS_ratio_IR</td>\n",
       "      <td>0.008446</td>\n",
       "    </tr>\n",
       "    <tr>\n",
       "      <th>13</th>\n",
       "      <td>REGION_status_mean</td>\n",
       "      <td>0.007904</td>\n",
       "    </tr>\n",
       "    <tr>\n",
       "      <th>25</th>\n",
       "      <td>res_cnt_sum_RESRATE</td>\n",
       "      <td>0.006328</td>\n",
       "    </tr>\n",
       "    <tr>\n",
       "      <th>12</th>\n",
       "      <td>BIRTH_status_mean</td>\n",
       "      <td>0.003162</td>\n",
       "    </tr>\n",
       "    <tr>\n",
       "      <th>23</th>\n",
       "      <td>GENDER_multiply_RESRATE</td>\n",
       "      <td>0.002386</td>\n",
       "    </tr>\n",
       "    <tr>\n",
       "      <th>2</th>\n",
       "      <td>REGION</td>\n",
       "      <td>0.00236</td>\n",
       "    </tr>\n",
       "    <tr>\n",
       "      <th>28</th>\n",
       "      <td>res_cnt_multiply_GENDER</td>\n",
       "      <td>0.001565</td>\n",
       "    </tr>\n",
       "    <tr>\n",
       "      <th>20</th>\n",
       "      <td>AGE</td>\n",
       "      <td>0.001009</td>\n",
       "    </tr>\n",
       "    <tr>\n",
       "      <th>19</th>\n",
       "      <td>g_i</td>\n",
       "      <td>0.000851</td>\n",
       "    </tr>\n",
       "    <tr>\n",
       "      <th>39</th>\n",
       "      <td>TYPE_STATUS_1</td>\n",
       "      <td>0.0007</td>\n",
       "    </tr>\n",
       "    <tr>\n",
       "      <th>37</th>\n",
       "      <td>A1_count</td>\n",
       "      <td>0.000435</td>\n",
       "    </tr>\n",
       "    <tr>\n",
       "      <th>36</th>\n",
       "      <td>A1_new</td>\n",
       "      <td>0.000345</td>\n",
       "    </tr>\n",
       "    <tr>\n",
       "      <th>22</th>\n",
       "      <td>RESRATE_sum_RES_RATE_survey_sum</td>\n",
       "      <td>0.000188</td>\n",
       "    </tr>\n",
       "    <tr>\n",
       "      <th>32</th>\n",
       "      <td>B5_count</td>\n",
       "      <td>0.000169</td>\n",
       "    </tr>\n",
       "    <tr>\n",
       "      <th>44</th>\n",
       "      <td>SQ8_STATUS_1</td>\n",
       "      <td>0.000167</td>\n",
       "    </tr>\n",
       "    <tr>\n",
       "      <th>50</th>\n",
       "      <td>B5_STATUS_1</td>\n",
       "      <td>0.000138</td>\n",
       "    </tr>\n",
       "    <tr>\n",
       "      <th>61</th>\n",
       "      <td>B2_STATUS_2</td>\n",
       "      <td>0.000104</td>\n",
       "    </tr>\n",
       "    <tr>\n",
       "      <th>40</th>\n",
       "      <td>SQ4_STATUS_1</td>\n",
       "      <td>0.000098</td>\n",
       "    </tr>\n",
       "    <tr>\n",
       "      <th>58</th>\n",
       "      <td>SQ8_STATUS_2</td>\n",
       "      <td>0.000061</td>\n",
       "    </tr>\n",
       "    <tr>\n",
       "      <th>45</th>\n",
       "      <td>A1_STATUS_1</td>\n",
       "      <td>0.000037</td>\n",
       "    </tr>\n",
       "    <tr>\n",
       "      <th>49</th>\n",
       "      <td>B4_STATUS_1</td>\n",
       "      <td>0.000023</td>\n",
       "    </tr>\n",
       "    <tr>\n",
       "      <th>59</th>\n",
       "      <td>A1_STATUS_2</td>\n",
       "      <td>0.0</td>\n",
       "    </tr>\n",
       "    <tr>\n",
       "      <th>60</th>\n",
       "      <td>B1_STATUS_2</td>\n",
       "      <td>0.0</td>\n",
       "    </tr>\n",
       "    <tr>\n",
       "      <th>57</th>\n",
       "      <td>SQ7_STATUS_2</td>\n",
       "      <td>0.0</td>\n",
       "    </tr>\n",
       "    <tr>\n",
       "      <th>63</th>\n",
       "      <td>B4_STATUS_2</td>\n",
       "      <td>0.0</td>\n",
       "    </tr>\n",
       "  </tbody>\n",
       "</table>\n",
       "</div>"
      ],
      "text/plain": [
       "                        column_name shap_importance\n",
       "10                    Points_earned        1.711146\n",
       "51                  userID_STATUS_1        1.119364\n",
       "65                  userID_STATUS_2        0.886713\n",
       "9                           RESRATE        0.544563\n",
       "52                surveyID_STATUS_1        0.373038\n",
       "18                          res_cnt        0.318038\n",
       "5                             TITLE        0.140422\n",
       "66                surveyID_STATUS_2        0.123755\n",
       "4                            AVG_IR        0.118265\n",
       "17                        TYPE_mean        0.053166\n",
       "3                           AVG_LOI        0.039253\n",
       "15                 STATUS_ratio_CPI        0.036446\n",
       "38              survey_p_survey_sum         0.03583\n",
       "34        ResponseTimePerDifficulty        0.035805\n",
       "8                               CPI        0.030864\n",
       "6                                IR        0.029207\n",
       "16                 STATUS_ratio_LOI        0.023647\n",
       "11               Points_earned_mean        0.022458\n",
       "24  RESRATE_diff_Points_earned_mean        0.019871\n",
       "7                               LOI        0.019519\n",
       "56                     SQ6_STATUS_2         0.01622\n",
       "27   Points_earned_mean_sum_RESRATE        0.015292\n",
       "1                            GENDER        0.013533\n",
       "26          REGION_multiply_RESRATE        0.012126\n",
       "0                             BIRTH         0.01117\n",
       "14                  STATUS_ratio_IR        0.008446\n",
       "13               REGION_status_mean        0.007904\n",
       "25              res_cnt_sum_RESRATE        0.006328\n",
       "12                BIRTH_status_mean        0.003162\n",
       "23          GENDER_multiply_RESRATE        0.002386\n",
       "2                            REGION         0.00236\n",
       "28          res_cnt_multiply_GENDER        0.001565\n",
       "20                              AGE        0.001009\n",
       "19                              g_i        0.000851\n",
       "39                    TYPE_STATUS_1          0.0007\n",
       "37                         A1_count        0.000435\n",
       "36                           A1_new        0.000345\n",
       "22  RESRATE_sum_RES_RATE_survey_sum        0.000188\n",
       "32                         B5_count        0.000169\n",
       "44                     SQ8_STATUS_1        0.000167\n",
       "50                      B5_STATUS_1        0.000138\n",
       "61                      B2_STATUS_2        0.000104\n",
       "40                     SQ4_STATUS_1        0.000098\n",
       "58                     SQ8_STATUS_2        0.000061\n",
       "45                      A1_STATUS_1        0.000037\n",
       "49                      B4_STATUS_1        0.000023\n",
       "59                      A1_STATUS_2             0.0\n",
       "60                      B1_STATUS_2             0.0\n",
       "57                     SQ7_STATUS_2             0.0\n",
       "63                      B4_STATUS_2             0.0"
      ]
     },
     "execution_count": 111,
     "metadata": {},
     "output_type": "execute_result"
    }
   ],
   "source": [
    "importance_df.head(50)"
   ]
  },
  {
   "cell_type": "code",
   "execution_count": 112,
   "metadata": {},
   "outputs": [],
   "source": [
    "# 피처 중요도 반영해서 0.001보다 낮은 피처 제외한 상태임!"
   ]
  },
  {
   "cell_type": "code",
   "execution_count": 113,
   "metadata": {},
   "outputs": [
    {
     "name": "stdout",
     "output_type": "stream",
     "text": [
      "(813650, 33)\n"
     ]
    }
   ],
   "source": [
    "# 지정된(SHAP_THRESHOLD) Shap feature 중요도 이상인 것만 선택\n",
    "features_selected = importance_df.query('shap_importance > 0.0009').column_name.tolist()\n",
    "X_train = X_train[features_selected]\n",
    "X_test = X_test[features_selected]\n",
    "\n",
    "print(X_train.shape)"
   ]
  },
  {
   "cell_type": "code",
   "execution_count": 114,
   "metadata": {},
   "outputs": [
    {
     "data": {
      "text/plain": [
       "Index(['Points_earned', 'userID_STATUS_1', 'userID_STATUS_2', 'RESRATE',\n",
       "       'surveyID_STATUS_1', 'res_cnt', 'TITLE', 'surveyID_STATUS_2', 'AVG_IR',\n",
       "       'TYPE_mean', 'AVG_LOI', 'STATUS_ratio_CPI', 'survey_p_survey_sum',\n",
       "       'ResponseTimePerDifficulty', 'CPI', 'IR', 'STATUS_ratio_LOI',\n",
       "       'Points_earned_mean', 'RESRATE_diff_Points_earned_mean', 'LOI',\n",
       "       'SQ6_STATUS_2', 'Points_earned_mean_sum_RESRATE', 'GENDER',\n",
       "       'REGION_multiply_RESRATE', 'BIRTH', 'STATUS_ratio_IR',\n",
       "       'REGION_status_mean', 'res_cnt_sum_RESRATE', 'BIRTH_status_mean',\n",
       "       'GENDER_multiply_RESRATE', 'REGION', 'res_cnt_multiply_GENDER', 'AGE'],\n",
       "      dtype='object')"
      ]
     },
     "execution_count": 114,
     "metadata": {},
     "output_type": "execute_result"
    }
   ],
   "source": [
    "X_train.columns"
   ]
  },
  {
   "cell_type": "markdown",
   "metadata": {},
   "source": [
    "<font color=\"#CC3D3D\"><p>\n",
    "##### Feature generation using KMeansFeaturizer"
   ]
  },
  {
   "cell_type": "code",
   "execution_count": 115,
   "metadata": {},
   "outputs": [],
   "source": [
    "# 여러 K 값에 대해 KMeans 모델을 학습하고 이너셔를 계산하는 함수\n",
    "# def find_optimal_k(X, max_k):\n",
    "#     inertias = []\n",
    "\n",
    "#     for k in range(1, max_k + 1):\n",
    "#         kmeans = KMeans(n_clusters=k, random_state=42)\n",
    "#         kmeans.fit(X)\n",
    "#         inertias.append(kmeans.inertia_)\n",
    "\n",
    "#     return inertias\n",
    "\n",
    "# # 최적의 K 값을 찾아 엘보우 그래프를 그리는 함수\n",
    "# def plot_elbow(X, max_k):\n",
    "#     inertias = find_optimal_k(X, max_k)\n",
    "\n",
    "#     # 엘보우 그래프 그리기\n",
    "#     plt.plot(range(1, max_k + 1), inertias, marker='o')\n",
    "#     plt.title('Elbow Method for Optimal K')\n",
    "#     plt.xlabel('Number of Clusters (K)')\n",
    "#     plt.ylabel('Inertia')\n",
    "#     plt.show()\n",
    "\n",
    "# # 예시 데이터\n",
    "# example_data = np.random.rand(100, 2)\n",
    "\n",
    "# # 최적의 K 값을 찾아 엘보우 그래프 그리기\n",
    "# max_k_value = 10\n",
    "# plot_elbow(example_data, max_k_value)"
   ]
  },
  {
   "cell_type": "code",
   "execution_count": 116,
   "metadata": {},
   "outputs": [],
   "source": [
    "#\n",
    "# KMeansFeaturizer: k-means 군집분석을 실행하여 각 데이터 포인트에 가장 가까운 군집 ID를 새로운 feature로 반환  \n",
    "#   \n",
    "\n",
    "# Specify the number of clusters (k)\n",
    "# num_clusters = 10\n",
    "\n",
    "optimal_k = 2\n",
    "\n",
    "kmeans = KMeans(n_clusters=optimal_k, random_state=0)\n",
    "kmeans.fit(X_train)\n",
    "\n",
    "train_cluster_features = kmeans.transform(X_train)\n",
    "train_cluster_features = pd.DataFrame(train_cluster_features, columns=[f'CLUSTER_{i}' for i in range(optimal_k)])\n",
    "\n",
    "test_cluster_features = kmeans.transform(X_test)\n",
    "test_cluster_features = pd.DataFrame(test_cluster_features, columns=[f'CLUSTER_{i}' for i in range(optimal_k)])\n",
    "\n",
    "X_train = pd.concat([X_train, train_cluster_features], axis=1)\n",
    "X_test = pd.concat([X_test, test_cluster_features], axis=1)"
   ]
  },
  {
   "cell_type": "code",
   "execution_count": 117,
   "metadata": {},
   "outputs": [
    {
     "data": {
      "text/html": [
       "<div>\n",
       "<style scoped>\n",
       "    .dataframe tbody tr th:only-of-type {\n",
       "        vertical-align: middle;\n",
       "    }\n",
       "\n",
       "    .dataframe tbody tr th {\n",
       "        vertical-align: top;\n",
       "    }\n",
       "\n",
       "    .dataframe thead th {\n",
       "        text-align: right;\n",
       "    }\n",
       "</style>\n",
       "<table border=\"1\" class=\"dataframe\">\n",
       "  <thead>\n",
       "    <tr style=\"text-align: right;\">\n",
       "      <th></th>\n",
       "      <th>Points_earned</th>\n",
       "      <th>userID_STATUS_1</th>\n",
       "      <th>userID_STATUS_2</th>\n",
       "      <th>RESRATE</th>\n",
       "      <th>surveyID_STATUS_1</th>\n",
       "      <th>res_cnt</th>\n",
       "      <th>TITLE</th>\n",
       "      <th>surveyID_STATUS_2</th>\n",
       "      <th>AVG_IR</th>\n",
       "      <th>TYPE_mean</th>\n",
       "      <th>...</th>\n",
       "      <th>STATUS_ratio_IR</th>\n",
       "      <th>REGION_status_mean</th>\n",
       "      <th>res_cnt_sum_RESRATE</th>\n",
       "      <th>BIRTH_status_mean</th>\n",
       "      <th>GENDER_multiply_RESRATE</th>\n",
       "      <th>REGION</th>\n",
       "      <th>res_cnt_multiply_GENDER</th>\n",
       "      <th>AGE</th>\n",
       "      <th>CLUSTER_0</th>\n",
       "      <th>CLUSTER_1</th>\n",
       "    </tr>\n",
       "  </thead>\n",
       "  <tbody>\n",
       "    <tr>\n",
       "      <th>0</th>\n",
       "      <td>3.187130</td>\n",
       "      <td>0.973481</td>\n",
       "      <td>0.026519</td>\n",
       "      <td>1.979742</td>\n",
       "      <td>0.772450</td>\n",
       "      <td>3.583263</td>\n",
       "      <td>1.166013</td>\n",
       "      <td>0.227550</td>\n",
       "      <td>2.023179</td>\n",
       "      <td>1.07907</td>\n",
       "      <td>...</td>\n",
       "      <td>-0.876278</td>\n",
       "      <td>1.278429</td>\n",
       "      <td>6.917070</td>\n",
       "      <td>0.391084</td>\n",
       "      <td>0.470117</td>\n",
       "      <td>2</td>\n",
       "      <td>2.737738</td>\n",
       "      <td>0.324194</td>\n",
       "      <td>1799.675541</td>\n",
       "      <td>76020.182566</td>\n",
       "    </tr>\n",
       "    <tr>\n",
       "      <th>1</th>\n",
       "      <td>3.187130</td>\n",
       "      <td>0.973481</td>\n",
       "      <td>0.026519</td>\n",
       "      <td>1.979742</td>\n",
       "      <td>0.689471</td>\n",
       "      <td>3.583263</td>\n",
       "      <td>1.166013</td>\n",
       "      <td>0.310529</td>\n",
       "      <td>2.023179</td>\n",
       "      <td>1.07907</td>\n",
       "      <td>...</td>\n",
       "      <td>-0.876278</td>\n",
       "      <td>1.278429</td>\n",
       "      <td>6.917070</td>\n",
       "      <td>0.391084</td>\n",
       "      <td>0.470117</td>\n",
       "      <td>2</td>\n",
       "      <td>2.737738</td>\n",
       "      <td>0.324194</td>\n",
       "      <td>1799.675933</td>\n",
       "      <td>76020.182578</td>\n",
       "    </tr>\n",
       "    <tr>\n",
       "      <th>2</th>\n",
       "      <td>3.187130</td>\n",
       "      <td>0.973481</td>\n",
       "      <td>0.026519</td>\n",
       "      <td>1.979742</td>\n",
       "      <td>0.323297</td>\n",
       "      <td>3.583263</td>\n",
       "      <td>1.166013</td>\n",
       "      <td>0.676703</td>\n",
       "      <td>2.023179</td>\n",
       "      <td>1.07907</td>\n",
       "      <td>...</td>\n",
       "      <td>-0.876278</td>\n",
       "      <td>1.278429</td>\n",
       "      <td>6.917070</td>\n",
       "      <td>0.391084</td>\n",
       "      <td>0.470117</td>\n",
       "      <td>2</td>\n",
       "      <td>2.737738</td>\n",
       "      <td>0.324194</td>\n",
       "      <td>1799.675062</td>\n",
       "      <td>76020.182547</td>\n",
       "    </tr>\n",
       "    <tr>\n",
       "      <th>3</th>\n",
       "      <td>3.187130</td>\n",
       "      <td>0.973481</td>\n",
       "      <td>0.026519</td>\n",
       "      <td>1.979742</td>\n",
       "      <td>0.259419</td>\n",
       "      <td>3.583263</td>\n",
       "      <td>1.166013</td>\n",
       "      <td>0.740581</td>\n",
       "      <td>2.023179</td>\n",
       "      <td>1.07907</td>\n",
       "      <td>...</td>\n",
       "      <td>-0.876278</td>\n",
       "      <td>1.278429</td>\n",
       "      <td>6.917070</td>\n",
       "      <td>0.391084</td>\n",
       "      <td>0.470117</td>\n",
       "      <td>2</td>\n",
       "      <td>2.737738</td>\n",
       "      <td>0.324194</td>\n",
       "      <td>1799.675063</td>\n",
       "      <td>76020.182548</td>\n",
       "    </tr>\n",
       "    <tr>\n",
       "      <th>4</th>\n",
       "      <td>3.187130</td>\n",
       "      <td>0.973481</td>\n",
       "      <td>0.026519</td>\n",
       "      <td>1.979742</td>\n",
       "      <td>0.269698</td>\n",
       "      <td>3.583263</td>\n",
       "      <td>1.166013</td>\n",
       "      <td>0.730302</td>\n",
       "      <td>2.023179</td>\n",
       "      <td>1.07907</td>\n",
       "      <td>...</td>\n",
       "      <td>-0.876278</td>\n",
       "      <td>1.278429</td>\n",
       "      <td>6.917070</td>\n",
       "      <td>0.391084</td>\n",
       "      <td>0.470117</td>\n",
       "      <td>2</td>\n",
       "      <td>2.737738</td>\n",
       "      <td>0.324194</td>\n",
       "      <td>1799.674846</td>\n",
       "      <td>76020.182543</td>\n",
       "    </tr>\n",
       "    <tr>\n",
       "      <th>...</th>\n",
       "      <td>...</td>\n",
       "      <td>...</td>\n",
       "      <td>...</td>\n",
       "      <td>...</td>\n",
       "      <td>...</td>\n",
       "      <td>...</td>\n",
       "      <td>...</td>\n",
       "      <td>...</td>\n",
       "      <td>...</td>\n",
       "      <td>...</td>\n",
       "      <td>...</td>\n",
       "      <td>...</td>\n",
       "      <td>...</td>\n",
       "      <td>...</td>\n",
       "      <td>...</td>\n",
       "      <td>...</td>\n",
       "      <td>...</td>\n",
       "      <td>...</td>\n",
       "      <td>...</td>\n",
       "      <td>...</td>\n",
       "      <td>...</td>\n",
       "    </tr>\n",
       "    <tr>\n",
       "      <th>813645</th>\n",
       "      <td>-0.427851</td>\n",
       "      <td>0.427653</td>\n",
       "      <td>0.572347</td>\n",
       "      <td>-0.317936</td>\n",
       "      <td>0.515092</td>\n",
       "      <td>-0.367256</td>\n",
       "      <td>-0.561855</td>\n",
       "      <td>0.484908</td>\n",
       "      <td>-0.589579</td>\n",
       "      <td>1.07907</td>\n",
       "      <td>...</td>\n",
       "      <td>0.538406</td>\n",
       "      <td>-0.192909</td>\n",
       "      <td>-0.893974</td>\n",
       "      <td>0.168214</td>\n",
       "      <td>-0.778092</td>\n",
       "      <td>16</td>\n",
       "      <td>-1.149170</td>\n",
       "      <td>-0.247005</td>\n",
       "      <td>1785.651199</td>\n",
       "      <td>76006.181935</td>\n",
       "    </tr>\n",
       "    <tr>\n",
       "      <th>813646</th>\n",
       "      <td>-0.427851</td>\n",
       "      <td>0.427653</td>\n",
       "      <td>0.572347</td>\n",
       "      <td>-0.317936</td>\n",
       "      <td>0.606866</td>\n",
       "      <td>-0.367256</td>\n",
       "      <td>-0.561855</td>\n",
       "      <td>0.393134</td>\n",
       "      <td>-0.589579</td>\n",
       "      <td>1.07907</td>\n",
       "      <td>...</td>\n",
       "      <td>0.915587</td>\n",
       "      <td>-0.192909</td>\n",
       "      <td>-0.893974</td>\n",
       "      <td>0.168214</td>\n",
       "      <td>-0.778092</td>\n",
       "      <td>16</td>\n",
       "      <td>-1.149170</td>\n",
       "      <td>-0.247005</td>\n",
       "      <td>1785.651761</td>\n",
       "      <td>76006.181947</td>\n",
       "    </tr>\n",
       "    <tr>\n",
       "      <th>813647</th>\n",
       "      <td>-0.427851</td>\n",
       "      <td>0.427653</td>\n",
       "      <td>0.572347</td>\n",
       "      <td>-0.317936</td>\n",
       "      <td>0.512186</td>\n",
       "      <td>-0.367256</td>\n",
       "      <td>-0.561855</td>\n",
       "      <td>0.487814</td>\n",
       "      <td>-0.589579</td>\n",
       "      <td>1.07907</td>\n",
       "      <td>...</td>\n",
       "      <td>0.724239</td>\n",
       "      <td>-0.192909</td>\n",
       "      <td>-0.893974</td>\n",
       "      <td>0.168214</td>\n",
       "      <td>-0.778092</td>\n",
       "      <td>16</td>\n",
       "      <td>-1.149170</td>\n",
       "      <td>-0.247005</td>\n",
       "      <td>1785.651155</td>\n",
       "      <td>76006.181929</td>\n",
       "    </tr>\n",
       "    <tr>\n",
       "      <th>813648</th>\n",
       "      <td>-0.427851</td>\n",
       "      <td>0.427653</td>\n",
       "      <td>0.572347</td>\n",
       "      <td>-0.317936</td>\n",
       "      <td>0.690244</td>\n",
       "      <td>-0.367256</td>\n",
       "      <td>-0.547996</td>\n",
       "      <td>0.309756</td>\n",
       "      <td>-0.589579</td>\n",
       "      <td>1.07907</td>\n",
       "      <td>...</td>\n",
       "      <td>1.123512</td>\n",
       "      <td>-0.192909</td>\n",
       "      <td>-0.893974</td>\n",
       "      <td>0.168214</td>\n",
       "      <td>-0.778092</td>\n",
       "      <td>16</td>\n",
       "      <td>-1.149170</td>\n",
       "      <td>-0.247005</td>\n",
       "      <td>1785.653692</td>\n",
       "      <td>76006.181992</td>\n",
       "    </tr>\n",
       "    <tr>\n",
       "      <th>813649</th>\n",
       "      <td>-0.427851</td>\n",
       "      <td>0.427653</td>\n",
       "      <td>0.572347</td>\n",
       "      <td>-0.317936</td>\n",
       "      <td>0.422606</td>\n",
       "      <td>-0.367256</td>\n",
       "      <td>1.166013</td>\n",
       "      <td>0.577394</td>\n",
       "      <td>-0.589579</td>\n",
       "      <td>1.07907</td>\n",
       "      <td>...</td>\n",
       "      <td>-0.876278</td>\n",
       "      <td>-0.192909</td>\n",
       "      <td>-0.893974</td>\n",
       "      <td>0.168214</td>\n",
       "      <td>-0.778092</td>\n",
       "      <td>16</td>\n",
       "      <td>-1.149170</td>\n",
       "      <td>-0.247005</td>\n",
       "      <td>1785.651427</td>\n",
       "      <td>76006.181925</td>\n",
       "    </tr>\n",
       "  </tbody>\n",
       "</table>\n",
       "<p>813650 rows × 35 columns</p>\n",
       "</div>"
      ],
      "text/plain": [
       "        Points_earned  userID_STATUS_1  userID_STATUS_2   RESRATE  \\\n",
       "0            3.187130         0.973481         0.026519  1.979742   \n",
       "1            3.187130         0.973481         0.026519  1.979742   \n",
       "2            3.187130         0.973481         0.026519  1.979742   \n",
       "3            3.187130         0.973481         0.026519  1.979742   \n",
       "4            3.187130         0.973481         0.026519  1.979742   \n",
       "...               ...              ...              ...       ...   \n",
       "813645      -0.427851         0.427653         0.572347 -0.317936   \n",
       "813646      -0.427851         0.427653         0.572347 -0.317936   \n",
       "813647      -0.427851         0.427653         0.572347 -0.317936   \n",
       "813648      -0.427851         0.427653         0.572347 -0.317936   \n",
       "813649      -0.427851         0.427653         0.572347 -0.317936   \n",
       "\n",
       "        surveyID_STATUS_1   res_cnt     TITLE  surveyID_STATUS_2    AVG_IR  \\\n",
       "0                0.772450  3.583263  1.166013           0.227550  2.023179   \n",
       "1                0.689471  3.583263  1.166013           0.310529  2.023179   \n",
       "2                0.323297  3.583263  1.166013           0.676703  2.023179   \n",
       "3                0.259419  3.583263  1.166013           0.740581  2.023179   \n",
       "4                0.269698  3.583263  1.166013           0.730302  2.023179   \n",
       "...                   ...       ...       ...                ...       ...   \n",
       "813645           0.515092 -0.367256 -0.561855           0.484908 -0.589579   \n",
       "813646           0.606866 -0.367256 -0.561855           0.393134 -0.589579   \n",
       "813647           0.512186 -0.367256 -0.561855           0.487814 -0.589579   \n",
       "813648           0.690244 -0.367256 -0.547996           0.309756 -0.589579   \n",
       "813649           0.422606 -0.367256  1.166013           0.577394 -0.589579   \n",
       "\n",
       "        TYPE_mean  ...  STATUS_ratio_IR  REGION_status_mean  \\\n",
       "0         1.07907  ...        -0.876278            1.278429   \n",
       "1         1.07907  ...        -0.876278            1.278429   \n",
       "2         1.07907  ...        -0.876278            1.278429   \n",
       "3         1.07907  ...        -0.876278            1.278429   \n",
       "4         1.07907  ...        -0.876278            1.278429   \n",
       "...           ...  ...              ...                 ...   \n",
       "813645    1.07907  ...         0.538406           -0.192909   \n",
       "813646    1.07907  ...         0.915587           -0.192909   \n",
       "813647    1.07907  ...         0.724239           -0.192909   \n",
       "813648    1.07907  ...         1.123512           -0.192909   \n",
       "813649    1.07907  ...        -0.876278           -0.192909   \n",
       "\n",
       "        res_cnt_sum_RESRATE  BIRTH_status_mean  GENDER_multiply_RESRATE  \\\n",
       "0                  6.917070           0.391084                 0.470117   \n",
       "1                  6.917070           0.391084                 0.470117   \n",
       "2                  6.917070           0.391084                 0.470117   \n",
       "3                  6.917070           0.391084                 0.470117   \n",
       "4                  6.917070           0.391084                 0.470117   \n",
       "...                     ...                ...                      ...   \n",
       "813645            -0.893974           0.168214                -0.778092   \n",
       "813646            -0.893974           0.168214                -0.778092   \n",
       "813647            -0.893974           0.168214                -0.778092   \n",
       "813648            -0.893974           0.168214                -0.778092   \n",
       "813649            -0.893974           0.168214                -0.778092   \n",
       "\n",
       "        REGION  res_cnt_multiply_GENDER       AGE    CLUSTER_0     CLUSTER_1  \n",
       "0            2                 2.737738  0.324194  1799.675541  76020.182566  \n",
       "1            2                 2.737738  0.324194  1799.675933  76020.182578  \n",
       "2            2                 2.737738  0.324194  1799.675062  76020.182547  \n",
       "3            2                 2.737738  0.324194  1799.675063  76020.182548  \n",
       "4            2                 2.737738  0.324194  1799.674846  76020.182543  \n",
       "...        ...                      ...       ...          ...           ...  \n",
       "813645      16                -1.149170 -0.247005  1785.651199  76006.181935  \n",
       "813646      16                -1.149170 -0.247005  1785.651761  76006.181947  \n",
       "813647      16                -1.149170 -0.247005  1785.651155  76006.181929  \n",
       "813648      16                -1.149170 -0.247005  1785.653692  76006.181992  \n",
       "813649      16                -1.149170 -0.247005  1785.651427  76006.181925  \n",
       "\n",
       "[813650 rows x 35 columns]"
      ]
     },
     "execution_count": 117,
     "metadata": {},
     "output_type": "execute_result"
    }
   ],
   "source": [
    "X_train"
   ]
  },
  {
   "cell_type": "code",
   "execution_count": 118,
   "metadata": {},
   "outputs": [],
   "source": [
    "X_train = np.log1p(X_train + 1)\n",
    "X_test = np.log1p(X_test + 1)"
   ]
  },
  {
   "cell_type": "markdown",
   "metadata": {
    "papermill": {
     "duration": 0.010708,
     "end_time": "2023-12-11T12:10:35.124721",
     "exception": false,
     "start_time": "2023-12-11T12:10:35.114013",
     "status": "completed"
    },
    "tags": []
   },
   "source": [
    "### Model building"
   ]
  },
  {
   "cell_type": "code",
   "execution_count": 120,
   "metadata": {},
   "outputs": [],
   "source": [
    "kf = KFold(n_splits=5, shuffle=True, random_state=42)"
   ]
  },
  {
   "cell_type": "code",
   "execution_count": 121,
   "metadata": {},
   "outputs": [],
   "source": [
    "from sklearn.metrics import accuracy_score\n",
    "from sklearn.linear_model import RidgeClassifier"
   ]
  },
  {
   "cell_type": "code",
   "execution_count": 122,
   "metadata": {},
   "outputs": [],
   "source": [
    "# def objective(trial):\n",
    "#     params = {\n",
    "#         \"n_estimators\": 5000,\n",
    "#         \"random_state\" : 42,\n",
    "#         \"n_jobs\" : -1,\n",
    "#         \"learning_rate\": 0.05,\n",
    "#         \"max_depth\": trial.suggest_int(\"max_depth\", 5, 15),  \n",
    "#         \"objective\" : 'binary:logistic',\n",
    "#         'eval_metric': 'error',\n",
    "#         \"subsample\" : trial.suggest_categorical(\"subsample\", [0.5,0.6,0.7,0.8,0.9,1.0]),\n",
    "#         \"colsample_bytree\" : trial.suggest_categorical(\"colsample_bytree\", [0.5,0.6,0.7,0.8,0.9,1.0]), \n",
    "#         \"min_child_weight\": trial.suggest_float(\"min_child_weight\", 0.000001, 1, log = True),\n",
    "#         'reg_alpha': trial.suggest_uniform('reg_alpha', 0.0, 1.0),\n",
    "#         'reg_lambda': trial.suggest_uniform('reg_lambda', 0.0, 10.0),\n",
    "#     }\n",
    "\n",
    "#     model = XGBClassifier(**params)\n",
    "#     XGB_pred = np.zeros((X_test.shape[0]))\n",
    "#     AC_list = []\n",
    "#     for tr_idx, val_idx in kf.split(X_train, y_train):\n",
    "#         tr_x, tr_y = X_train.iloc[tr_idx], y_train.iloc[tr_idx]\n",
    "#         val_x, val_y = X_train.iloc[val_idx], y_train.iloc[val_idx]\n",
    "#         model.fit(tr_x, tr_y, eval_set=[(val_x, val_y)], early_stopping_rounds=1000, verbose=0)\n",
    "#         pred = model.predict(val_x)\n",
    "\n",
    "\n",
    "#         AC = accuracy_score(val_y, pred)\n",
    "#         AC_list.append(AC)\n",
    "\n",
    "#         print('AC :', AC)\n",
    "\n",
    "#     return np.mean(AC_list)"
   ]
  },
  {
   "cell_type": "code",
   "execution_count": 123,
   "metadata": {
    "scrolled": true
   },
   "outputs": [],
   "source": [
    "# pruner2 = optuna.pruners.MedianPruner()\n",
    "# study2 = optuna.create_study(pruner=pruner2, direction=\"maximize\",sampler=TPESampler(seed=42))\n",
    "# study2.optimize(objective, n_trials=200)\n",
    "\n",
    "# print(\"Number of finished trials: {}\".format(len(study2.trials)))\n",
    "\n",
    "# print(\"Best trial:\")\n",
    "# trial = study2.best_trial\n",
    "\n",
    "# print(\"  Value: {}\".format(trial.value))\n",
    "\n",
    "# print(\"  Params: \")"
   ]
  },
  {
   "cell_type": "code",
   "execution_count": 124,
   "metadata": {},
   "outputs": [],
   "source": [
    "# study2.best_params"
   ]
  },
  {
   "cell_type": "code",
   "execution_count": 126,
   "metadata": {
    "scrolled": true
   },
   "outputs": [
    {
     "name": "stdout",
     "output_type": "stream",
     "text": [
      "Training Fold 1...\n",
      "[0]\tvalidation_0-error:0.14268\n",
      "[500]\tvalidation_0-error:0.13482\n",
      "[1000]\tvalidation_0-error:0.13209\n",
      "[1500]\tvalidation_0-error:0.13059\n",
      "[2000]\tvalidation_0-error:0.12999\n",
      "[2500]\tvalidation_0-error:0.12958\n",
      "[3000]\tvalidation_0-error:0.12937\n",
      "[3500]\tvalidation_0-error:0.12950\n",
      "[4000]\tvalidation_0-error:0.12931\n",
      "[4500]\tvalidation_0-error:0.12955\n",
      "[4999]\tvalidation_0-error:0.12951\n",
      "0.8707368032937995\n",
      "Fold 1 training duration: 1256.74 seconds\n",
      "\n",
      "Training Fold 2...\n",
      "[0]\tvalidation_0-error:0.14320\n",
      "[500]\tvalidation_0-error:0.13465\n",
      "[1000]\tvalidation_0-error:0.13207\n",
      "[1500]\tvalidation_0-error:0.13076\n",
      "[2000]\tvalidation_0-error:0.12994\n",
      "[2500]\tvalidation_0-error:0.12991\n",
      "[3000]\tvalidation_0-error:0.12947\n",
      "[3500]\tvalidation_0-error:0.12935\n",
      "[4000]\tvalidation_0-error:0.12934\n",
      "[4500]\tvalidation_0-error:0.12947\n",
      "[4576]\tvalidation_0-error:0.12942\n",
      "0.8707736741842316\n",
      "Fold 2 training duration: 1361.19 seconds\n",
      "\n",
      "Training Fold 3...\n",
      "[0]\tvalidation_0-error:0.14216\n",
      "[500]\tvalidation_0-error:0.13428\n",
      "[1000]\tvalidation_0-error:0.13121\n",
      "[1500]\tvalidation_0-error:0.12940\n",
      "[2000]\tvalidation_0-error:0.12854\n",
      "[2500]\tvalidation_0-error:0.12833\n",
      "[3000]\tvalidation_0-error:0.12813\n",
      "[3500]\tvalidation_0-error:0.12804\n",
      "[4000]\tvalidation_0-error:0.12827\n",
      "[4500]\tvalidation_0-error:0.12841\n",
      "[4648]\tvalidation_0-error:0.12842\n",
      "0.8720395747557304\n",
      "Fold 3 training duration: 1298.79 seconds\n",
      "\n",
      "Training Fold 4...\n",
      "[0]\tvalidation_0-error:0.14240\n",
      "[500]\tvalidation_0-error:0.13409\n",
      "[1000]\tvalidation_0-error:0.13172\n",
      "[1500]\tvalidation_0-error:0.12989\n",
      "[2000]\tvalidation_0-error:0.12919\n",
      "[2500]\tvalidation_0-error:0.12905\n",
      "[3000]\tvalidation_0-error:0.12891\n",
      "[3500]\tvalidation_0-error:0.12899\n",
      "[3804]\tvalidation_0-error:0.12896\n",
      "0.8711853991273889\n",
      "Fold 4 training duration: 1076.26 seconds\n",
      "\n",
      "Training Fold 5...\n",
      "[0]\tvalidation_0-error:0.14385\n",
      "[500]\tvalidation_0-error:0.13591\n",
      "[1000]\tvalidation_0-error:0.13296\n",
      "[1500]\tvalidation_0-error:0.13135\n",
      "[2000]\tvalidation_0-error:0.13061\n",
      "[2500]\tvalidation_0-error:0.13009\n",
      "[3000]\tvalidation_0-error:0.12990\n",
      "[3500]\tvalidation_0-error:0.12984\n",
      "[4000]\tvalidation_0-error:0.12971\n",
      "[4500]\tvalidation_0-error:0.12968\n",
      "[4999]\tvalidation_0-error:0.12979\n",
      "0.8704172555767222\n",
      "Fold 5 training duration: 1410.41 seconds\n",
      "\n",
      "\n",
      "Average accuracy across folds: 0.8710305413875744\n",
      "Total training duration: 6403.50 seconds\n"
     ]
    }
   ],
   "source": [
    "scores = []  # CV 결과 저장\n",
    "oof_pred = np.zeros(X_test.shape[0])  # OOF 저장\n",
    "oof_pred_2 = np.zeros(X_test.shape[0])\n",
    "kfold = KFold(n_splits=5, shuffle=True, random_state=42)  # K-Folds cross-validator\n",
    "\n",
    "param = {\n",
    "    \"max_depth\": 8,\n",
    "    \"subsample\": 0.9,\n",
    "    \"colsample_bytree\": 0.7,\n",
    "    \"objective\": 'binary:logistic',\n",
    "    \"min_child_weight\": 2.781428564375755e-06,\n",
    "    \"reg_alpha\": 0.3584657285442726, \n",
    "    \"reg_lambda\": 1.1586905952512971,\n",
    "    \"eval_metric\": 'error',  # early stopping을 위한 지표 설정\n",
    "    # 다른 파라미터들 추가 가능\n",
    "}\n",
    "\n",
    "total_start_time = time.time()\n",
    "\n",
    "for fold, (train_index, valid_index) in enumerate(kfold.split(X_train, y_train), 1):\n",
    "    print(f\"Training Fold {fold}...\")\n",
    "\n",
    "    fold_start_time = time.time()  # 각 Fold의 학습 시작 시간 기록\n",
    "\n",
    "    # 학습/검증 데이터 분할\n",
    "    train_x, valid_x = X_train.iloc[train_index], X_train.iloc[valid_index]\n",
    "    train_y, valid_y = y_train.iloc[train_index], y_train.iloc[valid_index]\n",
    "\n",
    "    # XGB 모델 정의\n",
    "    model = XGBClassifier(\n",
    "    n_estimators=5000,\n",
    "    random_state=42,\n",
    "    n_jobs=-1,\n",
    "    learning_rate=0.01,\n",
    "    **param\n",
    "    )\n",
    "    \n",
    "    model.fit(train_x, train_y,\n",
    "              eval_set=[(valid_x, valid_y)],\n",
    "              early_stopping_rounds=1000,\n",
    "              verbose = 500,\n",
    "             )\n",
    "\n",
    "    # CV 스코어 계산 및 저장\n",
    "    y_pred = model.predict(valid_x)\n",
    "    accuracy = accuracy_score(valid_y, y_pred)\n",
    "    scores.append(accuracy)\n",
    "    \n",
    "    print(accuracy)\n",
    "\n",
    "    # OOF 예측값 저장\n",
    "    oof_pred += model.predict(X_test)/ kfold.get_n_splits()# 클래스 1의 확률 사용\n",
    "    oof_pred_2 += (model.predict_proba(X_test)[:,1] >= 0.495).astype(int)/ kfold.get_n_splits()\n",
    "\n",
    "    fold_end_time = time.time()\n",
    "    fold_duration = fold_end_time - fold_start_time\n",
    "    print(f\"Fold {fold} training duration: {fold_duration:.2f} seconds\\n\")\n",
    "\n",
    "total_end_time = time.time()\n",
    "total_duration = total_end_time - total_start_time\n",
    "\n",
    "# CV 스코어 출력\n",
    "print(f\"\\nAverage accuracy across folds: {np.mean(scores)}\")\n",
    "print(f\"Total training duration: {total_duration:.2f} seconds\")"
   ]
  },
  {
   "cell_type": "code",
   "execution_count": 127,
   "metadata": {},
   "outputs": [],
   "source": [
    "threshold = 0.6  # 임계값 설정 (예측 확률이 이 값 이상이면 1, 미만이면 0으로 간주)\n",
    "binary_pred_2 = (oof_pred_2 >= threshold).astype(int)"
   ]
  },
  {
   "cell_type": "markdown",
   "metadata": {
    "papermill": {
     "duration": 0.010844,
     "end_time": "2023-12-11T12:10:41.698157",
     "exception": false,
     "start_time": "2023-12-11T12:10:41.687313",
     "status": "completed"
    },
    "tags": []
   },
   "source": [
    "##### Make a submission"
   ]
  },
  {
   "cell_type": "code",
   "execution_count": 130,
   "metadata": {
    "papermill": {
     "duration": 1.270123,
     "end_time": "2023-12-11T12:10:42.979313",
     "exception": false,
     "start_time": "2023-12-11T12:10:41.70919",
     "status": "completed"
    },
    "tags": []
   },
   "outputs": [
    {
     "name": "stdout",
     "output_type": "stream",
     "text": [
      "'final_XGB_kmeans_0.612201716.csv' is ready to submit.\n"
     ]
    }
   ],
   "source": [
    "t = pd.Timestamp.now()\n",
    "fname = f\"final_XGB_kmeans_0.6{t.month:02}{t.day:02}{t.hour:02}{t.minute:02}.csv\"\n",
    "pd.DataFrame({'ID': ID_test, 'STATUS': binary_pred_2}).to_csv(fname, index=False)\n",
    "print(f\"'{fname}' is ready to submit.\")"
   ]
  }
 ],
 "metadata": {
  "kaggle": {
   "accelerator": "none",
   "dataSources": [
    {
     "databundleVersionId": 7261066,
     "sourceId": 65909,
     "sourceType": "competition"
    }
   ],
   "dockerImageVersionId": 30615,
   "isGpuEnabled": false,
   "isInternetEnabled": true,
   "language": "python",
   "sourceType": "notebook"
  },
  "kernelspec": {
   "display_name": "Python 3 (ipykernel)",
   "language": "python",
   "name": "python3"
  },
  "language_info": {
   "codemirror_mode": {
    "name": "ipython",
    "version": 3
   },
   "file_extension": ".py",
   "mimetype": "text/x-python",
   "name": "python",
   "nbconvert_exporter": "python",
   "pygments_lexer": "ipython3",
   "version": "3.9.12"
  },
  "papermill": {
   "default_parameters": {},
   "duration": 65.031816,
   "end_time": "2023-12-11T12:10:43.93772",
   "environment_variables": {},
   "exception": null,
   "input_path": "__notebook__.ipynb",
   "output_path": "__notebook__.ipynb",
   "parameters": {},
   "start_time": "2023-12-11T12:09:38.905904",
   "version": "2.4.0"
  }
 },
 "nbformat": 4,
 "nbformat_minor": 4
}
